{
 "cells": [
  {
   "cell_type": "code",
   "execution_count": 1,
   "id": "6d939bef",
   "metadata": {},
   "outputs": [],
   "source": [
    "import pandas as pd\n",
    "import numpy as np\n",
    "import json\n",
    "\n",
    "from sklearn.metrics import precision_score, recall_score"
   ]
  },
  {
   "cell_type": "markdown",
   "id": "928e99f8",
   "metadata": {},
   "source": [
    "# Read data and scores dict"
   ]
  },
  {
   "cell_type": "code",
   "execution_count": 3,
   "id": "ff83e2ee",
   "metadata": {},
   "outputs": [],
   "source": [
    "df = pd.read_csv(\"../data/warm_up_data.csv\")"
   ]
  },
  {
   "cell_type": "code",
   "execution_count": 4,
   "id": "0207dd72",
   "metadata": {},
   "outputs": [],
   "source": [
    "with open('../data/AFINN-111-scores.json', 'r') as fp:\n",
    "     scores_dict = json.load(fp)"
   ]
  },
  {
   "cell_type": "markdown",
   "id": "d2b1253b",
   "metadata": {},
   "source": [
    "List unique airlines within the dataframe"
   ]
  },
  {
   "cell_type": "code",
   "execution_count": 8,
   "id": "d1e4e4fe",
   "metadata": {},
   "outputs": [
    {
     "data": {
      "text/plain": [
       "array(['Virgin America', 'United', 'Southwest', 'Delta', 'US Airways',\n",
       "       'American'], dtype=object)"
      ]
     },
     "execution_count": 8,
     "metadata": {},
     "output_type": "execute_result"
    }
   ],
   "source": [
    "df.airline.unique()"
   ]
  },
  {
   "cell_type": "markdown",
   "id": "6f59b324",
   "metadata": {},
   "source": [
    "# Data preparation"
   ]
  },
  {
   "cell_type": "markdown",
   "id": "954ada17",
   "metadata": {},
   "source": [
    "Convert airline sentiment column to numeric class"
   ]
  },
  {
   "cell_type": "code",
   "execution_count": 14,
   "id": "00b75ca6",
   "metadata": {},
   "outputs": [
    {
     "data": {
      "text/plain": [
       "{'negative': -1, 'neutral': 0, 'positive': 1}"
      ]
     },
     "execution_count": 14,
     "metadata": {},
     "output_type": "execute_result"
    }
   ],
   "source": [
    "slist = df.airline_sentiment.unique()\n",
    "sint = [-1, 0, 1]\n",
    "\n",
    "sent_dict = dict(zip(slist, sint))\n",
    "sent_dict"
   ]
  },
  {
   "cell_type": "code",
   "execution_count": 15,
   "id": "0ed9ec56",
   "metadata": {},
   "outputs": [],
   "source": [
    "df['sentiment_class_true'] = df.airline_sentiment.apply(lambda x: sent_dict[x])"
   ]
  },
  {
   "cell_type": "code",
   "execution_count": 16,
   "id": "d55961ae",
   "metadata": {},
   "outputs": [
    {
     "data": {
      "text/html": [
       "<div>\n",
       "<style scoped>\n",
       "    .dataframe tbody tr th:only-of-type {\n",
       "        vertical-align: middle;\n",
       "    }\n",
       "\n",
       "    .dataframe tbody tr th {\n",
       "        vertical-align: top;\n",
       "    }\n",
       "\n",
       "    .dataframe thead th {\n",
       "        text-align: right;\n",
       "    }\n",
       "</style>\n",
       "<table border=\"1\" class=\"dataframe\">\n",
       "  <thead>\n",
       "    <tr style=\"text-align: right;\">\n",
       "      <th></th>\n",
       "      <th>tweet_id</th>\n",
       "      <th>airline_sentiment</th>\n",
       "      <th>text</th>\n",
       "      <th>airline</th>\n",
       "      <th>sentiment_class_true</th>\n",
       "    </tr>\n",
       "  </thead>\n",
       "  <tbody>\n",
       "    <tr>\n",
       "      <th>0</th>\n",
       "      <td>570301031407624196</td>\n",
       "      <td>negative</td>\n",
       "      <td>@VirginAmerica it's really aggressive to blast...</td>\n",
       "      <td>Virgin America</td>\n",
       "      <td>-1</td>\n",
       "    </tr>\n",
       "    <tr>\n",
       "      <th>1</th>\n",
       "      <td>570300817074462722</td>\n",
       "      <td>negative</td>\n",
       "      <td>@VirginAmerica and it's a really big bad thing...</td>\n",
       "      <td>Virgin America</td>\n",
       "      <td>-1</td>\n",
       "    </tr>\n",
       "    <tr>\n",
       "      <th>2</th>\n",
       "      <td>570300767074181121</td>\n",
       "      <td>negative</td>\n",
       "      <td>@VirginAmerica seriously would pay $30 a fligh...</td>\n",
       "      <td>Virgin America</td>\n",
       "      <td>-1</td>\n",
       "    </tr>\n",
       "    <tr>\n",
       "      <th>3</th>\n",
       "      <td>570300248553349120</td>\n",
       "      <td>neutral</td>\n",
       "      <td>@VirginAmerica Really missed a prime opportuni...</td>\n",
       "      <td>Virgin America</td>\n",
       "      <td>0</td>\n",
       "    </tr>\n",
       "    <tr>\n",
       "      <th>4</th>\n",
       "      <td>570295459631263746</td>\n",
       "      <td>positive</td>\n",
       "      <td>@VirginAmerica it was amazing, and arrived an ...</td>\n",
       "      <td>Virgin America</td>\n",
       "      <td>1</td>\n",
       "    </tr>\n",
       "  </tbody>\n",
       "</table>\n",
       "</div>"
      ],
      "text/plain": [
       "             tweet_id airline_sentiment  \\\n",
       "0  570301031407624196          negative   \n",
       "1  570300817074462722          negative   \n",
       "2  570300767074181121          negative   \n",
       "3  570300248553349120           neutral   \n",
       "4  570295459631263746          positive   \n",
       "\n",
       "                                                text         airline  \\\n",
       "0  @VirginAmerica it's really aggressive to blast...  Virgin America   \n",
       "1  @VirginAmerica and it's a really big bad thing...  Virgin America   \n",
       "2  @VirginAmerica seriously would pay $30 a fligh...  Virgin America   \n",
       "3  @VirginAmerica Really missed a prime opportuni...  Virgin America   \n",
       "4  @VirginAmerica it was amazing, and arrived an ...  Virgin America   \n",
       "\n",
       "   sentiment_class_true  \n",
       "0                    -1  \n",
       "1                    -1  \n",
       "2                    -1  \n",
       "3                     0  \n",
       "4                     1  "
      ]
     },
     "execution_count": 16,
     "metadata": {},
     "output_type": "execute_result"
    }
   ],
   "source": [
    "df.head()"
   ]
  },
  {
   "cell_type": "markdown",
   "id": "66cad1ad",
   "metadata": {},
   "source": [
    "# Assign text sentiment score based on scores dict"
   ]
  },
  {
   "cell_type": "markdown",
   "id": "d19b508b",
   "metadata": {},
   "source": [
    "Write assign_score function, which will summarize scores of all words present within scores_dict and calculate sentiment_score_hat for each tweet"
   ]
  },
  {
   "cell_type": "code",
   "execution_count": 17,
   "id": "44b88893",
   "metadata": {},
   "outputs": [
    {
     "data": {
      "text/plain": [
       "['@VirginAmerica',\n",
       " \"it's\",\n",
       " 'really',\n",
       " 'aggressive',\n",
       " 'to',\n",
       " 'blast',\n",
       " 'obnoxious',\n",
       " '\"entertainment\"',\n",
       " 'in',\n",
       " 'your',\n",
       " \"guests'\",\n",
       " 'faces',\n",
       " '&amp;',\n",
       " 'they',\n",
       " 'have',\n",
       " 'little',\n",
       " 'recourse']"
      ]
     },
     "execution_count": 17,
     "metadata": {},
     "output_type": "execute_result"
    }
   ],
   "source": [
    "df.text[0].split()"
   ]
  },
  {
   "cell_type": "code",
   "execution_count": 20,
   "id": "5bb71088",
   "metadata": {},
   "outputs": [],
   "source": [
    "def assign_score(text):\n",
    "    score = 0\n",
    "    for word in text.split():\n",
    "        score += scores_dict.get(word.lower(), 0)\n",
    "    return score"
   ]
  },
  {
   "cell_type": "code",
   "execution_count": 21,
   "id": "d68f9d34",
   "metadata": {},
   "outputs": [
    {
     "data": {
      "text/plain": [
       "-5"
      ]
     },
     "execution_count": 21,
     "metadata": {},
     "output_type": "execute_result"
    }
   ],
   "source": [
    "assign_score(df.text[0])"
   ]
  },
  {
   "cell_type": "code",
   "execution_count": 31,
   "id": "4943a16d",
   "metadata": {},
   "outputs": [],
   "source": [
    "df[\"sentiment_score_hat\"] = df.text.apply(assign_score)"
   ]
  },
  {
   "cell_type": "code",
   "execution_count": 32,
   "id": "20c08e6d",
   "metadata": {},
   "outputs": [
    {
     "data": {
      "text/html": [
       "<div>\n",
       "<style scoped>\n",
       "    .dataframe tbody tr th:only-of-type {\n",
       "        vertical-align: middle;\n",
       "    }\n",
       "\n",
       "    .dataframe tbody tr th {\n",
       "        vertical-align: top;\n",
       "    }\n",
       "\n",
       "    .dataframe thead th {\n",
       "        text-align: right;\n",
       "    }\n",
       "</style>\n",
       "<table border=\"1\" class=\"dataframe\">\n",
       "  <thead>\n",
       "    <tr style=\"text-align: right;\">\n",
       "      <th></th>\n",
       "      <th>tweet_id</th>\n",
       "      <th>sentiment_class_true</th>\n",
       "      <th>sentiment_score_hat</th>\n",
       "    </tr>\n",
       "  </thead>\n",
       "  <tbody>\n",
       "    <tr>\n",
       "      <th>count</th>\n",
       "      <td>9.489000e+03</td>\n",
       "      <td>9489.000000</td>\n",
       "      <td>9489.000000</td>\n",
       "    </tr>\n",
       "    <tr>\n",
       "      <th>mean</th>\n",
       "      <td>5.692240e+17</td>\n",
       "      <td>-0.475919</td>\n",
       "      <td>0.284540</td>\n",
       "    </tr>\n",
       "    <tr>\n",
       "      <th>std</th>\n",
       "      <td>7.784248e+14</td>\n",
       "      <td>0.794741</td>\n",
       "      <td>2.853243</td>\n",
       "    </tr>\n",
       "    <tr>\n",
       "      <th>min</th>\n",
       "      <td>5.675883e+17</td>\n",
       "      <td>-1.000000</td>\n",
       "      <td>-13.000000</td>\n",
       "    </tr>\n",
       "    <tr>\n",
       "      <th>25%</th>\n",
       "      <td>5.685628e+17</td>\n",
       "      <td>-1.000000</td>\n",
       "      <td>-2.000000</td>\n",
       "    </tr>\n",
       "    <tr>\n",
       "      <th>50%</th>\n",
       "      <td>5.694956e+17</td>\n",
       "      <td>-1.000000</td>\n",
       "      <td>0.000000</td>\n",
       "    </tr>\n",
       "    <tr>\n",
       "      <th>75%</th>\n",
       "      <td>5.698846e+17</td>\n",
       "      <td>0.000000</td>\n",
       "      <td>2.000000</td>\n",
       "    </tr>\n",
       "    <tr>\n",
       "      <th>max</th>\n",
       "      <td>5.703106e+17</td>\n",
       "      <td>1.000000</td>\n",
       "      <td>16.000000</td>\n",
       "    </tr>\n",
       "  </tbody>\n",
       "</table>\n",
       "</div>"
      ],
      "text/plain": [
       "           tweet_id  sentiment_class_true  sentiment_score_hat\n",
       "count  9.489000e+03           9489.000000          9489.000000\n",
       "mean   5.692240e+17             -0.475919             0.284540\n",
       "std    7.784248e+14              0.794741             2.853243\n",
       "min    5.675883e+17             -1.000000           -13.000000\n",
       "25%    5.685628e+17             -1.000000            -2.000000\n",
       "50%    5.694956e+17             -1.000000             0.000000\n",
       "75%    5.698846e+17              0.000000             2.000000\n",
       "max    5.703106e+17              1.000000            16.000000"
      ]
     },
     "execution_count": 32,
     "metadata": {},
     "output_type": "execute_result"
    }
   ],
   "source": [
    "df.describe()"
   ]
  },
  {
   "cell_type": "markdown",
   "id": "4d5c5480",
   "metadata": {},
   "source": [
    "## Split sentiment scores to class"
   ]
  },
  {
   "cell_type": "markdown",
   "id": "202ffee2",
   "metadata": {},
   "source": [
    "Write a classify_sentiment functions, which will assign label numeric labels [-1,0,1] for based on predicted sentiment score. Recommended use of pd.cut"
   ]
  },
  {
   "cell_type": "code",
   "execution_count": 36,
   "id": "67333280",
   "metadata": {},
   "outputs": [],
   "source": [
    "def classify_sentiment(score_col, negative_th, positive_th):\n",
    "    bins = [-100, negative_th, positive_th, 100]\n",
    "    labels = [-1, 0, 1]\n",
    "    score_class = pd.cut(score_col, bins=bins, labels=labels).astype(int)\n",
    "\n",
    "    \"\"\"assign class here here\"\"\"\n",
    "    return score_class"
   ]
  },
  {
   "cell_type": "code",
   "execution_count": 37,
   "id": "4c02bfba",
   "metadata": {},
   "outputs": [
    {
     "data": {
      "text/plain": [
       "0      -1\n",
       "1      -1\n",
       "2      -1\n",
       "3       0\n",
       "4       1\n",
       "       ..\n",
       "9484    0\n",
       "9485   -1\n",
       "9486    1\n",
       "9487   -1\n",
       "9488    0\n",
       "Name: sentiment_score_hat, Length: 9489, dtype: int32"
      ]
     },
     "execution_count": 37,
     "metadata": {},
     "output_type": "execute_result"
    }
   ],
   "source": [
    "classify_sentiment(df.sentiment_score_hat, -1,1)"
   ]
  },
  {
   "cell_type": "code",
   "execution_count": 39,
   "id": "642549da",
   "metadata": {},
   "outputs": [],
   "source": [
    "df[\"sentiment_class_hat\"] = classify_sentiment(df.sentiment_score_hat, -1,1)"
   ]
  },
  {
   "cell_type": "code",
   "execution_count": 40,
   "id": "3f5666fd",
   "metadata": {},
   "outputs": [
    {
     "data": {
      "text/html": [
       "<div>\n",
       "<style scoped>\n",
       "    .dataframe tbody tr th:only-of-type {\n",
       "        vertical-align: middle;\n",
       "    }\n",
       "\n",
       "    .dataframe tbody tr th {\n",
       "        vertical-align: top;\n",
       "    }\n",
       "\n",
       "    .dataframe thead th {\n",
       "        text-align: right;\n",
       "    }\n",
       "</style>\n",
       "<table border=\"1\" class=\"dataframe\">\n",
       "  <thead>\n",
       "    <tr style=\"text-align: right;\">\n",
       "      <th></th>\n",
       "      <th>sentiment_class_hat</th>\n",
       "      <th>tweet_id</th>\n",
       "    </tr>\n",
       "  </thead>\n",
       "  <tbody>\n",
       "    <tr>\n",
       "      <th>0</th>\n",
       "      <td>-1</td>\n",
       "      <td>4332</td>\n",
       "    </tr>\n",
       "    <tr>\n",
       "      <th>1</th>\n",
       "      <td>0</td>\n",
       "      <td>1607</td>\n",
       "    </tr>\n",
       "    <tr>\n",
       "      <th>2</th>\n",
       "      <td>1</td>\n",
       "      <td>3550</td>\n",
       "    </tr>\n",
       "  </tbody>\n",
       "</table>\n",
       "</div>"
      ],
      "text/plain": [
       "   sentiment_class_hat  tweet_id\n",
       "0                   -1      4332\n",
       "1                    0      1607\n",
       "2                    1      3550"
      ]
     },
     "execution_count": 40,
     "metadata": {},
     "output_type": "execute_result"
    }
   ],
   "source": [
    "df.groupby('sentiment_class_hat', as_index=False).tweet_id.count()"
   ]
  },
  {
   "cell_type": "code",
   "execution_count": 41,
   "id": "865f7b17",
   "metadata": {},
   "outputs": [
    {
     "data": {
      "text/html": [
       "<div>\n",
       "<style scoped>\n",
       "    .dataframe tbody tr th:only-of-type {\n",
       "        vertical-align: middle;\n",
       "    }\n",
       "\n",
       "    .dataframe tbody tr th {\n",
       "        vertical-align: top;\n",
       "    }\n",
       "\n",
       "    .dataframe thead th {\n",
       "        text-align: right;\n",
       "    }\n",
       "</style>\n",
       "<table border=\"1\" class=\"dataframe\">\n",
       "  <thead>\n",
       "    <tr style=\"text-align: right;\">\n",
       "      <th></th>\n",
       "      <th>sentiment_class_true</th>\n",
       "      <th>sentiment_class_hat</th>\n",
       "    </tr>\n",
       "  </thead>\n",
       "  <tbody>\n",
       "    <tr>\n",
       "      <th>0</th>\n",
       "      <td>-1</td>\n",
       "      <td>-1</td>\n",
       "    </tr>\n",
       "    <tr>\n",
       "      <th>1</th>\n",
       "      <td>-1</td>\n",
       "      <td>-1</td>\n",
       "    </tr>\n",
       "    <tr>\n",
       "      <th>2</th>\n",
       "      <td>-1</td>\n",
       "      <td>-1</td>\n",
       "    </tr>\n",
       "    <tr>\n",
       "      <th>3</th>\n",
       "      <td>0</td>\n",
       "      <td>0</td>\n",
       "    </tr>\n",
       "    <tr>\n",
       "      <th>4</th>\n",
       "      <td>1</td>\n",
       "      <td>1</td>\n",
       "    </tr>\n",
       "  </tbody>\n",
       "</table>\n",
       "</div>"
      ],
      "text/plain": [
       "   sentiment_class_true  sentiment_class_hat\n",
       "0                    -1                   -1\n",
       "1                    -1                   -1\n",
       "2                    -1                   -1\n",
       "3                     0                    0\n",
       "4                     1                    1"
      ]
     },
     "execution_count": 41,
     "metadata": {},
     "output_type": "execute_result"
    }
   ],
   "source": [
    "df.head()[['sentiment_class_true', 'sentiment_class_hat']]"
   ]
  },
  {
   "cell_type": "code",
   "execution_count": 28,
   "id": "a7f6c0dc",
   "metadata": {},
   "outputs": [
    {
     "data": {
      "text/plain": [
       "count    9489.000000\n",
       "mean        0.284540\n",
       "std         2.853243\n",
       "min       -13.000000\n",
       "25%        -2.000000\n",
       "50%         0.000000\n",
       "75%         2.000000\n",
       "max        16.000000\n",
       "Name: sentiment_score_hat, dtype: float64"
      ]
     },
     "execution_count": 28,
     "metadata": {},
     "output_type": "execute_result"
    }
   ],
   "source": [
    "df.sentiment_score_hat.describe()"
   ]
  },
  {
   "cell_type": "markdown",
   "id": "3d41097a",
   "metadata": {},
   "source": [
    "Create a correct_classification bool column defining if our prediction is correct"
   ]
  },
  {
   "cell_type": "code",
   "execution_count": 42,
   "id": "f34732f6",
   "metadata": {},
   "outputs": [],
   "source": [
    "df[\"correct_classification\"] = df.sentiment_class_true == df.sentiment_class_hat"
   ]
  },
  {
   "cell_type": "code",
   "execution_count": 43,
   "id": "a6525c60",
   "metadata": {},
   "outputs": [
    {
     "data": {
      "text/plain": [
       "0.6059648013489304"
      ]
     },
     "execution_count": 43,
     "metadata": {},
     "output_type": "execute_result"
    }
   ],
   "source": [
    "df['correct_classification'].mean()"
   ]
  },
  {
   "cell_type": "markdown",
   "id": "438b2de3",
   "metadata": {},
   "source": [
    "## Evaluate classification performance per class"
   ]
  },
  {
   "cell_type": "markdown",
   "id": "02eebd84",
   "metadata": {},
   "source": [
    "Evaluate accuracy by class"
   ]
  },
  {
   "cell_type": "code",
   "execution_count": 44,
   "id": "c1e3081d",
   "metadata": {},
   "outputs": [
    {
     "data": {
      "text/plain": [
       "airline_sentiment\n",
       "negative    0.609733\n",
       "neutral     0.261321\n",
       "positive    0.848869\n",
       "Name: correct_classification, dtype: float64"
      ]
     },
     "execution_count": 44,
     "metadata": {},
     "output_type": "execute_result"
    }
   ],
   "source": [
    "df.groupby('airline_sentiment').correct_classification.mean()"
   ]
  },
  {
   "cell_type": "markdown",
   "id": "2e949c9e",
   "metadata": {},
   "source": [
    "# Select only negative and positive texts"
   ]
  },
  {
   "cell_type": "markdown",
   "id": "f4856217",
   "metadata": {},
   "source": [
    "Create df_np dataframe as subset of df excluding neutral (0) sentiment class"
   ]
  },
  {
   "cell_type": "code",
   "execution_count": 45,
   "id": "945c3ebf",
   "metadata": {},
   "outputs": [],
   "source": [
    "df_np = df.loc[df.airline_sentiment!='neutral']"
   ]
  },
  {
   "cell_type": "code",
   "execution_count": 46,
   "id": "7924e50d",
   "metadata": {},
   "outputs": [
    {
     "data": {
      "text/html": [
       "<div>\n",
       "<style scoped>\n",
       "    .dataframe tbody tr th:only-of-type {\n",
       "        vertical-align: middle;\n",
       "    }\n",
       "\n",
       "    .dataframe tbody tr th {\n",
       "        vertical-align: top;\n",
       "    }\n",
       "\n",
       "    .dataframe thead th {\n",
       "        text-align: right;\n",
       "    }\n",
       "</style>\n",
       "<table border=\"1\" class=\"dataframe\">\n",
       "  <thead>\n",
       "    <tr style=\"text-align: right;\">\n",
       "      <th></th>\n",
       "      <th>tweet_id</th>\n",
       "      <th>airline_sentiment</th>\n",
       "      <th>text</th>\n",
       "      <th>airline</th>\n",
       "      <th>sentiment_class_true</th>\n",
       "      <th>sentiment_score_hat</th>\n",
       "      <th>sentiment_class_hat</th>\n",
       "      <th>correct_classification</th>\n",
       "    </tr>\n",
       "  </thead>\n",
       "  <tbody>\n",
       "    <tr>\n",
       "      <th>0</th>\n",
       "      <td>570301031407624196</td>\n",
       "      <td>negative</td>\n",
       "      <td>@VirginAmerica it's really aggressive to blast...</td>\n",
       "      <td>Virgin America</td>\n",
       "      <td>-1</td>\n",
       "      <td>-5</td>\n",
       "      <td>-1</td>\n",
       "      <td>True</td>\n",
       "    </tr>\n",
       "    <tr>\n",
       "      <th>1</th>\n",
       "      <td>570300817074462722</td>\n",
       "      <td>negative</td>\n",
       "      <td>@VirginAmerica and it's a really big bad thing...</td>\n",
       "      <td>Virgin America</td>\n",
       "      <td>-1</td>\n",
       "      <td>-2</td>\n",
       "      <td>-1</td>\n",
       "      <td>True</td>\n",
       "    </tr>\n",
       "    <tr>\n",
       "      <th>2</th>\n",
       "      <td>570300767074181121</td>\n",
       "      <td>negative</td>\n",
       "      <td>@VirginAmerica seriously would pay $30 a fligh...</td>\n",
       "      <td>Virgin America</td>\n",
       "      <td>-1</td>\n",
       "      <td>-4</td>\n",
       "      <td>-1</td>\n",
       "      <td>True</td>\n",
       "    </tr>\n",
       "    <tr>\n",
       "      <th>4</th>\n",
       "      <td>570295459631263746</td>\n",
       "      <td>positive</td>\n",
       "      <td>@VirginAmerica it was amazing, and arrived an ...</td>\n",
       "      <td>Virgin America</td>\n",
       "      <td>1</td>\n",
       "      <td>3</td>\n",
       "      <td>1</td>\n",
       "      <td>True</td>\n",
       "    </tr>\n",
       "    <tr>\n",
       "      <th>6</th>\n",
       "      <td>570289724453216256</td>\n",
       "      <td>positive</td>\n",
       "      <td>@VirginAmerica I &amp;lt;3 pretty graphics. so muc...</td>\n",
       "      <td>Virgin America</td>\n",
       "      <td>1</td>\n",
       "      <td>3</td>\n",
       "      <td>1</td>\n",
       "      <td>True</td>\n",
       "    </tr>\n",
       "  </tbody>\n",
       "</table>\n",
       "</div>"
      ],
      "text/plain": [
       "             tweet_id airline_sentiment  \\\n",
       "0  570301031407624196          negative   \n",
       "1  570300817074462722          negative   \n",
       "2  570300767074181121          negative   \n",
       "4  570295459631263746          positive   \n",
       "6  570289724453216256          positive   \n",
       "\n",
       "                                                text         airline  \\\n",
       "0  @VirginAmerica it's really aggressive to blast...  Virgin America   \n",
       "1  @VirginAmerica and it's a really big bad thing...  Virgin America   \n",
       "2  @VirginAmerica seriously would pay $30 a fligh...  Virgin America   \n",
       "4  @VirginAmerica it was amazing, and arrived an ...  Virgin America   \n",
       "6  @VirginAmerica I &lt;3 pretty graphics. so muc...  Virgin America   \n",
       "\n",
       "   sentiment_class_true  sentiment_score_hat  sentiment_class_hat  \\\n",
       "0                    -1                   -5                   -1   \n",
       "1                    -1                   -2                   -1   \n",
       "2                    -1                   -4                   -1   \n",
       "4                     1                    3                    1   \n",
       "6                     1                    3                    1   \n",
       "\n",
       "   correct_classification  \n",
       "0                    True  \n",
       "1                    True  \n",
       "2                    True  \n",
       "4                    True  \n",
       "6                    True  "
      ]
     },
     "execution_count": 46,
     "metadata": {},
     "output_type": "execute_result"
    }
   ],
   "source": [
    "df_np.head()"
   ]
  },
  {
   "cell_type": "code",
   "execution_count": 47,
   "id": "c457b27c",
   "metadata": {},
   "outputs": [
    {
     "data": {
      "text/plain": [
       "(8142, 8)"
      ]
     },
     "execution_count": 47,
     "metadata": {},
     "output_type": "execute_result"
    }
   ],
   "source": [
    "df_np.shape"
   ]
  },
  {
   "cell_type": "markdown",
   "id": "0acb32f3",
   "metadata": {},
   "source": [
    "## Calculate Precision and Recall for classifying negative review"
   ]
  },
  {
   "cell_type": "markdown",
   "id": "20be2abe",
   "metadata": {},
   "source": [
    "Precision = TP / TP + FP\n",
    "\n",
    "Recall = TP / TP + FN"
   ]
  },
  {
   "cell_type": "markdown",
   "id": "53d368c2",
   "metadata": {},
   "source": [
    "Create negative_review and negative_review_hat bool column for negative review detection classifier and calculate Precision and Recall"
   ]
  },
  {
   "cell_type": "code",
   "execution_count": 48,
   "id": "49792f05",
   "metadata": {},
   "outputs": [
    {
     "name": "stderr",
     "output_type": "stream",
     "text": [
      "C:\\Users\\maxim\\AppData\\Local\\Temp\\ipykernel_6948\\1442596892.py:1: SettingWithCopyWarning: \n",
      "A value is trying to be set on a copy of a slice from a DataFrame.\n",
      "Try using .loc[row_indexer,col_indexer] = value instead\n",
      "\n",
      "See the caveats in the documentation: https://pandas.pydata.org/pandas-docs/stable/user_guide/indexing.html#returning-a-view-versus-a-copy\n",
      "  df_np[\"negative_review\"] = df_np.sentiment_class_true==-1\n"
     ]
    }
   ],
   "source": [
    "df_np[\"negative_review\"] = df_np.sentiment_class_true==-1"
   ]
  },
  {
   "cell_type": "code",
   "execution_count": 49,
   "id": "e64ae72a",
   "metadata": {},
   "outputs": [
    {
     "name": "stderr",
     "output_type": "stream",
     "text": [
      "C:\\Users\\maxim\\AppData\\Local\\Temp\\ipykernel_6948\\3942730095.py:1: SettingWithCopyWarning: \n",
      "A value is trying to be set on a copy of a slice from a DataFrame.\n",
      "Try using .loc[row_indexer,col_indexer] = value instead\n",
      "\n",
      "See the caveats in the documentation: https://pandas.pydata.org/pandas-docs/stable/user_guide/indexing.html#returning-a-view-versus-a-copy\n",
      "  df_np[\"negative_review_hat\"] =  np.where(df_np.sentiment_class_hat==-1,1,0)\n"
     ]
    }
   ],
   "source": [
    "df_np[\"negative_review_hat\"] =  np.where(df_np.sentiment_class_hat==-1,1,0)"
   ]
  },
  {
   "cell_type": "code",
   "execution_count": 50,
   "id": "61ca05b2",
   "metadata": {},
   "outputs": [
    {
     "data": {
      "text/plain": [
       "0.9708176100628931"
      ]
     },
     "execution_count": 50,
     "metadata": {},
     "output_type": "execute_result"
    }
   ],
   "source": [
    "precision_score(df_np.negative_review, df_np.negative_review_hat)"
   ]
  },
  {
   "cell_type": "code",
   "execution_count": 52,
   "id": "105f8da1",
   "metadata": {},
   "outputs": [
    {
     "data": {
      "text/plain": [
       "0.6097329751935535"
      ]
     },
     "execution_count": 52,
     "metadata": {},
     "output_type": "execute_result"
    }
   ],
   "source": [
    "recall_score(df_np.negative_review, df_np.negative_review_hat)"
   ]
  },
  {
   "cell_type": "code",
   "execution_count": null,
   "id": "1f5f7db6",
   "metadata": {},
   "outputs": [],
   "source": [
    "C:\\Users\\maxim\\Documents\\GitHub\\ALK-NLP-course\\W1 - Introduction\\Python-warm-up-setiment-analysis-BLANK.ipynb"
   ]
  }
 ],
 "metadata": {
  "kernelspec": {
   "display_name": "venv",
   "language": "python",
   "name": "python3"
  },
  "language_info": {
   "codemirror_mode": {
    "name": "ipython",
    "version": 3
   },
   "file_extension": ".py",
   "mimetype": "text/x-python",
   "name": "python",
   "nbconvert_exporter": "python",
   "pygments_lexer": "ipython3",
   "version": "3.10.5 (tags/v3.10.5:f377153, Jun  6 2022, 16:14:13) [MSC v.1929 64 bit (AMD64)]"
  },
  "toc": {
   "base_numbering": 1,
   "nav_menu": {},
   "number_sections": true,
   "sideBar": true,
   "skip_h1_title": false,
   "title_cell": "Table of Contents",
   "title_sidebar": "Contents",
   "toc_cell": false,
   "toc_position": {},
   "toc_section_display": true,
   "toc_window_display": false
  },
  "vscode": {
   "interpreter": {
    "hash": "add1290d95dd0cd12a07cbf5ebe56429afa9741155320dbf2c5c6f42ad093b30"
   }
  }
 },
 "nbformat": 4,
 "nbformat_minor": 5
}
