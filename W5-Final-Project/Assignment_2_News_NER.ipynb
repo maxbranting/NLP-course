{
 "cells": [
  {
   "cell_type": "code",
   "execution_count": 1,
   "id": "0b028c61",
   "metadata": {},
   "outputs": [],
   "source": [
    "import pandas as pd\n",
    "import numpy as np\n",
    "import json\n",
    "import random\n",
    "import spacy\n",
    "from tqdm import tqdm\n",
    "import pickle\n",
    "import plotly.graph_objects as go\n",
    "from plotly.offline import iplot"
   ]
  },
  {
   "cell_type": "code",
   "execution_count": 2,
   "id": "0111de99",
   "metadata": {},
   "outputs": [],
   "source": [
    "import math\n",
    "from sklearn.model_selection import train_test_split"
   ]
  },
  {
   "cell_type": "code",
   "execution_count": 3,
   "id": "f6178ad6",
   "metadata": {},
   "outputs": [],
   "source": [
    "from spacy.tokens import Doc"
   ]
  },
  {
   "cell_type": "code",
   "execution_count": 4,
   "id": "d1126bac",
   "metadata": {},
   "outputs": [],
   "source": [
    "from spacy.training import Example"
   ]
  },
  {
   "cell_type": "code",
   "execution_count": 5,
   "id": "f6563c67",
   "metadata": {},
   "outputs": [],
   "source": [
    "import os\n",
    "\n",
    "os.environ['KMP_DUPLICATE_LIB_OK']='True'"
   ]
  },
  {
   "cell_type": "markdown",
   "id": "9cbec975",
   "metadata": {},
   "source": [
    "# Task description"
   ]
  },
  {
   "cell_type": "markdown",
   "id": "737bdd17",
   "metadata": {},
   "source": [
    "- train NER model to extract geo, gpe, tim and nat entities\n",
    "- experiment with different language model sizes\n",
    "- experiment with DROPOUT and epochs to get the best test set results\n",
    "- analize learning curves and performance per entity"
   ]
  },
  {
   "cell_type": "markdown",
   "id": "b29a96ca",
   "metadata": {},
   "source": [
    "News entities\n",
    "- geo = Geographical Entity\n",
    "- gpe = Geopolitical Entity\n",
    "- tim = Time indicator\n",
    "- nat = Natural Phenomenon"
   ]
  },
  {
   "cell_type": "markdown",
   "id": "a7502420",
   "metadata": {},
   "source": [
    "# Prepare NER data"
   ]
  },
  {
   "cell_type": "code",
   "execution_count": 10,
   "id": "f17bbb71",
   "metadata": {},
   "outputs": [],
   "source": [
    "with open('../data/GMB_data_spacy_geo.pickle', 'rb') as f:\n",
    "     spacy_data = pickle.load(f)"
   ]
  },
  {
   "cell_type": "code",
   "execution_count": 11,
   "id": "290c9f05",
   "metadata": {},
   "outputs": [
    {
     "data": {
      "text/plain": [
       "35177"
      ]
     },
     "execution_count": 11,
     "metadata": {},
     "output_type": "execute_result"
    }
   ],
   "source": [
    "len(spacy_data)"
   ]
  },
  {
   "cell_type": "code",
   "execution_count": 12,
   "id": "6a87e187",
   "metadata": {},
   "outputs": [
    {
     "data": {
      "text/plain": [
       "{'entities': []}"
      ]
     },
     "execution_count": 12,
     "metadata": {},
     "output_type": "execute_result"
    }
   ],
   "source": [
    "spacy_data[36][1]"
   ]
  },
  {
   "cell_type": "code",
   "execution_count": 13,
   "id": "44801496",
   "metadata": {},
   "outputs": [
    {
     "data": {
      "text/plain": [
       "\"Lebanon 's top Shi'ite cleric is opposing British Prime Minister Tony Blair 's expected visit to Beirut Monday .\""
      ]
     },
     "execution_count": 13,
     "metadata": {},
     "output_type": "execute_result"
    }
   ],
   "source": [
    "spacy_data[35000][0]"
   ]
  },
  {
   "cell_type": "markdown",
   "id": "64589ef5",
   "metadata": {},
   "source": [
    "## Test train split"
   ]
  },
  {
   "cell_type": "code",
   "execution_count": 14,
   "id": "ff02de7f",
   "metadata": {},
   "outputs": [],
   "source": [
    "# Divide spacy into train and test sets\n",
    "spacy_data_train, spacy_data_test = train_test_split(spacy_data, test_size=0.1, random_state=42)"
   ]
  },
  {
   "cell_type": "code",
   "execution_count": 15,
   "id": "2c274e9a",
   "metadata": {},
   "outputs": [
    {
     "data": {
      "text/plain": [
       "('U.S. health officials said Friday that trials found only a small number of cases where adverse reactions might be attributed to Nevirapine .',\n",
       " {'entities': [(0, 4, 'geo'), (27, 33, 'tim')]})"
      ]
     },
     "execution_count": 15,
     "metadata": {},
     "output_type": "execute_result"
    }
   ],
   "source": [
    "spacy_data_train[1]"
   ]
  },
  {
   "cell_type": "markdown",
   "id": "16012f23",
   "metadata": {},
   "source": [
    "## NER model setup"
   ]
  },
  {
   "cell_type": "code",
   "execution_count": 16,
   "id": "a4659a48",
   "metadata": {},
   "outputs": [],
   "source": [
    "# Setup model - experiment with sm, md, lg\n",
    "nlp = spacy.load('en_core_web_sm')\n",
    "ner = nlp.create_pipe('ner')\n",
    "\n"
   ]
  },
  {
   "cell_type": "code",
   "execution_count": 17,
   "id": "ad43f9f6",
   "metadata": {},
   "outputs": [],
   "source": [
    "def split_examples_to_batches(examples, batch_size):\n",
    "    batches=[]\n",
    "    for i in range(0, math.ceil(len(examples)/batch_size)):\n",
    "        start=i*batch_size\n",
    "        end = start+batch_size\n",
    "        batches.append(examples[start:end])\n",
    "    return batches"
   ]
  },
  {
   "cell_type": "code",
   "execution_count": 18,
   "id": "2d746888",
   "metadata": {},
   "outputs": [],
   "source": [
    "def prepare_examples(data):\n",
    "    examples = []\n",
    "    for i in range(0, len(data)):\n",
    "        raw_text, entity_offsets = data[i]\n",
    "\n",
    "        try:\n",
    "\n",
    "            doc= nlp.make_doc(raw_text.lower())\n",
    "            example_test = Example.from_dict(doc, entity_offsets)\n",
    "            examples.append(example_test)\n",
    "           \n",
    "        except Exception as e:\n",
    "            print(e)\n",
    "            pass\n",
    "    return examples"
   ]
  },
  {
   "cell_type": "code",
   "execution_count": 19,
   "id": "c754122b",
   "metadata": {},
   "outputs": [],
   "source": [
    "# prepare examples\n",
    "examples_train = prepare_examples(spacy_data_train)\n",
    "examples_test = prepare_examples(spacy_data_test)"
   ]
  },
  {
   "cell_type": "code",
   "execution_count": 20,
   "id": "1eb83a6d",
   "metadata": {},
   "outputs": [],
   "source": [
    "other_pipes = [pipe for pipe in nlp.pipe_names if pipe != 'ner']"
   ]
  },
  {
   "cell_type": "markdown",
   "id": "6ab2058e",
   "metadata": {},
   "source": [
    "### Add labels"
   ]
  },
  {
   "cell_type": "code",
   "execution_count": 21,
   "id": "940ccbbf",
   "metadata": {},
   "outputs": [],
   "source": [
    "for _, annotations in spacy_data:\n",
    "    for ent in annotations.get('entities'):\n",
    "        ner.add_label(ent[2])"
   ]
  },
  {
   "cell_type": "code",
   "execution_count": 22,
   "id": "303b401f",
   "metadata": {},
   "outputs": [
    {
     "data": {
      "text/plain": [
       "('geo', 'gpe', 'nat', 'tim')"
      ]
     },
     "execution_count": 22,
     "metadata": {},
     "output_type": "execute_result"
    }
   ],
   "source": [
    "ner.labels"
   ]
  },
  {
   "cell_type": "code",
   "execution_count": 23,
   "id": "740118e8",
   "metadata": {},
   "outputs": [
    {
     "data": {
      "text/plain": [
       "{'entities': [(17, 21, 'geo'), (24, 30, 'geo')]}"
      ]
     },
     "execution_count": 23,
     "metadata": {},
     "output_type": "execute_result"
    }
   ],
   "source": [
    "spacy_data[12050][1]"
   ]
  },
  {
   "cell_type": "markdown",
   "id": "d1118c98",
   "metadata": {},
   "source": [
    "# Train model"
   ]
  },
  {
   "cell_type": "code",
   "execution_count": 24,
   "id": "a4bd1b6a",
   "metadata": {},
   "outputs": [],
   "source": [
    "DROPOUT=0.1\n",
    "epochs = 10\n",
    "\n",
    "batch_size=64"
   ]
  },
  {
   "cell_type": "code",
   "execution_count": 25,
   "id": "fcd740f8",
   "metadata": {},
   "outputs": [],
   "source": [
    "def train_ner(nlp, examples_train, examples_test, epochs, batch_size, dropout):\n",
    "    with nlp.disable_pipes(*other_pipes):\n",
    "        optimizer = nlp.create_optimizer()\n",
    "        scores = []\n",
    "\n",
    "        for i in range(0, epochs):\n",
    "            random.shuffle(examples_train)\n",
    "\n",
    "            batches = split_examples_to_batches(examples_train, batch_size)\n",
    "            for batch in  tqdm(batches):\n",
    "                try:\n",
    "                        nlp.update(batch, sgd=optimizer, drop =DROPOUT)\n",
    "                except Exception as e:\n",
    "                    print(e)\n",
    "                    pass\n",
    "            train_score = nlp.evaluate(examples_train)\n",
    "            val_score = nlp.evaluate(examples_test)\n",
    "            total_f = val_score['ents_f']\n",
    "\n",
    "            scores.append({\"iter\":i, \"val_score\":val_score, \"train_score\":train_score})\n",
    "\n",
    "            print(f\"Iter:{i}, f_score:{round(total_f,2)}\")\n",
    "\n",
    "    return nlp, scores"
   ]
  },
  {
   "cell_type": "code",
   "execution_count": 26,
   "id": "e796681c",
   "metadata": {},
   "outputs": [
    {
     "name": "stderr",
     "output_type": "stream",
     "text": [
      "100%|██████████| 495/495 [02:22<00:00,  3.48it/s]\n"
     ]
    },
    {
     "name": "stdout",
     "output_type": "stream",
     "text": [
      "Iter:0, f_score:0.87\n"
     ]
    },
    {
     "name": "stderr",
     "output_type": "stream",
     "text": [
      "100%|██████████| 495/495 [02:09<00:00,  3.82it/s]\n"
     ]
    },
    {
     "name": "stdout",
     "output_type": "stream",
     "text": [
      "Iter:1, f_score:0.88\n"
     ]
    },
    {
     "name": "stderr",
     "output_type": "stream",
     "text": [
      "100%|██████████| 495/495 [02:10<00:00,  3.79it/s]\n"
     ]
    },
    {
     "name": "stdout",
     "output_type": "stream",
     "text": [
      "Iter:2, f_score:0.88\n"
     ]
    },
    {
     "name": "stderr",
     "output_type": "stream",
     "text": [
      "100%|██████████| 495/495 [02:44<00:00,  3.02it/s]\n"
     ]
    },
    {
     "name": "stdout",
     "output_type": "stream",
     "text": [
      "Iter:3, f_score:0.88\n"
     ]
    },
    {
     "name": "stderr",
     "output_type": "stream",
     "text": [
      "100%|██████████| 495/495 [02:15<00:00,  3.65it/s]\n"
     ]
    },
    {
     "name": "stdout",
     "output_type": "stream",
     "text": [
      "Iter:4, f_score:0.88\n"
     ]
    },
    {
     "name": "stderr",
     "output_type": "stream",
     "text": [
      "100%|██████████| 495/495 [02:49<00:00,  2.92it/s]\n"
     ]
    },
    {
     "name": "stdout",
     "output_type": "stream",
     "text": [
      "Iter:5, f_score:0.88\n"
     ]
    },
    {
     "name": "stderr",
     "output_type": "stream",
     "text": [
      "100%|██████████| 495/495 [02:17<00:00,  3.59it/s]\n"
     ]
    },
    {
     "name": "stdout",
     "output_type": "stream",
     "text": [
      "Iter:6, f_score:0.88\n"
     ]
    },
    {
     "name": "stderr",
     "output_type": "stream",
     "text": [
      "100%|██████████| 495/495 [02:26<00:00,  3.38it/s]\n"
     ]
    },
    {
     "name": "stdout",
     "output_type": "stream",
     "text": [
      "Iter:7, f_score:0.88\n"
     ]
    },
    {
     "name": "stderr",
     "output_type": "stream",
     "text": [
      "100%|██████████| 495/495 [03:03<00:00,  2.69it/s]\n"
     ]
    },
    {
     "name": "stdout",
     "output_type": "stream",
     "text": [
      "Iter:8, f_score:0.89\n"
     ]
    },
    {
     "name": "stderr",
     "output_type": "stream",
     "text": [
      "100%|██████████| 495/495 [02:24<00:00,  3.42it/s]\n"
     ]
    },
    {
     "name": "stdout",
     "output_type": "stream",
     "text": [
      "Iter:9, f_score:0.88\n"
     ]
    }
   ],
   "source": [
    "nlp, scores = train_ner(nlp, examples_train, examples_test, epochs, batch_size, DROPOUT)"
   ]
  },
  {
   "attachments": {},
   "cell_type": "markdown",
   "id": "d4ad8c11",
   "metadata": {},
   "source": [
    "# Model save/load"
   ]
  },
  {
   "cell_type": "code",
   "execution_count": 27,
   "id": "9fb1db94",
   "metadata": {},
   "outputs": [],
   "source": [
    "def save_spacy_model(nlp, model_path):\n",
    "    nlp.to_disk(f'{model_path}')\n",
    "    print(f\"Saved model to {model_path}\")\n",
    "    bytes_data = nlp.to_bytes()\n",
    "\n",
    "    f = open(f'{model_path}/bytes_data.bin', 'wb')\n",
    "    f.write(bytes_data)\n",
    "    f.close()\n",
    "    print(f\"Saved bytes_data to f'{model_path}/bytes_data.bin'\")"
   ]
  },
  {
   "cell_type": "code",
   "execution_count": 28,
   "id": "35b3d419",
   "metadata": {},
   "outputs": [
    {
     "name": "stdout",
     "output_type": "stream",
     "text": [
      "Saved model to ner_sm_do01_ep10_bs64\n",
      "Saved bytes_data to f'ner_sm_do01_ep10_bs64/bytes_data.bin'\n"
     ]
    }
   ],
   "source": [
    "save_spacy_model(nlp, \"ner_sm_do01_ep10_bs64\")"
   ]
  },
  {
   "cell_type": "code",
   "execution_count": 29,
   "id": "54d8fd52",
   "metadata": {},
   "outputs": [],
   "source": [
    "def load_spacy_model(model_path, base_model = \"en_core_web_sm\"):\n",
    "\n",
    "    nlp = spacy.load(base_model)\n",
    "    file = open(f'{model_path}/bytes_data.bin',\"rb\")\n",
    "    bytes_data = file.read()\n",
    "    config = nlp.config\n",
    "    lang_cls = spacy.util.get_lang_class(\"en\")\n",
    "    nlp = lang_cls.from_config(config)\n",
    "    nlp = nlp.from_disk(f'{model_path}')\n",
    "    \n",
    "    return nlp"
   ]
  },
  {
   "cell_type": "code",
   "execution_count": 57,
   "id": "0d536e6f",
   "metadata": {},
   "outputs": [],
   "source": [
    "nlp2 = load_spacy_model(\"ner_sm_do005_ep10_bs128\")"
   ]
  },
  {
   "cell_type": "markdown",
   "id": "ef730cc5",
   "metadata": {},
   "source": [
    "## Evaluate model"
   ]
  },
  {
   "cell_type": "code",
   "execution_count": 30,
   "id": "cb91e8f2",
   "metadata": {},
   "outputs": [
    {
     "data": {
      "text/plain": [
       "[{'iter': 0,\n",
       "  'val_score': {'token_acc': 1.0,\n",
       "   'token_p': 1.0,\n",
       "   'token_r': 1.0,\n",
       "   'token_f': 1.0,\n",
       "   'ents_p': 0.8894586894586894,\n",
       "   'ents_r': 0.849600870827286,\n",
       "   'ents_f': 0.8690730258884662,\n",
       "   'ents_per_type': {'geo': {'p': 0.871765601217656,\n",
       "     'r': 0.8202649480844969,\n",
       "     'f': 0.8452315071020106},\n",
       "    'gpe': {'p': 0.9389830508474576,\n",
       "     'r': 0.9358108108108109,\n",
       "     'f': 0.937394247038917},\n",
       "    'tim': {'p': 0.8812628689087165,\n",
       "     'r': 0.8447368421052631,\n",
       "     'f': 0.8626133691635876},\n",
       "    'nat': {'p': 0.0, 'r': 0.0, 'f': 0.0}},\n",
       "   'speed': 21377.192592405376},\n",
       "  'train_score': {'token_acc': 1.0,\n",
       "   'token_p': 1.0,\n",
       "   'token_r': 1.0,\n",
       "   'token_f': 1.0,\n",
       "   'ents_p': 0.893928419258628,\n",
       "   'ents_r': 0.8578700958845297,\n",
       "   'ents_f': 0.8755281524834903,\n",
       "   'ents_per_type': {'geo': {'p': 0.8770837774461735,\n",
       "     'r': 0.8299846687646252,\n",
       "     'f': 0.8528844758607824},\n",
       "    'tim': {'p': 0.880630284396618,\n",
       "     'r': 0.85923203839808,\n",
       "     'f': 0.8697995748557545},\n",
       "    'gpe': {'p': 0.948162291169451,\n",
       "     'r': 0.9325821596244132,\n",
       "     'f': 0.9403076923076923},\n",
       "    'nat': {'p': 0.0, 'r': 0.0, 'f': 0.0}},\n",
       "   'speed': 20513.548728737595}},\n",
       " {'iter': 1,\n",
       "  'val_score': {'token_acc': 1.0,\n",
       "   'token_p': 1.0,\n",
       "   'token_r': 1.0,\n",
       "   'token_f': 1.0,\n",
       "   'ents_p': 0.8899423684699759,\n",
       "   'ents_r': 0.8684687953555879,\n",
       "   'ents_f': 0.8790744651547149,\n",
       "   'ents_per_type': {'geo': {'p': 0.8603311735061195,\n",
       "     'r': 0.8557107053347655,\n",
       "     'f': 0.858014719080955},\n",
       "    'gpe': {'p': 0.9441624365482234,\n",
       "     'r': 0.9425675675675675,\n",
       "     'f': 0.9433643279797127},\n",
       "    'tim': {'p': 0.9027484143763214,\n",
       "     'r': 0.8427631578947369,\n",
       "     'f': 0.871725076556652},\n",
       "    'nat': {'p': 0.0, 'r': 0.0, 'f': 0.0}},\n",
       "   'speed': 21580.870622309518},\n",
       "  'train_score': {'token_acc': 1.0,\n",
       "   'token_p': 1.0,\n",
       "   'token_r': 1.0,\n",
       "   'token_f': 1.0,\n",
       "   'ents_p': 0.9083551238949072,\n",
       "   'ents_r': 0.8948541287592255,\n",
       "   'ents_f': 0.901554083976148,\n",
       "   'ents_per_type': {'tim': {'p': 0.9230951254141032,\n",
       "     'r': 0.8776811159442028,\n",
       "     'f': 0.8998154697831771},\n",
       "    'geo': {'p': 0.8785397611534929,\n",
       "     'r': 0.8874364560639071,\n",
       "     'f': 0.8829656985729484},\n",
       "    'gpe': {'p': 0.9621719977015898,\n",
       "     'r': 0.9433802816901409,\n",
       "     'f': 0.9526834818888679},\n",
       "    'nat': {'p': 0.8275862068965517,\n",
       "     'r': 0.16783216783216784,\n",
       "     'f': 0.27906976744186046}},\n",
       "   'speed': 21442.551693369758}},\n",
       " {'iter': 2,\n",
       "  'val_score': {'token_acc': 1.0,\n",
       "   'token_p': 1.0,\n",
       "   'token_r': 1.0,\n",
       "   'token_f': 1.0,\n",
       "   'ents_p': 0.8896909124560429,\n",
       "   'ents_r': 0.8720972423802612,\n",
       "   'ents_f': 0.8808062299587722,\n",
       "   'ents_per_type': {'geo': {'p': 0.8551286570320762,\n",
       "     'r': 0.8686000716075905,\n",
       "     'f': 0.8618117229129661},\n",
       "    'gpe': {'p': 0.9480408858603067,\n",
       "     'r': 0.9400337837837838,\n",
       "     'f': 0.9440203562340966},\n",
       "    'tim': {'p': 0.9109195402298851,\n",
       "     'r': 0.8342105263157895,\n",
       "     'f': 0.8708791208791209},\n",
       "    'nat': {'p': 0.0, 'r': 0.0, 'f': 0.0}},\n",
       "   'speed': 20334.690909409695},\n",
       "  'train_score': {'token_acc': 1.0,\n",
       "   'token_p': 1.0,\n",
       "   'token_r': 1.0,\n",
       "   'token_f': 1.0,\n",
       "   'ents_p': 0.9138257186330551,\n",
       "   'ents_r': 0.9086132521006686,\n",
       "   'ents_f': 0.9112120311234584,\n",
       "   'ents_per_type': {'geo': {'p': 0.8798844517312722,\n",
       "     'r': 0.9093843298636327,\n",
       "     'f': 0.8943912068726068},\n",
       "    'gpe': {'p': 0.9672650475184794,\n",
       "     'r': 0.9461032863849765,\n",
       "     'f': 0.9565671429249538},\n",
       "    'tim': {'p': 0.9390535372848948,\n",
       "     'r': 0.883980800959952,\n",
       "     'f': 0.9106853125241443},\n",
       "    'nat': {'p': 0.8333333333333334,\n",
       "     'r': 0.27972027972027974,\n",
       "     'f': 0.41884816753926707}},\n",
       "   'speed': 21183.754769660067}},\n",
       " {'iter': 3,\n",
       "  'val_score': {'token_acc': 1.0,\n",
       "   'token_p': 1.0,\n",
       "   'token_r': 1.0,\n",
       "   'token_f': 1.0,\n",
       "   'ents_p': 0.8841741030777636,\n",
       "   'ents_r': 0.8808055152394775,\n",
       "   'ents_f': 0.8824865945651186,\n",
       "   'ents_per_type': {'geo': {'p': 0.8487889273356402,\n",
       "     'r': 0.8782670963122091,\n",
       "     'f': 0.8632764385007919},\n",
       "    'gpe': {'p': 0.9496587030716723,\n",
       "     'r': 0.9400337837837838,\n",
       "     'f': 0.9448217317487266},\n",
       "    'tim': {'p': 0.9065817409766455,\n",
       "     'r': 0.8427631578947369,\n",
       "     'f': 0.8735083532219571},\n",
       "    'nat': {'p': 0.5, 'r': 0.5333333333333333, 'f': 0.5161290322580646}},\n",
       "   'speed': 16050.494133419683},\n",
       "  'train_score': {'token_acc': 1.0,\n",
       "   'token_p': 1.0,\n",
       "   'token_r': 1.0,\n",
       "   'token_f': 1.0,\n",
       "   'ents_p': 0.9212807323099356,\n",
       "   'ents_r': 0.930039048923599,\n",
       "   'ents_f': 0.9256391734746824,\n",
       "   'ents_per_type': {'geo': {'p': 0.890155717947737,\n",
       "     'r': 0.9386750585007666,\n",
       "     'f': 0.9137717730691436},\n",
       "    'tim': {'p': 0.9461472132946618,\n",
       "     'r': 0.9052047397630119,\n",
       "     'f': 0.9252232570618222},\n",
       "    'gpe': {'p': 0.9749322493224932,\n",
       "     'r': 0.9458215962441314,\n",
       "     'f': 0.9601563244685921},\n",
       "    'nat': {'p': 0.5394736842105263,\n",
       "     'r': 0.5734265734265734,\n",
       "     'f': 0.5559322033898304}},\n",
       "   'speed': 16638.546940615874}},\n",
       " {'iter': 4,\n",
       "  'val_score': {'token_acc': 1.0,\n",
       "   'token_p': 1.0,\n",
       "   'token_r': 1.0,\n",
       "   'token_f': 1.0,\n",
       "   'ents_p': 0.8891941391941391,\n",
       "   'ents_r': 0.8808055152394775,\n",
       "   'ents_f': 0.8849799489609915,\n",
       "   'ents_per_type': {'geo': {'p': 0.8580028328611898,\n",
       "     'r': 0.8675259577515216,\n",
       "     'f': 0.8627381164322592},\n",
       "    'gpe': {'p': 0.9497872340425532,\n",
       "     'r': 0.9425675675675675,\n",
       "     'f': 0.9461636286562103},\n",
       "    'tim': {'p': 0.9040055248618785,\n",
       "     'r': 0.8611842105263158,\n",
       "     'f': 0.8820754716981132},\n",
       "    'nat': {'p': 0.5384615384615384, 'r': 0.4666666666666667, 'f': 0.5}},\n",
       "   'speed': 16567.15125339306},\n",
       "  'train_score': {'token_acc': 1.0,\n",
       "   'token_p': 1.0,\n",
       "   'token_r': 1.0,\n",
       "   'token_f': 1.0,\n",
       "   'ents_p': 0.9275827280064568,\n",
       "   'ents_r': 0.9398523909799031,\n",
       "   'ents_f': 0.9336772516324273,\n",
       "   'ents_per_type': {'geo': {'p': 0.9008612366276599,\n",
       "     'r': 0.9410957798757363,\n",
       "     'f': 0.9205390793030644},\n",
       "    'gpe': {'p': 0.9737398999615237,\n",
       "     'r': 0.9505164319248827,\n",
       "     'f': 0.961988026228262},\n",
       "    'tim': {'p': 0.9470556867524949,\n",
       "     'r': 0.9323533823308835,\n",
       "     'f': 0.939647027701145},\n",
       "    'nat': {'p': 0.625, 'r': 0.6293706293706294, 'f': 0.627177700348432}},\n",
       "   'speed': 18425.704754509403}},\n",
       " {'iter': 5,\n",
       "  'val_score': {'token_acc': 1.0,\n",
       "   'token_p': 1.0,\n",
       "   'token_r': 1.0,\n",
       "   'token_f': 1.0,\n",
       "   'ents_p': 0.8900312098402791,\n",
       "   'ents_r': 0.8795355587808418,\n",
       "   'ents_f': 0.8847522584177389,\n",
       "   'ents_per_type': {'geo': {'p': 0.8647100930565498,\n",
       "     'r': 0.8650196920873613,\n",
       "     'f': 0.8648648648648649},\n",
       "    'gpe': {'p': 0.9464740866610025,\n",
       "     'r': 0.9408783783783784,\n",
       "     'f': 0.9436679373146971},\n",
       "    'tim': {'p': 0.8954203691045797,\n",
       "     'r': 0.8618421052631579,\n",
       "     'f': 0.8783104257458935},\n",
       "    'nat': {'p': 0.6153846153846154,\n",
       "     'r': 0.5333333333333333,\n",
       "     'f': 0.5714285714285715}},\n",
       "   'speed': 16104.791954257413},\n",
       "  'train_score': {'token_acc': 1.0,\n",
       "   'token_p': 1.0,\n",
       "   'token_r': 1.0,\n",
       "   'token_f': 1.0,\n",
       "   'ents_p': 0.935570768856842,\n",
       "   'ents_r': 0.9443501727557091,\n",
       "   'ents_f': 0.9399399704939716,\n",
       "   'ents_per_type': {'gpe': {'p': 0.973732144569073,\n",
       "     'r': 0.9537089201877934,\n",
       "     'f': 0.9636165267302309},\n",
       "    'tim': {'p': 0.9472532447932388,\n",
       "     'r': 0.9414279286035698,\n",
       "     'f': 0.9443316030993757},\n",
       "    'geo': {'p': 0.9157046139396549,\n",
       "     'r': 0.9440409908819495,\n",
       "     'f': 0.929656926041439},\n",
       "    'nat': {'p': 0.6029411764705882,\n",
       "     'r': 0.5734265734265734,\n",
       "     'f': 0.5878136200716846}},\n",
       "   'speed': 15604.690394849891}},\n",
       " {'iter': 6,\n",
       "  'val_score': {'token_acc': 1.0,\n",
       "   'token_p': 1.0,\n",
       "   'token_r': 1.0,\n",
       "   'token_f': 1.0,\n",
       "   'ents_p': 0.8922502334267041,\n",
       "   'ents_r': 0.8668359941944848,\n",
       "   'ents_f': 0.8793595288488083,\n",
       "   'ents_per_type': {'geo': {'p': 0.8787765759045132,\n",
       "     'r': 0.8435374149659864,\n",
       "     'f': 0.8607964925100475},\n",
       "    'gpe': {'p': 0.9450084602368867,\n",
       "     'r': 0.9434121621621622,\n",
       "     'f': 0.9442096365173289},\n",
       "    'tim': {'p': 0.8753369272237197,\n",
       "     'r': 0.8546052631578948,\n",
       "     'f': 0.8648468708388816},\n",
       "    'nat': {'p': 0.75, 'r': 0.4, 'f': 0.5217391304347827}},\n",
       "   'speed': 20974.93615238654},\n",
       "  'train_score': {'token_acc': 1.0,\n",
       "   'token_p': 1.0,\n",
       "   'token_r': 1.0,\n",
       "   'token_f': 1.0,\n",
       "   'ents_p': 0.944456960288365,\n",
       "   'ents_r': 0.9427963935967943,\n",
       "   'ents_f': 0.9436259463883774,\n",
       "   'ents_per_type': {'tim': {'p': 0.9409361069836553,\n",
       "     'r': 0.9498275086245688,\n",
       "     'f': 0.9453609016944091},\n",
       "    'geo': {'p': 0.9337764350453173,\n",
       "     'r': 0.9352457032195595,\n",
       "     'f': 0.9345104916248413},\n",
       "    'gpe': {'p': 0.9757383966244726,\n",
       "     'r': 0.9553990610328639,\n",
       "     'f': 0.9654616187494068},\n",
       "    'nat': {'p': 0.8245614035087719,\n",
       "     'r': 0.6573426573426573,\n",
       "     'f': 0.7315175097276263}},\n",
       "   'speed': 19209.073861540637}},\n",
       " {'iter': 7,\n",
       "  'val_score': {'token_acc': 1.0,\n",
       "   'token_p': 1.0,\n",
       "   'token_r': 1.0,\n",
       "   'token_f': 1.0,\n",
       "   'ents_p': 0.9036418816388467,\n",
       "   'ents_r': 0.8642960812772134,\n",
       "   'ents_f': 0.8835311572700297,\n",
       "   'ents_per_type': {'geo': {'p': 0.8801039346696362,\n",
       "     'r': 0.8489079842463301,\n",
       "     'f': 0.8642245307089484},\n",
       "    'gpe': {'p': 0.9475465313028765,\n",
       "     'r': 0.9459459459459459,\n",
       "     'f': 0.9467455621301775},\n",
       "    'tim': {'p': 0.912167026637869,\n",
       "     'r': 0.8335526315789473,\n",
       "     'f': 0.8710897215537984},\n",
       "    'nat': {'p': 0.8571428571428571, 'r': 0.4, 'f': 0.5454545454545455}},\n",
       "   'speed': 14867.678671346273},\n",
       "  'train_score': {'token_acc': 1.0,\n",
       "   'token_p': 1.0,\n",
       "   'token_r': 1.0,\n",
       "   'token_f': 1.0,\n",
       "   'ents_p': 0.9561903183710669,\n",
       "   'ents_r': 0.9437572833398075,\n",
       "   'ents_f': 0.9499331206914291,\n",
       "   'ents_per_type': {'gpe': {'p': 0.9794606008254151,\n",
       "     'r': 0.9582159624413146,\n",
       "     'f': 0.968721818785894},\n",
       "    'geo': {'p': 0.9380566476771243,\n",
       "     'r': 0.9433551198257081,\n",
       "     'f': 0.940698422915996},\n",
       "    'tim': {'p': 0.9727308141799766,\n",
       "     'r': 0.9363281835908205,\n",
       "     'f': 0.9541824295922657},\n",
       "    'nat': {'p': 0.9278350515463918, 'r': 0.6293706293706294, 'f': 0.75}},\n",
       "   'speed': 15877.578038137981}},\n",
       " {'iter': 8,\n",
       "  'val_score': {'token_acc': 1.0,\n",
       "   'token_p': 1.0,\n",
       "   'token_r': 1.0,\n",
       "   'token_f': 1.0,\n",
       "   'ents_p': 0.9029345372460497,\n",
       "   'ents_r': 0.8708272859216255,\n",
       "   'ents_f': 0.8865903213889915,\n",
       "   'ents_per_type': {'geo': {'p': 0.88119911176906,\n",
       "     'r': 0.8524883637665592,\n",
       "     'f': 0.8666060054595087},\n",
       "    'gpe': {'p': 0.9449618966977138,\n",
       "     'r': 0.9425675675675675,\n",
       "     'f': 0.9437632135306554},\n",
       "    'tim': {'p': 0.9114546732255797,\n",
       "     'r': 0.8532894736842105,\n",
       "     'f': 0.8814135236153584},\n",
       "    'nat': {'p': 0.6, 'r': 0.4, 'f': 0.48}},\n",
       "   'speed': 16363.639062545353},\n",
       "  'train_score': {'token_acc': 1.0,\n",
       "   'token_p': 1.0,\n",
       "   'token_r': 1.0,\n",
       "   'token_f': 1.0,\n",
       "   'ents_p': 0.9576611657086347,\n",
       "   'ents_r': 0.9502995113773435,\n",
       "   'ents_f': 0.9539661364802464,\n",
       "   'ents_per_type': {'tim': {'p': 0.9760953112990007,\n",
       "     'r': 0.9523773811309435,\n",
       "     'f': 0.9640904949893715},\n",
       "    'gpe': {'p': 0.9771428571428571,\n",
       "     'r': 0.9633802816901409,\n",
       "     'f': 0.9702127659574468},\n",
       "    'geo': {'p': 0.9405220883534137,\n",
       "     'r': 0.9448478980069394,\n",
       "     'f': 0.9426800305921185},\n",
       "    'nat': {'p': 0.8188976377952756,\n",
       "     'r': 0.7272727272727273,\n",
       "     'f': 0.7703703703703703}},\n",
       "   'speed': 15403.292278838015}},\n",
       " {'iter': 9,\n",
       "  'val_score': {'token_acc': 1.0,\n",
       "   'token_p': 1.0,\n",
       "   'token_r': 1.0,\n",
       "   'token_f': 1.0,\n",
       "   'ents_p': 0.8913284132841328,\n",
       "   'ents_r': 0.8764513788098693,\n",
       "   'ents_f': 0.8838272960117086,\n",
       "   'ents_per_type': {'geo': {'p': 0.8636526731252242,\n",
       "     'r': 0.8617973505191551,\n",
       "     'f': 0.8627240143369176},\n",
       "    'gpe': {'p': 0.9361880772460117,\n",
       "     'r': 0.941722972972973,\n",
       "     'f': 0.9389473684210528},\n",
       "    'tim': {'p': 0.9092812281926029,\n",
       "     'r': 0.8572368421052632,\n",
       "     'f': 0.8824923806298679},\n",
       "    'nat': {'p': 0.6666666666666666, 'r': 0.4, 'f': 0.5}},\n",
       "   'speed': 20630.711664800718},\n",
       "  'train_score': {'token_acc': 1.0,\n",
       "   'token_p': 1.0,\n",
       "   'token_r': 1.0,\n",
       "   'token_f': 1.0,\n",
       "   'ents_p': 0.9546560181619167,\n",
       "   'ents_r': 0.962872855886983,\n",
       "   'ents_f': 0.9587468319643347,\n",
       "   'ents_per_type': {'geo': {'p': 0.9373306632112145,\n",
       "     'r': 0.9630839990317115,\n",
       "     'f': 0.9500328338606651},\n",
       "    'gpe': {'p': 0.9776509747979077,\n",
       "     'r': 0.9652582159624413,\n",
       "     'f': 0.9714150720529175},\n",
       "    'tim': {'p': 0.9711887477313974,\n",
       "     'r': 0.9631768411579421,\n",
       "     'f': 0.9671662022742675},\n",
       "    'nat': {'p': 0.8046875, 'r': 0.7202797202797203, 'f': 0.7601476014760147}},\n",
       "   'speed': 19666.832793796148}}]"
      ]
     },
     "execution_count": 30,
     "metadata": {},
     "output_type": "execute_result"
    }
   ],
   "source": [
    "scores"
   ]
  },
  {
   "cell_type": "code",
   "execution_count": 31,
   "id": "3fd262a1",
   "metadata": {},
   "outputs": [],
   "source": [
    "def get_metric_per_epoch(scores, score_metric):\n",
    "    scores_list = []\n",
    "    for item in scores:\n",
    "        epoch_score ={\"epoch\":item[\"iter\"],\n",
    "                     \"train_score\":item[\"train_score\"][f\"ents_{score_metric}\"],\n",
    "                     \"val_score\":item[\"val_score\"][f\"ents_{score_metric}\"]}\n",
    "\n",
    "        scores_list.append(epoch_score)\n",
    "    df_scores = pd.DataFrame(scores_list)\n",
    "    return df_scores\n",
    "    "
   ]
  },
  {
   "cell_type": "code",
   "execution_count": 32,
   "id": "3388bfd7",
   "metadata": {},
   "outputs": [],
   "source": [
    "def get_metric_per_entity(scores, score_metric):\n",
    "    # Create a function to transform scores into dataframe\n",
    "    \n",
    "    scores_list = []\n",
    "    for item in scores:\n",
    "        epoch =item[\"iter\"]\n",
    "        \n",
    "        for ent in item[\"val_score\"]['ents_per_type'].keys():\n",
    "            epoch_score ={\n",
    "                \"epoch\":epoch,\n",
    "                \"ent\":ent,\n",
    "                \"train_score\":item[\"train_score\"]['ents_per_type'][ent][score_metric],\n",
    "                \"val_score\":item[\"val_score\"]['ents_per_type'][ent][score_metric]}\n",
    "            scores_list.append(epoch_score)\n",
    "    df_scores = pd.DataFrame(scores_list)\n",
    "    return df_scores       \n",
    "                "
   ]
  },
  {
   "cell_type": "code",
   "execution_count": 33,
   "id": "c62f39e7",
   "metadata": {},
   "outputs": [],
   "source": [
    "df_scores = get_metric_per_entity(scores, \"f\")"
   ]
  },
  {
   "cell_type": "code",
   "execution_count": 34,
   "id": "43d0c650",
   "metadata": {},
   "outputs": [
    {
     "data": {
      "text/html": [
       "<div>\n",
       "<style scoped>\n",
       "    .dataframe tbody tr th:only-of-type {\n",
       "        vertical-align: middle;\n",
       "    }\n",
       "\n",
       "    .dataframe tbody tr th {\n",
       "        vertical-align: top;\n",
       "    }\n",
       "\n",
       "    .dataframe thead th {\n",
       "        text-align: right;\n",
       "    }\n",
       "</style>\n",
       "<table border=\"1\" class=\"dataframe\">\n",
       "  <thead>\n",
       "    <tr style=\"text-align: right;\">\n",
       "      <th></th>\n",
       "      <th>epoch</th>\n",
       "      <th>ent</th>\n",
       "      <th>train_score</th>\n",
       "      <th>val_score</th>\n",
       "    </tr>\n",
       "  </thead>\n",
       "  <tbody>\n",
       "    <tr>\n",
       "      <th>0</th>\n",
       "      <td>0</td>\n",
       "      <td>geo</td>\n",
       "      <td>0.852884</td>\n",
       "      <td>0.845232</td>\n",
       "    </tr>\n",
       "    <tr>\n",
       "      <th>1</th>\n",
       "      <td>0</td>\n",
       "      <td>gpe</td>\n",
       "      <td>0.940308</td>\n",
       "      <td>0.937394</td>\n",
       "    </tr>\n",
       "    <tr>\n",
       "      <th>2</th>\n",
       "      <td>0</td>\n",
       "      <td>tim</td>\n",
       "      <td>0.869800</td>\n",
       "      <td>0.862613</td>\n",
       "    </tr>\n",
       "    <tr>\n",
       "      <th>3</th>\n",
       "      <td>0</td>\n",
       "      <td>nat</td>\n",
       "      <td>0.000000</td>\n",
       "      <td>0.000000</td>\n",
       "    </tr>\n",
       "    <tr>\n",
       "      <th>4</th>\n",
       "      <td>1</td>\n",
       "      <td>geo</td>\n",
       "      <td>0.882966</td>\n",
       "      <td>0.858015</td>\n",
       "    </tr>\n",
       "    <tr>\n",
       "      <th>5</th>\n",
       "      <td>1</td>\n",
       "      <td>gpe</td>\n",
       "      <td>0.952683</td>\n",
       "      <td>0.943364</td>\n",
       "    </tr>\n",
       "    <tr>\n",
       "      <th>6</th>\n",
       "      <td>1</td>\n",
       "      <td>tim</td>\n",
       "      <td>0.899815</td>\n",
       "      <td>0.871725</td>\n",
       "    </tr>\n",
       "    <tr>\n",
       "      <th>7</th>\n",
       "      <td>1</td>\n",
       "      <td>nat</td>\n",
       "      <td>0.279070</td>\n",
       "      <td>0.000000</td>\n",
       "    </tr>\n",
       "    <tr>\n",
       "      <th>8</th>\n",
       "      <td>2</td>\n",
       "      <td>geo</td>\n",
       "      <td>0.894391</td>\n",
       "      <td>0.861812</td>\n",
       "    </tr>\n",
       "    <tr>\n",
       "      <th>9</th>\n",
       "      <td>2</td>\n",
       "      <td>gpe</td>\n",
       "      <td>0.956567</td>\n",
       "      <td>0.944020</td>\n",
       "    </tr>\n",
       "    <tr>\n",
       "      <th>10</th>\n",
       "      <td>2</td>\n",
       "      <td>tim</td>\n",
       "      <td>0.910685</td>\n",
       "      <td>0.870879</td>\n",
       "    </tr>\n",
       "    <tr>\n",
       "      <th>11</th>\n",
       "      <td>2</td>\n",
       "      <td>nat</td>\n",
       "      <td>0.418848</td>\n",
       "      <td>0.000000</td>\n",
       "    </tr>\n",
       "    <tr>\n",
       "      <th>12</th>\n",
       "      <td>3</td>\n",
       "      <td>geo</td>\n",
       "      <td>0.913772</td>\n",
       "      <td>0.863276</td>\n",
       "    </tr>\n",
       "    <tr>\n",
       "      <th>13</th>\n",
       "      <td>3</td>\n",
       "      <td>gpe</td>\n",
       "      <td>0.960156</td>\n",
       "      <td>0.944822</td>\n",
       "    </tr>\n",
       "    <tr>\n",
       "      <th>14</th>\n",
       "      <td>3</td>\n",
       "      <td>tim</td>\n",
       "      <td>0.925223</td>\n",
       "      <td>0.873508</td>\n",
       "    </tr>\n",
       "    <tr>\n",
       "      <th>15</th>\n",
       "      <td>3</td>\n",
       "      <td>nat</td>\n",
       "      <td>0.555932</td>\n",
       "      <td>0.516129</td>\n",
       "    </tr>\n",
       "    <tr>\n",
       "      <th>16</th>\n",
       "      <td>4</td>\n",
       "      <td>geo</td>\n",
       "      <td>0.920539</td>\n",
       "      <td>0.862738</td>\n",
       "    </tr>\n",
       "    <tr>\n",
       "      <th>17</th>\n",
       "      <td>4</td>\n",
       "      <td>gpe</td>\n",
       "      <td>0.961988</td>\n",
       "      <td>0.946164</td>\n",
       "    </tr>\n",
       "    <tr>\n",
       "      <th>18</th>\n",
       "      <td>4</td>\n",
       "      <td>tim</td>\n",
       "      <td>0.939647</td>\n",
       "      <td>0.882075</td>\n",
       "    </tr>\n",
       "    <tr>\n",
       "      <th>19</th>\n",
       "      <td>4</td>\n",
       "      <td>nat</td>\n",
       "      <td>0.627178</td>\n",
       "      <td>0.500000</td>\n",
       "    </tr>\n",
       "    <tr>\n",
       "      <th>20</th>\n",
       "      <td>5</td>\n",
       "      <td>geo</td>\n",
       "      <td>0.929657</td>\n",
       "      <td>0.864865</td>\n",
       "    </tr>\n",
       "    <tr>\n",
       "      <th>21</th>\n",
       "      <td>5</td>\n",
       "      <td>gpe</td>\n",
       "      <td>0.963617</td>\n",
       "      <td>0.943668</td>\n",
       "    </tr>\n",
       "    <tr>\n",
       "      <th>22</th>\n",
       "      <td>5</td>\n",
       "      <td>tim</td>\n",
       "      <td>0.944332</td>\n",
       "      <td>0.878310</td>\n",
       "    </tr>\n",
       "    <tr>\n",
       "      <th>23</th>\n",
       "      <td>5</td>\n",
       "      <td>nat</td>\n",
       "      <td>0.587814</td>\n",
       "      <td>0.571429</td>\n",
       "    </tr>\n",
       "    <tr>\n",
       "      <th>24</th>\n",
       "      <td>6</td>\n",
       "      <td>geo</td>\n",
       "      <td>0.934510</td>\n",
       "      <td>0.860796</td>\n",
       "    </tr>\n",
       "    <tr>\n",
       "      <th>25</th>\n",
       "      <td>6</td>\n",
       "      <td>gpe</td>\n",
       "      <td>0.965462</td>\n",
       "      <td>0.944210</td>\n",
       "    </tr>\n",
       "    <tr>\n",
       "      <th>26</th>\n",
       "      <td>6</td>\n",
       "      <td>tim</td>\n",
       "      <td>0.945361</td>\n",
       "      <td>0.864847</td>\n",
       "    </tr>\n",
       "    <tr>\n",
       "      <th>27</th>\n",
       "      <td>6</td>\n",
       "      <td>nat</td>\n",
       "      <td>0.731518</td>\n",
       "      <td>0.521739</td>\n",
       "    </tr>\n",
       "    <tr>\n",
       "      <th>28</th>\n",
       "      <td>7</td>\n",
       "      <td>geo</td>\n",
       "      <td>0.940698</td>\n",
       "      <td>0.864225</td>\n",
       "    </tr>\n",
       "    <tr>\n",
       "      <th>29</th>\n",
       "      <td>7</td>\n",
       "      <td>gpe</td>\n",
       "      <td>0.968722</td>\n",
       "      <td>0.946746</td>\n",
       "    </tr>\n",
       "    <tr>\n",
       "      <th>30</th>\n",
       "      <td>7</td>\n",
       "      <td>tim</td>\n",
       "      <td>0.954182</td>\n",
       "      <td>0.871090</td>\n",
       "    </tr>\n",
       "    <tr>\n",
       "      <th>31</th>\n",
       "      <td>7</td>\n",
       "      <td>nat</td>\n",
       "      <td>0.750000</td>\n",
       "      <td>0.545455</td>\n",
       "    </tr>\n",
       "    <tr>\n",
       "      <th>32</th>\n",
       "      <td>8</td>\n",
       "      <td>geo</td>\n",
       "      <td>0.942680</td>\n",
       "      <td>0.866606</td>\n",
       "    </tr>\n",
       "    <tr>\n",
       "      <th>33</th>\n",
       "      <td>8</td>\n",
       "      <td>gpe</td>\n",
       "      <td>0.970213</td>\n",
       "      <td>0.943763</td>\n",
       "    </tr>\n",
       "    <tr>\n",
       "      <th>34</th>\n",
       "      <td>8</td>\n",
       "      <td>tim</td>\n",
       "      <td>0.964090</td>\n",
       "      <td>0.881414</td>\n",
       "    </tr>\n",
       "    <tr>\n",
       "      <th>35</th>\n",
       "      <td>8</td>\n",
       "      <td>nat</td>\n",
       "      <td>0.770370</td>\n",
       "      <td>0.480000</td>\n",
       "    </tr>\n",
       "    <tr>\n",
       "      <th>36</th>\n",
       "      <td>9</td>\n",
       "      <td>geo</td>\n",
       "      <td>0.950033</td>\n",
       "      <td>0.862724</td>\n",
       "    </tr>\n",
       "    <tr>\n",
       "      <th>37</th>\n",
       "      <td>9</td>\n",
       "      <td>gpe</td>\n",
       "      <td>0.971415</td>\n",
       "      <td>0.938947</td>\n",
       "    </tr>\n",
       "    <tr>\n",
       "      <th>38</th>\n",
       "      <td>9</td>\n",
       "      <td>tim</td>\n",
       "      <td>0.967166</td>\n",
       "      <td>0.882492</td>\n",
       "    </tr>\n",
       "    <tr>\n",
       "      <th>39</th>\n",
       "      <td>9</td>\n",
       "      <td>nat</td>\n",
       "      <td>0.760148</td>\n",
       "      <td>0.500000</td>\n",
       "    </tr>\n",
       "  </tbody>\n",
       "</table>\n",
       "</div>"
      ],
      "text/plain": [
       "    epoch  ent  train_score  val_score\n",
       "0       0  geo     0.852884   0.845232\n",
       "1       0  gpe     0.940308   0.937394\n",
       "2       0  tim     0.869800   0.862613\n",
       "3       0  nat     0.000000   0.000000\n",
       "4       1  geo     0.882966   0.858015\n",
       "5       1  gpe     0.952683   0.943364\n",
       "6       1  tim     0.899815   0.871725\n",
       "7       1  nat     0.279070   0.000000\n",
       "8       2  geo     0.894391   0.861812\n",
       "9       2  gpe     0.956567   0.944020\n",
       "10      2  tim     0.910685   0.870879\n",
       "11      2  nat     0.418848   0.000000\n",
       "12      3  geo     0.913772   0.863276\n",
       "13      3  gpe     0.960156   0.944822\n",
       "14      3  tim     0.925223   0.873508\n",
       "15      3  nat     0.555932   0.516129\n",
       "16      4  geo     0.920539   0.862738\n",
       "17      4  gpe     0.961988   0.946164\n",
       "18      4  tim     0.939647   0.882075\n",
       "19      4  nat     0.627178   0.500000\n",
       "20      5  geo     0.929657   0.864865\n",
       "21      5  gpe     0.963617   0.943668\n",
       "22      5  tim     0.944332   0.878310\n",
       "23      5  nat     0.587814   0.571429\n",
       "24      6  geo     0.934510   0.860796\n",
       "25      6  gpe     0.965462   0.944210\n",
       "26      6  tim     0.945361   0.864847\n",
       "27      6  nat     0.731518   0.521739\n",
       "28      7  geo     0.940698   0.864225\n",
       "29      7  gpe     0.968722   0.946746\n",
       "30      7  tim     0.954182   0.871090\n",
       "31      7  nat     0.750000   0.545455\n",
       "32      8  geo     0.942680   0.866606\n",
       "33      8  gpe     0.970213   0.943763\n",
       "34      8  tim     0.964090   0.881414\n",
       "35      8  nat     0.770370   0.480000\n",
       "36      9  geo     0.950033   0.862724\n",
       "37      9  gpe     0.971415   0.938947\n",
       "38      9  tim     0.967166   0.882492\n",
       "39      9  nat     0.760148   0.500000"
      ]
     },
     "execution_count": 34,
     "metadata": {},
     "output_type": "execute_result"
    }
   ],
   "source": [
    "df_scores"
   ]
  },
  {
   "cell_type": "code",
   "execution_count": 35,
   "id": "d97417cb",
   "metadata": {},
   "outputs": [
    {
     "data": {
      "application/vnd.plotly.v1+json": {
       "config": {
        "linkText": "Export to plot.ly",
        "plotlyServerURL": "https://plot.ly",
        "showLink": false
       },
       "data": [
        {
         "marker": {
          "size": 5
         },
         "mode": "lines",
         "name": "train_score",
         "type": "scatter",
         "x": [
          0,
          0,
          0,
          0,
          1,
          1,
          1,
          1,
          2,
          2,
          2,
          2,
          3,
          3,
          3,
          3,
          4,
          4,
          4,
          4,
          5,
          5,
          5,
          5,
          6,
          6,
          6,
          6,
          7,
          7,
          7,
          7,
          8,
          8,
          8,
          8,
          9,
          9,
          9,
          9
         ],
         "y": [
          0.8528844758607824,
          0.9403076923076923,
          0.8697995748557545,
          0,
          0.8829656985729484,
          0.9526834818888679,
          0.8998154697831771,
          0.27906976744186046,
          0.8943912068726068,
          0.9565671429249538,
          0.9106853125241443,
          0.41884816753926707,
          0.9137717730691436,
          0.9601563244685921,
          0.9252232570618222,
          0.5559322033898304,
          0.9205390793030644,
          0.961988026228262,
          0.939647027701145,
          0.627177700348432,
          0.929656926041439,
          0.9636165267302309,
          0.9443316030993757,
          0.5878136200716846,
          0.9345104916248413,
          0.9654616187494068,
          0.9453609016944091,
          0.7315175097276263,
          0.940698422915996,
          0.968721818785894,
          0.9541824295922657,
          0.75,
          0.9426800305921185,
          0.9702127659574468,
          0.9640904949893715,
          0.7703703703703703,
          0.9500328338606651,
          0.9714150720529175,
          0.9671662022742675,
          0.7601476014760147
         ]
        },
        {
         "marker": {
          "size": 5
         },
         "mode": "lines",
         "name": "val_score",
         "type": "scatter",
         "x": [
          0,
          0,
          0,
          0,
          1,
          1,
          1,
          1,
          2,
          2,
          2,
          2,
          3,
          3,
          3,
          3,
          4,
          4,
          4,
          4,
          5,
          5,
          5,
          5,
          6,
          6,
          6,
          6,
          7,
          7,
          7,
          7,
          8,
          8,
          8,
          8,
          9,
          9,
          9,
          9
         ],
         "y": [
          0.8452315071020106,
          0.937394247038917,
          0.8626133691635876,
          0,
          0.858014719080955,
          0.9433643279797127,
          0.871725076556652,
          0,
          0.8618117229129661,
          0.9440203562340966,
          0.8708791208791209,
          0,
          0.8632764385007919,
          0.9448217317487266,
          0.8735083532219571,
          0.5161290322580646,
          0.8627381164322592,
          0.9461636286562103,
          0.8820754716981132,
          0.5,
          0.8648648648648649,
          0.9436679373146971,
          0.8783104257458935,
          0.5714285714285715,
          0.8607964925100475,
          0.9442096365173289,
          0.8648468708388816,
          0.5217391304347827,
          0.8642245307089484,
          0.9467455621301775,
          0.8710897215537984,
          0.5454545454545455,
          0.8666060054595087,
          0.9437632135306554,
          0.8814135236153584,
          0.48,
          0.8627240143369176,
          0.9389473684210528,
          0.8824923806298679,
          0.5
         ]
        }
       ],
       "layout": {
        "template": {
         "data": {
          "bar": [
           {
            "error_x": {
             "color": "#2a3f5f"
            },
            "error_y": {
             "color": "#2a3f5f"
            },
            "marker": {
             "line": {
              "color": "#E5ECF6",
              "width": 0.5
             },
             "pattern": {
              "fillmode": "overlay",
              "size": 10,
              "solidity": 0.2
             }
            },
            "type": "bar"
           }
          ],
          "barpolar": [
           {
            "marker": {
             "line": {
              "color": "#E5ECF6",
              "width": 0.5
             },
             "pattern": {
              "fillmode": "overlay",
              "size": 10,
              "solidity": 0.2
             }
            },
            "type": "barpolar"
           }
          ],
          "carpet": [
           {
            "aaxis": {
             "endlinecolor": "#2a3f5f",
             "gridcolor": "white",
             "linecolor": "white",
             "minorgridcolor": "white",
             "startlinecolor": "#2a3f5f"
            },
            "baxis": {
             "endlinecolor": "#2a3f5f",
             "gridcolor": "white",
             "linecolor": "white",
             "minorgridcolor": "white",
             "startlinecolor": "#2a3f5f"
            },
            "type": "carpet"
           }
          ],
          "choropleth": [
           {
            "colorbar": {
             "outlinewidth": 0,
             "ticks": ""
            },
            "type": "choropleth"
           }
          ],
          "contour": [
           {
            "colorbar": {
             "outlinewidth": 0,
             "ticks": ""
            },
            "colorscale": [
             [
              0,
              "#0d0887"
             ],
             [
              0.1111111111111111,
              "#46039f"
             ],
             [
              0.2222222222222222,
              "#7201a8"
             ],
             [
              0.3333333333333333,
              "#9c179e"
             ],
             [
              0.4444444444444444,
              "#bd3786"
             ],
             [
              0.5555555555555556,
              "#d8576b"
             ],
             [
              0.6666666666666666,
              "#ed7953"
             ],
             [
              0.7777777777777778,
              "#fb9f3a"
             ],
             [
              0.8888888888888888,
              "#fdca26"
             ],
             [
              1,
              "#f0f921"
             ]
            ],
            "type": "contour"
           }
          ],
          "contourcarpet": [
           {
            "colorbar": {
             "outlinewidth": 0,
             "ticks": ""
            },
            "type": "contourcarpet"
           }
          ],
          "heatmap": [
           {
            "colorbar": {
             "outlinewidth": 0,
             "ticks": ""
            },
            "colorscale": [
             [
              0,
              "#0d0887"
             ],
             [
              0.1111111111111111,
              "#46039f"
             ],
             [
              0.2222222222222222,
              "#7201a8"
             ],
             [
              0.3333333333333333,
              "#9c179e"
             ],
             [
              0.4444444444444444,
              "#bd3786"
             ],
             [
              0.5555555555555556,
              "#d8576b"
             ],
             [
              0.6666666666666666,
              "#ed7953"
             ],
             [
              0.7777777777777778,
              "#fb9f3a"
             ],
             [
              0.8888888888888888,
              "#fdca26"
             ],
             [
              1,
              "#f0f921"
             ]
            ],
            "type": "heatmap"
           }
          ],
          "heatmapgl": [
           {
            "colorbar": {
             "outlinewidth": 0,
             "ticks": ""
            },
            "colorscale": [
             [
              0,
              "#0d0887"
             ],
             [
              0.1111111111111111,
              "#46039f"
             ],
             [
              0.2222222222222222,
              "#7201a8"
             ],
             [
              0.3333333333333333,
              "#9c179e"
             ],
             [
              0.4444444444444444,
              "#bd3786"
             ],
             [
              0.5555555555555556,
              "#d8576b"
             ],
             [
              0.6666666666666666,
              "#ed7953"
             ],
             [
              0.7777777777777778,
              "#fb9f3a"
             ],
             [
              0.8888888888888888,
              "#fdca26"
             ],
             [
              1,
              "#f0f921"
             ]
            ],
            "type": "heatmapgl"
           }
          ],
          "histogram": [
           {
            "marker": {
             "pattern": {
              "fillmode": "overlay",
              "size": 10,
              "solidity": 0.2
             }
            },
            "type": "histogram"
           }
          ],
          "histogram2d": [
           {
            "colorbar": {
             "outlinewidth": 0,
             "ticks": ""
            },
            "colorscale": [
             [
              0,
              "#0d0887"
             ],
             [
              0.1111111111111111,
              "#46039f"
             ],
             [
              0.2222222222222222,
              "#7201a8"
             ],
             [
              0.3333333333333333,
              "#9c179e"
             ],
             [
              0.4444444444444444,
              "#bd3786"
             ],
             [
              0.5555555555555556,
              "#d8576b"
             ],
             [
              0.6666666666666666,
              "#ed7953"
             ],
             [
              0.7777777777777778,
              "#fb9f3a"
             ],
             [
              0.8888888888888888,
              "#fdca26"
             ],
             [
              1,
              "#f0f921"
             ]
            ],
            "type": "histogram2d"
           }
          ],
          "histogram2dcontour": [
           {
            "colorbar": {
             "outlinewidth": 0,
             "ticks": ""
            },
            "colorscale": [
             [
              0,
              "#0d0887"
             ],
             [
              0.1111111111111111,
              "#46039f"
             ],
             [
              0.2222222222222222,
              "#7201a8"
             ],
             [
              0.3333333333333333,
              "#9c179e"
             ],
             [
              0.4444444444444444,
              "#bd3786"
             ],
             [
              0.5555555555555556,
              "#d8576b"
             ],
             [
              0.6666666666666666,
              "#ed7953"
             ],
             [
              0.7777777777777778,
              "#fb9f3a"
             ],
             [
              0.8888888888888888,
              "#fdca26"
             ],
             [
              1,
              "#f0f921"
             ]
            ],
            "type": "histogram2dcontour"
           }
          ],
          "mesh3d": [
           {
            "colorbar": {
             "outlinewidth": 0,
             "ticks": ""
            },
            "type": "mesh3d"
           }
          ],
          "parcoords": [
           {
            "line": {
             "colorbar": {
              "outlinewidth": 0,
              "ticks": ""
             }
            },
            "type": "parcoords"
           }
          ],
          "pie": [
           {
            "automargin": true,
            "type": "pie"
           }
          ],
          "scatter": [
           {
            "fillpattern": {
             "fillmode": "overlay",
             "size": 10,
             "solidity": 0.2
            },
            "type": "scatter"
           }
          ],
          "scatter3d": [
           {
            "line": {
             "colorbar": {
              "outlinewidth": 0,
              "ticks": ""
             }
            },
            "marker": {
             "colorbar": {
              "outlinewidth": 0,
              "ticks": ""
             }
            },
            "type": "scatter3d"
           }
          ],
          "scattercarpet": [
           {
            "marker": {
             "colorbar": {
              "outlinewidth": 0,
              "ticks": ""
             }
            },
            "type": "scattercarpet"
           }
          ],
          "scattergeo": [
           {
            "marker": {
             "colorbar": {
              "outlinewidth": 0,
              "ticks": ""
             }
            },
            "type": "scattergeo"
           }
          ],
          "scattergl": [
           {
            "marker": {
             "colorbar": {
              "outlinewidth": 0,
              "ticks": ""
             }
            },
            "type": "scattergl"
           }
          ],
          "scattermapbox": [
           {
            "marker": {
             "colorbar": {
              "outlinewidth": 0,
              "ticks": ""
             }
            },
            "type": "scattermapbox"
           }
          ],
          "scatterpolar": [
           {
            "marker": {
             "colorbar": {
              "outlinewidth": 0,
              "ticks": ""
             }
            },
            "type": "scatterpolar"
           }
          ],
          "scatterpolargl": [
           {
            "marker": {
             "colorbar": {
              "outlinewidth": 0,
              "ticks": ""
             }
            },
            "type": "scatterpolargl"
           }
          ],
          "scatterternary": [
           {
            "marker": {
             "colorbar": {
              "outlinewidth": 0,
              "ticks": ""
             }
            },
            "type": "scatterternary"
           }
          ],
          "surface": [
           {
            "colorbar": {
             "outlinewidth": 0,
             "ticks": ""
            },
            "colorscale": [
             [
              0,
              "#0d0887"
             ],
             [
              0.1111111111111111,
              "#46039f"
             ],
             [
              0.2222222222222222,
              "#7201a8"
             ],
             [
              0.3333333333333333,
              "#9c179e"
             ],
             [
              0.4444444444444444,
              "#bd3786"
             ],
             [
              0.5555555555555556,
              "#d8576b"
             ],
             [
              0.6666666666666666,
              "#ed7953"
             ],
             [
              0.7777777777777778,
              "#fb9f3a"
             ],
             [
              0.8888888888888888,
              "#fdca26"
             ],
             [
              1,
              "#f0f921"
             ]
            ],
            "type": "surface"
           }
          ],
          "table": [
           {
            "cells": {
             "fill": {
              "color": "#EBF0F8"
             },
             "line": {
              "color": "white"
             }
            },
            "header": {
             "fill": {
              "color": "#C8D4E3"
             },
             "line": {
              "color": "white"
             }
            },
            "type": "table"
           }
          ]
         },
         "layout": {
          "annotationdefaults": {
           "arrowcolor": "#2a3f5f",
           "arrowhead": 0,
           "arrowwidth": 1
          },
          "autotypenumbers": "strict",
          "coloraxis": {
           "colorbar": {
            "outlinewidth": 0,
            "ticks": ""
           }
          },
          "colorscale": {
           "diverging": [
            [
             0,
             "#8e0152"
            ],
            [
             0.1,
             "#c51b7d"
            ],
            [
             0.2,
             "#de77ae"
            ],
            [
             0.3,
             "#f1b6da"
            ],
            [
             0.4,
             "#fde0ef"
            ],
            [
             0.5,
             "#f7f7f7"
            ],
            [
             0.6,
             "#e6f5d0"
            ],
            [
             0.7,
             "#b8e186"
            ],
            [
             0.8,
             "#7fbc41"
            ],
            [
             0.9,
             "#4d9221"
            ],
            [
             1,
             "#276419"
            ]
           ],
           "sequential": [
            [
             0,
             "#0d0887"
            ],
            [
             0.1111111111111111,
             "#46039f"
            ],
            [
             0.2222222222222222,
             "#7201a8"
            ],
            [
             0.3333333333333333,
             "#9c179e"
            ],
            [
             0.4444444444444444,
             "#bd3786"
            ],
            [
             0.5555555555555556,
             "#d8576b"
            ],
            [
             0.6666666666666666,
             "#ed7953"
            ],
            [
             0.7777777777777778,
             "#fb9f3a"
            ],
            [
             0.8888888888888888,
             "#fdca26"
            ],
            [
             1,
             "#f0f921"
            ]
           ],
           "sequentialminus": [
            [
             0,
             "#0d0887"
            ],
            [
             0.1111111111111111,
             "#46039f"
            ],
            [
             0.2222222222222222,
             "#7201a8"
            ],
            [
             0.3333333333333333,
             "#9c179e"
            ],
            [
             0.4444444444444444,
             "#bd3786"
            ],
            [
             0.5555555555555556,
             "#d8576b"
            ],
            [
             0.6666666666666666,
             "#ed7953"
            ],
            [
             0.7777777777777778,
             "#fb9f3a"
            ],
            [
             0.8888888888888888,
             "#fdca26"
            ],
            [
             1,
             "#f0f921"
            ]
           ]
          },
          "colorway": [
           "#636efa",
           "#EF553B",
           "#00cc96",
           "#ab63fa",
           "#FFA15A",
           "#19d3f3",
           "#FF6692",
           "#B6E880",
           "#FF97FF",
           "#FECB52"
          ],
          "font": {
           "color": "#2a3f5f"
          },
          "geo": {
           "bgcolor": "white",
           "lakecolor": "white",
           "landcolor": "#E5ECF6",
           "showlakes": true,
           "showland": true,
           "subunitcolor": "white"
          },
          "hoverlabel": {
           "align": "left"
          },
          "hovermode": "closest",
          "mapbox": {
           "style": "light"
          },
          "paper_bgcolor": "white",
          "plot_bgcolor": "#E5ECF6",
          "polar": {
           "angularaxis": {
            "gridcolor": "white",
            "linecolor": "white",
            "ticks": ""
           },
           "bgcolor": "#E5ECF6",
           "radialaxis": {
            "gridcolor": "white",
            "linecolor": "white",
            "ticks": ""
           }
          },
          "scene": {
           "xaxis": {
            "backgroundcolor": "#E5ECF6",
            "gridcolor": "white",
            "gridwidth": 2,
            "linecolor": "white",
            "showbackground": true,
            "ticks": "",
            "zerolinecolor": "white"
           },
           "yaxis": {
            "backgroundcolor": "#E5ECF6",
            "gridcolor": "white",
            "gridwidth": 2,
            "linecolor": "white",
            "showbackground": true,
            "ticks": "",
            "zerolinecolor": "white"
           },
           "zaxis": {
            "backgroundcolor": "#E5ECF6",
            "gridcolor": "white",
            "gridwidth": 2,
            "linecolor": "white",
            "showbackground": true,
            "ticks": "",
            "zerolinecolor": "white"
           }
          },
          "shapedefaults": {
           "line": {
            "color": "#2a3f5f"
           }
          },
          "ternary": {
           "aaxis": {
            "gridcolor": "white",
            "linecolor": "white",
            "ticks": ""
           },
           "baxis": {
            "gridcolor": "white",
            "linecolor": "white",
            "ticks": ""
           },
           "bgcolor": "#E5ECF6",
           "caxis": {
            "gridcolor": "white",
            "linecolor": "white",
            "ticks": ""
           }
          },
          "title": {
           "x": 0.05
          },
          "xaxis": {
           "automargin": true,
           "gridcolor": "white",
           "linecolor": "white",
           "ticks": "",
           "title": {
            "standoff": 15
           },
           "zerolinecolor": "white",
           "zerolinewidth": 2
          },
          "yaxis": {
           "automargin": true,
           "gridcolor": "white",
           "linecolor": "white",
           "ticks": "",
           "title": {
            "standoff": 15
           },
           "zerolinecolor": "white",
           "zerolinewidth": 2
          }
         }
        },
        "title": {
         "text": "<b>Performance by epoch"
        }
       }
      }
     },
     "metadata": {},
     "output_type": "display_data"
    }
   ],
   "source": [
    "data=[]\n",
    "for score in [\"train_score\", \"val_score\"]:\n",
    "    \n",
    "    trace=go.Scatter(\n",
    "                x=df_scores.epoch,\n",
    "                y=df_scores[score],\n",
    "                mode='lines',\n",
    "                marker=dict(\n",
    "                size=5\n",
    "                ),\n",
    "            name=score,\n",
    "\n",
    "            )\n",
    "    data.append(trace)\n",
    "    \n",
    "figure=go.Figure(\n",
    "    data=data,\n",
    "    layout=go.Layout(\n",
    "        title=f\"<b>Performance by epoch\",\n",
    "    \n",
    "    ))\n",
    "iplot(figure)"
   ]
  },
  {
   "cell_type": "code",
   "execution_count": 36,
   "id": "daa1211c",
   "metadata": {},
   "outputs": [
    {
     "data": {
      "application/vnd.plotly.v1+json": {
       "config": {
        "linkText": "Export to plot.ly",
        "plotlyServerURL": "https://plot.ly",
        "showLink": false
       },
       "data": [
        {
         "marker": {
          "size": 5
         },
         "mode": "lines",
         "name": "geo",
         "type": "scatter",
         "x": [
          0,
          1,
          2,
          3,
          4,
          5,
          6,
          7,
          8,
          9
         ],
         "y": [
          0.8452315071020106,
          0.858014719080955,
          0.8618117229129661,
          0.8632764385007919,
          0.8627381164322592,
          0.8648648648648649,
          0.8607964925100475,
          0.8642245307089484,
          0.8666060054595087,
          0.8627240143369176
         ]
        },
        {
         "marker": {
          "size": 5
         },
         "mode": "lines",
         "name": "gpe",
         "type": "scatter",
         "x": [
          0,
          1,
          2,
          3,
          4,
          5,
          6,
          7,
          8,
          9
         ],
         "y": [
          0.937394247038917,
          0.9433643279797127,
          0.9440203562340966,
          0.9448217317487266,
          0.9461636286562103,
          0.9436679373146971,
          0.9442096365173289,
          0.9467455621301775,
          0.9437632135306554,
          0.9389473684210528
         ]
        },
        {
         "marker": {
          "size": 5
         },
         "mode": "lines",
         "name": "tim",
         "type": "scatter",
         "x": [
          0,
          1,
          2,
          3,
          4,
          5,
          6,
          7,
          8,
          9
         ],
         "y": [
          0.8626133691635876,
          0.871725076556652,
          0.8708791208791209,
          0.8735083532219571,
          0.8820754716981132,
          0.8783104257458935,
          0.8648468708388816,
          0.8710897215537984,
          0.8814135236153584,
          0.8824923806298679
         ]
        },
        {
         "marker": {
          "size": 5
         },
         "mode": "lines",
         "name": "nat",
         "type": "scatter",
         "x": [
          0,
          1,
          2,
          3,
          4,
          5,
          6,
          7,
          8,
          9
         ],
         "y": [
          0,
          0,
          0,
          0.5161290322580646,
          0.5,
          0.5714285714285715,
          0.5217391304347827,
          0.5454545454545455,
          0.48,
          0.5
         ]
        }
       ],
       "layout": {
        "template": {
         "data": {
          "bar": [
           {
            "error_x": {
             "color": "#2a3f5f"
            },
            "error_y": {
             "color": "#2a3f5f"
            },
            "marker": {
             "line": {
              "color": "#E5ECF6",
              "width": 0.5
             },
             "pattern": {
              "fillmode": "overlay",
              "size": 10,
              "solidity": 0.2
             }
            },
            "type": "bar"
           }
          ],
          "barpolar": [
           {
            "marker": {
             "line": {
              "color": "#E5ECF6",
              "width": 0.5
             },
             "pattern": {
              "fillmode": "overlay",
              "size": 10,
              "solidity": 0.2
             }
            },
            "type": "barpolar"
           }
          ],
          "carpet": [
           {
            "aaxis": {
             "endlinecolor": "#2a3f5f",
             "gridcolor": "white",
             "linecolor": "white",
             "minorgridcolor": "white",
             "startlinecolor": "#2a3f5f"
            },
            "baxis": {
             "endlinecolor": "#2a3f5f",
             "gridcolor": "white",
             "linecolor": "white",
             "minorgridcolor": "white",
             "startlinecolor": "#2a3f5f"
            },
            "type": "carpet"
           }
          ],
          "choropleth": [
           {
            "colorbar": {
             "outlinewidth": 0,
             "ticks": ""
            },
            "type": "choropleth"
           }
          ],
          "contour": [
           {
            "colorbar": {
             "outlinewidth": 0,
             "ticks": ""
            },
            "colorscale": [
             [
              0,
              "#0d0887"
             ],
             [
              0.1111111111111111,
              "#46039f"
             ],
             [
              0.2222222222222222,
              "#7201a8"
             ],
             [
              0.3333333333333333,
              "#9c179e"
             ],
             [
              0.4444444444444444,
              "#bd3786"
             ],
             [
              0.5555555555555556,
              "#d8576b"
             ],
             [
              0.6666666666666666,
              "#ed7953"
             ],
             [
              0.7777777777777778,
              "#fb9f3a"
             ],
             [
              0.8888888888888888,
              "#fdca26"
             ],
             [
              1,
              "#f0f921"
             ]
            ],
            "type": "contour"
           }
          ],
          "contourcarpet": [
           {
            "colorbar": {
             "outlinewidth": 0,
             "ticks": ""
            },
            "type": "contourcarpet"
           }
          ],
          "heatmap": [
           {
            "colorbar": {
             "outlinewidth": 0,
             "ticks": ""
            },
            "colorscale": [
             [
              0,
              "#0d0887"
             ],
             [
              0.1111111111111111,
              "#46039f"
             ],
             [
              0.2222222222222222,
              "#7201a8"
             ],
             [
              0.3333333333333333,
              "#9c179e"
             ],
             [
              0.4444444444444444,
              "#bd3786"
             ],
             [
              0.5555555555555556,
              "#d8576b"
             ],
             [
              0.6666666666666666,
              "#ed7953"
             ],
             [
              0.7777777777777778,
              "#fb9f3a"
             ],
             [
              0.8888888888888888,
              "#fdca26"
             ],
             [
              1,
              "#f0f921"
             ]
            ],
            "type": "heatmap"
           }
          ],
          "heatmapgl": [
           {
            "colorbar": {
             "outlinewidth": 0,
             "ticks": ""
            },
            "colorscale": [
             [
              0,
              "#0d0887"
             ],
             [
              0.1111111111111111,
              "#46039f"
             ],
             [
              0.2222222222222222,
              "#7201a8"
             ],
             [
              0.3333333333333333,
              "#9c179e"
             ],
             [
              0.4444444444444444,
              "#bd3786"
             ],
             [
              0.5555555555555556,
              "#d8576b"
             ],
             [
              0.6666666666666666,
              "#ed7953"
             ],
             [
              0.7777777777777778,
              "#fb9f3a"
             ],
             [
              0.8888888888888888,
              "#fdca26"
             ],
             [
              1,
              "#f0f921"
             ]
            ],
            "type": "heatmapgl"
           }
          ],
          "histogram": [
           {
            "marker": {
             "pattern": {
              "fillmode": "overlay",
              "size": 10,
              "solidity": 0.2
             }
            },
            "type": "histogram"
           }
          ],
          "histogram2d": [
           {
            "colorbar": {
             "outlinewidth": 0,
             "ticks": ""
            },
            "colorscale": [
             [
              0,
              "#0d0887"
             ],
             [
              0.1111111111111111,
              "#46039f"
             ],
             [
              0.2222222222222222,
              "#7201a8"
             ],
             [
              0.3333333333333333,
              "#9c179e"
             ],
             [
              0.4444444444444444,
              "#bd3786"
             ],
             [
              0.5555555555555556,
              "#d8576b"
             ],
             [
              0.6666666666666666,
              "#ed7953"
             ],
             [
              0.7777777777777778,
              "#fb9f3a"
             ],
             [
              0.8888888888888888,
              "#fdca26"
             ],
             [
              1,
              "#f0f921"
             ]
            ],
            "type": "histogram2d"
           }
          ],
          "histogram2dcontour": [
           {
            "colorbar": {
             "outlinewidth": 0,
             "ticks": ""
            },
            "colorscale": [
             [
              0,
              "#0d0887"
             ],
             [
              0.1111111111111111,
              "#46039f"
             ],
             [
              0.2222222222222222,
              "#7201a8"
             ],
             [
              0.3333333333333333,
              "#9c179e"
             ],
             [
              0.4444444444444444,
              "#bd3786"
             ],
             [
              0.5555555555555556,
              "#d8576b"
             ],
             [
              0.6666666666666666,
              "#ed7953"
             ],
             [
              0.7777777777777778,
              "#fb9f3a"
             ],
             [
              0.8888888888888888,
              "#fdca26"
             ],
             [
              1,
              "#f0f921"
             ]
            ],
            "type": "histogram2dcontour"
           }
          ],
          "mesh3d": [
           {
            "colorbar": {
             "outlinewidth": 0,
             "ticks": ""
            },
            "type": "mesh3d"
           }
          ],
          "parcoords": [
           {
            "line": {
             "colorbar": {
              "outlinewidth": 0,
              "ticks": ""
             }
            },
            "type": "parcoords"
           }
          ],
          "pie": [
           {
            "automargin": true,
            "type": "pie"
           }
          ],
          "scatter": [
           {
            "fillpattern": {
             "fillmode": "overlay",
             "size": 10,
             "solidity": 0.2
            },
            "type": "scatter"
           }
          ],
          "scatter3d": [
           {
            "line": {
             "colorbar": {
              "outlinewidth": 0,
              "ticks": ""
             }
            },
            "marker": {
             "colorbar": {
              "outlinewidth": 0,
              "ticks": ""
             }
            },
            "type": "scatter3d"
           }
          ],
          "scattercarpet": [
           {
            "marker": {
             "colorbar": {
              "outlinewidth": 0,
              "ticks": ""
             }
            },
            "type": "scattercarpet"
           }
          ],
          "scattergeo": [
           {
            "marker": {
             "colorbar": {
              "outlinewidth": 0,
              "ticks": ""
             }
            },
            "type": "scattergeo"
           }
          ],
          "scattergl": [
           {
            "marker": {
             "colorbar": {
              "outlinewidth": 0,
              "ticks": ""
             }
            },
            "type": "scattergl"
           }
          ],
          "scattermapbox": [
           {
            "marker": {
             "colorbar": {
              "outlinewidth": 0,
              "ticks": ""
             }
            },
            "type": "scattermapbox"
           }
          ],
          "scatterpolar": [
           {
            "marker": {
             "colorbar": {
              "outlinewidth": 0,
              "ticks": ""
             }
            },
            "type": "scatterpolar"
           }
          ],
          "scatterpolargl": [
           {
            "marker": {
             "colorbar": {
              "outlinewidth": 0,
              "ticks": ""
             }
            },
            "type": "scatterpolargl"
           }
          ],
          "scatterternary": [
           {
            "marker": {
             "colorbar": {
              "outlinewidth": 0,
              "ticks": ""
             }
            },
            "type": "scatterternary"
           }
          ],
          "surface": [
           {
            "colorbar": {
             "outlinewidth": 0,
             "ticks": ""
            },
            "colorscale": [
             [
              0,
              "#0d0887"
             ],
             [
              0.1111111111111111,
              "#46039f"
             ],
             [
              0.2222222222222222,
              "#7201a8"
             ],
             [
              0.3333333333333333,
              "#9c179e"
             ],
             [
              0.4444444444444444,
              "#bd3786"
             ],
             [
              0.5555555555555556,
              "#d8576b"
             ],
             [
              0.6666666666666666,
              "#ed7953"
             ],
             [
              0.7777777777777778,
              "#fb9f3a"
             ],
             [
              0.8888888888888888,
              "#fdca26"
             ],
             [
              1,
              "#f0f921"
             ]
            ],
            "type": "surface"
           }
          ],
          "table": [
           {
            "cells": {
             "fill": {
              "color": "#EBF0F8"
             },
             "line": {
              "color": "white"
             }
            },
            "header": {
             "fill": {
              "color": "#C8D4E3"
             },
             "line": {
              "color": "white"
             }
            },
            "type": "table"
           }
          ]
         },
         "layout": {
          "annotationdefaults": {
           "arrowcolor": "#2a3f5f",
           "arrowhead": 0,
           "arrowwidth": 1
          },
          "autotypenumbers": "strict",
          "coloraxis": {
           "colorbar": {
            "outlinewidth": 0,
            "ticks": ""
           }
          },
          "colorscale": {
           "diverging": [
            [
             0,
             "#8e0152"
            ],
            [
             0.1,
             "#c51b7d"
            ],
            [
             0.2,
             "#de77ae"
            ],
            [
             0.3,
             "#f1b6da"
            ],
            [
             0.4,
             "#fde0ef"
            ],
            [
             0.5,
             "#f7f7f7"
            ],
            [
             0.6,
             "#e6f5d0"
            ],
            [
             0.7,
             "#b8e186"
            ],
            [
             0.8,
             "#7fbc41"
            ],
            [
             0.9,
             "#4d9221"
            ],
            [
             1,
             "#276419"
            ]
           ],
           "sequential": [
            [
             0,
             "#0d0887"
            ],
            [
             0.1111111111111111,
             "#46039f"
            ],
            [
             0.2222222222222222,
             "#7201a8"
            ],
            [
             0.3333333333333333,
             "#9c179e"
            ],
            [
             0.4444444444444444,
             "#bd3786"
            ],
            [
             0.5555555555555556,
             "#d8576b"
            ],
            [
             0.6666666666666666,
             "#ed7953"
            ],
            [
             0.7777777777777778,
             "#fb9f3a"
            ],
            [
             0.8888888888888888,
             "#fdca26"
            ],
            [
             1,
             "#f0f921"
            ]
           ],
           "sequentialminus": [
            [
             0,
             "#0d0887"
            ],
            [
             0.1111111111111111,
             "#46039f"
            ],
            [
             0.2222222222222222,
             "#7201a8"
            ],
            [
             0.3333333333333333,
             "#9c179e"
            ],
            [
             0.4444444444444444,
             "#bd3786"
            ],
            [
             0.5555555555555556,
             "#d8576b"
            ],
            [
             0.6666666666666666,
             "#ed7953"
            ],
            [
             0.7777777777777778,
             "#fb9f3a"
            ],
            [
             0.8888888888888888,
             "#fdca26"
            ],
            [
             1,
             "#f0f921"
            ]
           ]
          },
          "colorway": [
           "#636efa",
           "#EF553B",
           "#00cc96",
           "#ab63fa",
           "#FFA15A",
           "#19d3f3",
           "#FF6692",
           "#B6E880",
           "#FF97FF",
           "#FECB52"
          ],
          "font": {
           "color": "#2a3f5f"
          },
          "geo": {
           "bgcolor": "white",
           "lakecolor": "white",
           "landcolor": "#E5ECF6",
           "showlakes": true,
           "showland": true,
           "subunitcolor": "white"
          },
          "hoverlabel": {
           "align": "left"
          },
          "hovermode": "closest",
          "mapbox": {
           "style": "light"
          },
          "paper_bgcolor": "white",
          "plot_bgcolor": "#E5ECF6",
          "polar": {
           "angularaxis": {
            "gridcolor": "white",
            "linecolor": "white",
            "ticks": ""
           },
           "bgcolor": "#E5ECF6",
           "radialaxis": {
            "gridcolor": "white",
            "linecolor": "white",
            "ticks": ""
           }
          },
          "scene": {
           "xaxis": {
            "backgroundcolor": "#E5ECF6",
            "gridcolor": "white",
            "gridwidth": 2,
            "linecolor": "white",
            "showbackground": true,
            "ticks": "",
            "zerolinecolor": "white"
           },
           "yaxis": {
            "backgroundcolor": "#E5ECF6",
            "gridcolor": "white",
            "gridwidth": 2,
            "linecolor": "white",
            "showbackground": true,
            "ticks": "",
            "zerolinecolor": "white"
           },
           "zaxis": {
            "backgroundcolor": "#E5ECF6",
            "gridcolor": "white",
            "gridwidth": 2,
            "linecolor": "white",
            "showbackground": true,
            "ticks": "",
            "zerolinecolor": "white"
           }
          },
          "shapedefaults": {
           "line": {
            "color": "#2a3f5f"
           }
          },
          "ternary": {
           "aaxis": {
            "gridcolor": "white",
            "linecolor": "white",
            "ticks": ""
           },
           "baxis": {
            "gridcolor": "white",
            "linecolor": "white",
            "ticks": ""
           },
           "bgcolor": "#E5ECF6",
           "caxis": {
            "gridcolor": "white",
            "linecolor": "white",
            "ticks": ""
           }
          },
          "title": {
           "x": 0.05
          },
          "xaxis": {
           "automargin": true,
           "gridcolor": "white",
           "linecolor": "white",
           "ticks": "",
           "title": {
            "standoff": 15
           },
           "zerolinecolor": "white",
           "zerolinewidth": 2
          },
          "yaxis": {
           "automargin": true,
           "gridcolor": "white",
           "linecolor": "white",
           "ticks": "",
           "title": {
            "standoff": 15
           },
           "zerolinecolor": "white",
           "zerolinewidth": 2
          }
         }
        },
        "title": {
         "text": "<b>Performance by epoch and entity type"
        }
       }
      }
     },
     "metadata": {},
     "output_type": "display_data"
    }
   ],
   "source": [
    "data=[]\n",
    "for ent in df_scores.ent.unique():\n",
    "    df_plot = df_scores.loc[df_scores.ent == ent]\n",
    "    \n",
    "    trace=go.Scatter(\n",
    "                x=df_plot.epoch,\n",
    "                y=df_plot.val_score,\n",
    "                mode='lines',\n",
    "                marker=dict(\n",
    "                size=5\n",
    "                ),\n",
    "            name=ent,\n",
    "\n",
    "            )\n",
    "    data.append(trace)\n",
    "    \n",
    "figure=go.Figure(\n",
    "    data=data,\n",
    "    layout=go.Layout(\n",
    "        title=f\"<b>Performance by epoch and entity type\",\n",
    "    \n",
    "    ))\n",
    "iplot(figure)"
   ]
  },
  {
   "cell_type": "markdown",
   "id": "0047ec13",
   "metadata": {},
   "source": [
    "# Make predictions"
   ]
  },
  {
   "cell_type": "code",
   "execution_count": 1,
   "id": "9eaa944f",
   "metadata": {},
   "outputs": [],
   "source": [
    "text = '''Donald Trump mistook E Jean Carroll, the writer who accuses him of rape, for his ex-wife Marla Maples during a deposition in the case last year, excerpts released in US district court on Wednesday showed.\n",
    "\n",
    "“That’s Marla, yeah,” Trump said, when shown a photograph. “That’s my wife.”\n",
    "\n",
    "The mistake was corrected by a lawyer for the 76-year-old former president. But observers said it could undermine Trump’s claim he could not have attacked Carroll because she is not his “type”.\n",
    "\n",
    "It was not the first release of excerpts from Trump’s deposition, which happened in October. Last week, Trump was shown to have claimed Carroll “said it was very sexy to be raped”.\n",
    "\n",
    "Carroll says Trump raped her in a department store changing room in the mid-1990s. Trump denies it.\n",
    "\n",
    "Carroll sued Trump for defamation and under the Adult Survivors Act, a New York law which allows alleged victims of historical sexual assault to bring cases within a defined timeframe.\n",
    "\n",
    "Trump was married to Maples, the mother of his daughter Tiffany, from 1993 to 1999, between marriages to Ivana Trump, his first wife, and Melania Trump, his third and current spouse.\n",
    "\n",
    "The photograph he thought showed Maples shows Trump in Carroll’s company in the 1990s. In his deposition, Trump said it showed a “receiving line” at an event.'''"
   ]
  },
  {
   "cell_type": "code",
   "execution_count": 33,
   "id": "b88ee72a",
   "metadata": {},
   "outputs": [
    {
     "name": "stdout",
     "output_type": "stream",
     "text": [
      "geo : US\n",
      "tim : Wednesday\n",
      "tim : October\n",
      "geo : New York\n",
      "tim : from 1993 to 1999\n",
      "tim : 1990s\n"
     ]
    }
   ],
   "source": [
    "doc = nlp(text)    \n",
    "for ent in doc.ents:\n",
    "    print(f\"{ent.label_} : {ent.text}\")"
   ]
  },
  {
   "cell_type": "code",
   "execution_count": 34,
   "id": "f9e3a461",
   "metadata": {},
   "outputs": [],
   "source": [
    "colmap = {'geo': '\\033[93m\\033[1m',\n",
    " 'tim': '\\033[95m\\033[1m',\n",
    " 'gpe': '\\033[92m\\033[1m',\n",
    " 'nat': '\\033[96m\\033[1m',\n",
    " 'normal': '\\033[0m'}\n",
    "\n",
    "def highlight_entities(text, ents):\n",
    "    blue_bold_char = '\\033[94m\\033[1m'\n",
    "    back_to_normal = '\\033[0m'\n",
    "\n",
    "    previous_end=0\n",
    "    text_h =\"\"\n",
    "    for ent in ents[\"entities\"]:\n",
    "\n",
    "        start=ent[0]\n",
    "        end=ent[1]\n",
    "        ent_val = text[start:end]\n",
    "        try:\n",
    "            text_h = text_h + text[previous_end:start]+colmap[ent[2]] +ent_val+back_to_normal\n",
    "        except:\n",
    "            text_h = text_h + text[previous_end:start]+blue_bold_char +ent_val+back_to_normal\n",
    "        previous_end = end\n",
    "    text_h = text_h+text[previous_end:]\n",
    "    print(text_h)\n",
    "\n"
   ]
  },
  {
   "cell_type": "code",
   "execution_count": 35,
   "id": "c39037d8",
   "metadata": {},
   "outputs": [],
   "source": [
    "def text_to_entities(text, nlp):\n",
    "    print(colmap['geo'] + 'GEOGRAPHICAL ENTITIY' + colmap['normal'], '||',\n",
    "        colmap['tim'] + 'TIME INDICATOR' + colmap['normal'],'||',\n",
    "        colmap['gpe'] + 'GEOPOLITICAL ENTITIY' + colmap['normal'],'||',\n",
    "        colmap['nat'] + 'NATURAL PHENOMENON' + colmap['normal'])\n",
    "    print('')\n",
    "    doc = nlp(text)   \n",
    "    ents = doc.ents\n",
    "    entites = []\n",
    "    for ent in ents:\n",
    "        entites.append((ent.start_char, ent.end_char, ent.label_))\n",
    "        \n",
    "    output = (text, {\"entities\":entites})\n",
    "    highlight_entities(output[0], output[1])\n",
    "    return output"
   ]
  },
  {
   "cell_type": "code",
   "execution_count": 37,
   "id": "c58dd9d4",
   "metadata": {},
   "outputs": [
    {
     "name": "stdout",
     "output_type": "stream",
     "text": [
      "\u001b[93m\u001b[1mGEOGRAPHICAL ENTITIY\u001b[0m || \u001b[95m\u001b[1mTIME INDICATOR\u001b[0m || \u001b[92m\u001b[1mGEOPOLITICAL ENTITIY\u001b[0m || \u001b[96m\u001b[1mNATURAL PHENOMENON\u001b[0m\n",
      "\n",
      "Donald Trump mistook E Jean Carroll, the writer who accuses him of rape, for his ex-wife Marla Maples during a deposition in the case last year, excerpts released in \u001b[93m\u001b[1mUS\u001b[0m district court on \u001b[95m\u001b[1mWednesday\u001b[0m showed.\n",
      "\n",
      "“That’s Marla, yeah,” Trump said, when shown a photograph. “That’s my wife.”\n",
      "\n",
      "The mistake was corrected by a lawyer for the 76-year-old former president. But observers said it could undermine Trump’s claim he could not have attacked Carroll because she is not his “type”.\n",
      "\n",
      "It was not the first release of excerpts from Trump’s deposition, which happened in \u001b[95m\u001b[1mOctober\u001b[0m. Last week, Trump was shown to have claimed Carroll “said it was very sexy to be raped”.\n",
      "\n",
      "Carroll says Trump raped her in a department store changing room in the mid-1990s. Trump denies it.\n",
      "\n",
      "Carroll sued Trump for defamation and under the Adult Survivors Act, a \u001b[93m\u001b[1mNew York\u001b[0m law which allows alleged victims of historical sexual assault to bring cases within a defined timeframe.\n",
      "\n",
      "Trump was married to Maples, the mother of his daughter Tiffany, \u001b[95m\u001b[1mfrom 1993 to 1999\u001b[0m, between marriages to Ivana Trump, his first wife, and Melania Trump, his third and current spouse.\n",
      "\n",
      "The photograph he thought showed Maples shows Trump in Carroll’s company in the \u001b[95m\u001b[1m1990s\u001b[0m. In his deposition, Trump said it showed a “receiving line” at an event.\n"
     ]
    },
    {
     "data": {
      "text/plain": [
       "'D'"
      ]
     },
     "execution_count": 37,
     "metadata": {},
     "output_type": "execute_result"
    }
   ],
   "source": [
    "text_to_entities(text, nlp)[0][0]"
   ]
  },
  {
   "cell_type": "code",
   "execution_count": 38,
   "id": "667b3406",
   "metadata": {},
   "outputs": [],
   "source": [
    "text_2 = '''Germany is facing a backlash from allies over its reluctance to supply Leopard 2 tanks to bolster Ukraine’s fighting capacity in \n",
    "the nearly year-long war with Russia.On Friday, 50 countries agreed to provide Kyiv with billions of dollars’ worth of military hardware, \n",
    "including armoured vehicles and munitions needed to push back Russian forces.But the German defence minister, Boris Pistorius, told reporters \n",
    "t the US Ramstein airbase in Germany that despite heightened expectations, “we still cannot say when a decision will be taken, and what the \n",
    "decision will be, when it comes to the Leopard tank”.Ukraine on Saturday denounced the “global indecision” of its allies in providing \n",
    "heavy-duty modern tanks, saying “today’s indecision is killing more of our people”.“Every day of delay is the death of Ukrainians. \n",
    "Think faster,” tweeted presidential adviser Mykhailo Podolyak.Several allies echoed the Ukrainian president, Volodymyr Zelenskiy, in saying\n",
    " the tanks were essential to Ukraine’s fight with its much larger neighbour.In a joint statement – and a rare public criticism of Europe’s \n",
    " top power – the foreign ministers of the three Baltic states of Latvia, Estonia and Lithuania said they “call on Germany to provide Leopard\n",
    "   tanks to Ukraine now”.“This is needed to stop Russian aggression, help Ukraine and restore peace in Europe quickly. Germany as the leading \n",
    "   European power has special responsibility in this regard,” said the statement, tweeted by the Latvian foreign minister, Edgars Rinkēvičs.\n",
    "   Berlin has been hesitant to send the Leopards or allow other countries to transfer them to Kyiv, with reports earlier in the week saying \n",
    "   it would agree to do so only if the US provided its tanks as well. Washington has said providing its Abrams tanks to Ukraine is not \n",
    "   feasible, citing difficulties in training and maintenance.But expectations had grown ahead of Friday’s Ukraine contact group meeting of \n",
    "   about 50 US-led countries at Ramstein airbase that Germany would at least agree to let other countries operating Leopards transfer them \n",
    "   to Kyiv’s army.The US senator Lindsey Graham, a Republican from South Carolina who is visiting Kyiv, called on both sides to supply the \n",
    "   machines.“To the Germans: send tanks to Ukraine because they need them. It is in your own national interest that Putin loses in Ukraine.\n",
    "   “To the Biden administration: send American tanks so that others will follow our lead,” he tweeted.The pleas came as the Russian army said\n",
    "     its troops had launched an offensive in Ukraine’s Zaporizhzhia region, where fighting intensified this week after several months of an \n",
    "     almost frozen front.In its daily report on Saturday, Moscow’s forces said they had carried out “offensive operations” in the region and\n",
    "       claimed to have “taken more advantageous lines and positions”.'''"
   ]
  },
  {
   "cell_type": "code",
   "execution_count": 39,
   "id": "9c68f8bc",
   "metadata": {},
   "outputs": [
    {
     "name": "stdout",
     "output_type": "stream",
     "text": [
      "\u001b[93m\u001b[1mGEOGRAPHICAL ENTITIY\u001b[0m || \u001b[95m\u001b[1mTIME INDICATOR\u001b[0m || \u001b[92m\u001b[1mGEOPOLITICAL ENTITIY\u001b[0m || \u001b[96m\u001b[1mNATURAL PHENOMENON\u001b[0m\n",
      "\n",
      "\u001b[93m\u001b[1mGermany\u001b[0m is facing a backlash from allies over its reluctance to supply Leopard 2 tanks to bolster Ukraine’s fighting capacity in \n",
      "the nearly \u001b[95m\u001b[1myear-long\u001b[0m war with \u001b[93m\u001b[1mRussia\u001b[0m.On \u001b[95m\u001b[1mFriday\u001b[0m, 50 countries agreed to provide Kyiv with billions of dollars’ worth of military hardware, \n",
      "including armoured vehicles and munitions needed to push back \u001b[92m\u001b[1mRussian\u001b[0m forces.But the \u001b[92m\u001b[1mGerman\u001b[0m defence minister, Boris Pistorius, told reporters \n",
      "t the \u001b[93m\u001b[1mUS\u001b[0m Ramstein airbase in \u001b[93m\u001b[1mGermany\u001b[0m that despite heightened expectations, “we still cannot say when a decision will be taken, and what the \n",
      "decision will be, when it comes to the Leopard tank”.\u001b[93m\u001b[1mUkraine\u001b[0m on \u001b[95m\u001b[1mSaturday\u001b[0m denounced the “global indecision” of its allies in providing \n",
      "heavy-duty modern tanks, saying “today’s indecision is killing more of our people”.“Every day of delay is the death of Ukrainians. \n",
      "Think faster,” tweeted presidential adviser Mykhailo Podolyak.Several allies echoed the \u001b[92m\u001b[1mUkrainian\u001b[0m president, Volodymyr Zelenskiy, in saying\n",
      " the tanks were essential to Ukraine’s fight with its much larger neighbour.In a joint statement – and a rare public criticism of Europe’s \n",
      " top power – the foreign ministers of the three Baltic states of \u001b[93m\u001b[1mLatvia\u001b[0m, \u001b[93m\u001b[1mEstonia\u001b[0m and Lithuania said they “call on \u001b[93m\u001b[1mGermany\u001b[0m to provide Leopard\n",
      "   tanks to \u001b[93m\u001b[1mUkraine\u001b[0m now”.“This is needed to stop \u001b[92m\u001b[1mRussian\u001b[0m aggression, help \u001b[93m\u001b[1mUkraine\u001b[0m and restore peace in \u001b[93m\u001b[1mEurope\u001b[0m quickly. Germany as the leading \n",
      "   European power has special responsibility in this regard,” said the statement, tweeted by the \u001b[92m\u001b[1mLatvian\u001b[0m foreign minister, Edgars Rinkēvičs.\n",
      "   \u001b[93m\u001b[1mBerlin\u001b[0m has been hesitant to send the Leopards or allow other countries to transfer them to Kyiv, with reports earlier in the week saying \n",
      "   it would agree to do so only if the \u001b[93m\u001b[1mUS\u001b[0m provided its tanks as well. \u001b[93m\u001b[1mWashington\u001b[0m has said providing its Abrams tanks to \u001b[93m\u001b[1mUkraine\u001b[0m is not \n",
      "   feasible, citing difficulties in training and maintenance.But expectations had grown ahead of \u001b[95m\u001b[1mFriday\u001b[0m’s Ukraine contact group meeting of \n",
      "   about 50 US-led countries at \u001b[93m\u001b[1mRamstein\u001b[0m airbase that \u001b[93m\u001b[1mGermany\u001b[0m would at least agree to let other countries operating Leopards transfer them \n",
      "   to Kyiv’s army.The \u001b[92m\u001b[1mUS\u001b[0m senator Lindsey Graham, a Republican from \u001b[93m\u001b[1mSouth Carolina\u001b[0m who is visiting Kyiv, called on both sides to supply the \n",
      "   machines.“To the Germans: send tanks to \u001b[93m\u001b[1mUkraine\u001b[0m because they need them. It is in your own national interest that Putin loses in \u001b[93m\u001b[1mUkraine\u001b[0m.\n",
      "   “To the Biden administration: send \u001b[92m\u001b[1mAmerican\u001b[0m tanks so that others will follow our lead,” he tweeted.The pleas came as the \u001b[92m\u001b[1mRussian\u001b[0m army said\n",
      "     its troops had launched an offensive in \u001b[93m\u001b[1mUkraine’s Zaporizhzhia\u001b[0m region, where fighting intensified this week after several months of an \n",
      "     almost frozen front.In its daily report on \u001b[95m\u001b[1mSaturday\u001b[0m, Moscow’s forces said they had carried out “offensive operations” in the region and\n",
      "       claimed to have “taken more advantageous lines and positions”.\n"
     ]
    },
    {
     "data": {
      "text/plain": [
       "'G'"
      ]
     },
     "execution_count": 39,
     "metadata": {},
     "output_type": "execute_result"
    }
   ],
   "source": [
    "text_to_entities(text_2, nlp)[0][0]"
   ]
  },
  {
   "cell_type": "code",
   "execution_count": null,
   "id": "4988da30",
   "metadata": {},
   "outputs": [],
   "source": [
    "def save_spacy_model(nlp, model_path):\n",
    "    nlp.to_disk(f'{model_path}')\n",
    "    print(f\"Saved model to {model_path}\")\n",
    "    bytes_data = nlp.to_bytes()\n",
    "\n",
    "    f = open(f'{model_path}/bytes_data.bin', 'wb')\n",
    "    f.write(bytes_data)\n",
    "    f.close()\n",
    "    print(f\"Saved bytes_data to f'{model_path}/bytes_data.bin'\")"
   ]
  },
  {
   "cell_type": "code",
   "execution_count": null,
   "id": "cd81cc27",
   "metadata": {},
   "outputs": [],
   "source": [
    "#save_spacy_model(nlp, \"ner_per_and_org_3_do_05_e_10_bs_32_md\")"
   ]
  },
  {
   "attachments": {},
   "cell_type": "markdown",
   "id": "f4f59361",
   "metadata": {},
   "source": [
    "</br>\n",
    "</br>\n",
    "</br>\n",
    "</br>\n",
    "</br>\n",
    "</br>\n",
    "</br>\n",
    "</br>\n",
    "</br>\n",
    "</br>\n",
    "</br>\n",
    "</br>\n",
    "</br>\n",
    "</br>\n",
    "</br>\n",
    "</br>\n",
    "</br>\n",
    "</br>\n",
    "</br>\n",
    "</br>\n",
    "</br>\n",
    "\n",
    "\n",
    "---\n",
    "# Appendix"
   ]
  },
  {
   "cell_type": "code",
   "execution_count": null,
   "id": "bf7a5bc9",
   "metadata": {},
   "outputs": [],
   "source": [
    "obj = text_to_entities(text, nlp)"
   ]
  },
  {
   "cell_type": "code",
   "execution_count": null,
   "id": "1dab56c2",
   "metadata": {},
   "outputs": [],
   "source": [
    "rang = len(obj[1]['entities'])\n",
    "listent = []\n",
    "for i in range(rang):\n",
    "    listent.append(obj[1]['entities'][i][2])\n",
    "\n",
    "listent = pd.unique(listent)\n",
    "\n",
    "len(listent)\n",
    "\n",
    "# colmap = {'PERSON': '\\x1b[95m\\x1b[1m',\n",
    "#  'DATE': '\\x1b[96m\\x1b[1m',\n",
    "#  'GPE': '\\x1b[36m\\x1b[1m',\n",
    "#  'ORG': '\\x1b[94m\\x1b[1m',\n",
    "#  'ORDINAL': '\\x1b[92m\\x1b[1m',\n",
    "#  'LAW': '\\x1b[93m\\x1b[1m',\n",
    "#  'NORP': '\\x1b[91m\\x1b[1m',\n",
    "#  'PRODUCT': '\\x1b[90m\\x1b[1m'}\n",
    "\n",
    "# coldi = {'PURPLE' : '\\033[95m\\033[1m',\n",
    "#    'CYAN' : '\\033[96m\\033[1m',\n",
    "#    'DARKCYAN' : '\\033[36m\\033[1m',\n",
    "#    'BLUE' : '\\033[94m\\033[1m',\n",
    "#    'GREEN' : '\\033[92m\\033[1m',\n",
    "#    'YELLOW' : '\\033[93m\\033[1m',\n",
    "#    'RED' : '\\033[91m\\033[1m',\n",
    "#    'GRAY' : '\\033[90m\\033[1m',\n",
    "# }\n",
    "# colors = list(coldi.values())\n",
    "\n",
    "\n",
    "# colmap = dict(zip(listent, colors))\n",
    "# colmap"
   ]
  },
  {
   "cell_type": "code",
   "execution_count": 66,
   "id": "6eae6b6d",
   "metadata": {},
   "outputs": [],
   "source": [
    "colmap = {'geo': '\\x1b[95m\\x1b[1m',\n",
    " 'tim': '\\x1b[96m\\x1b[1m',\n",
    " 'gpe': '\\x1b[36m\\x1b[1m',\n",
    " 'nat': '\\x1b[94m\\x1b[1m'\n",
    " }\n",
    "\n",
    "def highlight_entities(text, ents):\n",
    "    blue_bold_char = '\\033[94m\\033[1m'\n",
    "    back_to_normal = '\\033[0m'\n",
    "\n",
    "    previous_end=0\n",
    "    text_h =\"\"\n",
    "    for ent in ents[\"entities\"]:\n",
    "\n",
    "        start=ent[0]\n",
    "        end=ent[1]\n",
    "        ent_val = text[start:end]\n",
    "        try:\n",
    "            text_h = text_h + text[previous_end:start]+colmap[ent[2]] +ent_val+back_to_normal\n",
    "        except:\n",
    "            text_h = text_h + text[previous_end:start]+blue_bold_char +ent_val+back_to_normal\n",
    "        previous_end = end\n",
    "    text_h = text_h+text[previous_end:]\n",
    "    print(text_h)"
   ]
  },
  {
   "cell_type": "code",
   "execution_count": 67,
   "id": "66a34b26",
   "metadata": {},
   "outputs": [],
   "source": [
    "def text_to_entities(text, nlp):\n",
    "    print()\n",
    "    doc = nlp(text)   \n",
    "    ents = doc.ents\n",
    "    entites = []\n",
    "    for ent in ents:\n",
    "        entites.append((ent.start_char, ent.end_char, ent.label_))\n",
    "        \n",
    "    output = (text, {\"entities\":entites})\n",
    "    highlight_entities(output[0], output[1])\n",
    "    return output"
   ]
  }
 ],
 "metadata": {
  "kernelspec": {
   "display_name": "nlp",
   "language": "python",
   "name": "python3"
  },
  "language_info": {
   "codemirror_mode": {
    "name": "ipython",
    "version": 3
   },
   "file_extension": ".py",
   "mimetype": "text/x-python",
   "name": "python",
   "nbconvert_exporter": "python",
   "pygments_lexer": "ipython3",
   "version": "3.10.9 | packaged by conda-forge | (main, Jan 11 2023, 15:15:40) [MSC v.1916 64 bit (AMD64)]"
  },
  "toc": {
   "base_numbering": 1,
   "nav_menu": {},
   "number_sections": true,
   "sideBar": true,
   "skip_h1_title": false,
   "title_cell": "Table of Contents",
   "title_sidebar": "Contents",
   "toc_cell": false,
   "toc_position": {},
   "toc_section_display": true,
   "toc_window_display": false
  },
  "vscode": {
   "interpreter": {
    "hash": "5f489c0c09ff820f8ee5076ec4759de7add446fa379c2c24790f576095cb7fd3"
   }
  }
 },
 "nbformat": 4,
 "nbformat_minor": 5
}
