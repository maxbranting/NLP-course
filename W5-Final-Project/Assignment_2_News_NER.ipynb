{
 "cells": [
  {
   "cell_type": "code",
   "execution_count": 1,
   "id": "0b028c61",
   "metadata": {},
   "outputs": [],
   "source": [
    "import pandas as pd\n",
    "import numpy as np\n",
    "import json\n",
    "import random\n",
    "import spacy\n",
    "from tqdm import tqdm\n",
    "import pickle\n",
    "import plotly.graph_objects as go\n",
    "from plotly.offline import iplot"
   ]
  },
  {
   "cell_type": "code",
   "execution_count": 2,
   "id": "0111de99",
   "metadata": {},
   "outputs": [],
   "source": [
    "import math\n",
    "from sklearn.model_selection import train_test_split"
   ]
  },
  {
   "cell_type": "code",
   "execution_count": 3,
   "id": "f6178ad6",
   "metadata": {},
   "outputs": [],
   "source": [
    "from spacy.tokens import Doc"
   ]
  },
  {
   "cell_type": "code",
   "execution_count": 4,
   "id": "d1126bac",
   "metadata": {},
   "outputs": [],
   "source": [
    "from spacy.training import Example"
   ]
  },
  {
   "cell_type": "code",
   "execution_count": 5,
   "id": "f6563c67",
   "metadata": {},
   "outputs": [],
   "source": [
    "import os\n",
    "\n",
    "os.environ['KMP_DUPLICATE_LIB_OK']='True'"
   ]
  },
  {
   "cell_type": "markdown",
   "id": "9cbec975",
   "metadata": {},
   "source": [
    "# Task description"
   ]
  },
  {
   "cell_type": "markdown",
   "id": "737bdd17",
   "metadata": {},
   "source": [
    "- train NER model to extract geo, gpe, tim and nat entities\n",
    "- experiment with different language model sizes\n",
    "- experiment with DROPOUT and epochs to get the best test set results\n",
    "- analize learning curves and performance per entity"
   ]
  },
  {
   "cell_type": "markdown",
   "id": "b29a96ca",
   "metadata": {},
   "source": [
    "News entities\n",
    "- geo = Geographical Entity\n",
    "- gpe = Geopolitical Entity\n",
    "- tim = Time indicator\n",
    "- nat = Natural Phenomenon"
   ]
  },
  {
   "cell_type": "markdown",
   "id": "a7502420",
   "metadata": {},
   "source": [
    "# Prepare NER data"
   ]
  },
  {
   "cell_type": "code",
   "execution_count": 6,
   "id": "f17bbb71",
   "metadata": {},
   "outputs": [],
   "source": [
    "with open('../data/GMB_data_spacy_geo.pickle', 'rb') as f:\n",
    "     spacy_data = pickle.load(f)"
   ]
  },
  {
   "cell_type": "code",
   "execution_count": 7,
   "id": "290c9f05",
   "metadata": {},
   "outputs": [
    {
     "data": {
      "text/plain": [
       "35177"
      ]
     },
     "execution_count": 7,
     "metadata": {},
     "output_type": "execute_result"
    }
   ],
   "source": [
    "len(spacy_data)"
   ]
  },
  {
   "cell_type": "code",
   "execution_count": 8,
   "id": "6a87e187",
   "metadata": {},
   "outputs": [
    {
     "data": {
      "text/plain": [
       "{'entities': []}"
      ]
     },
     "execution_count": 8,
     "metadata": {},
     "output_type": "execute_result"
    }
   ],
   "source": [
    "spacy_data[36][1]"
   ]
  },
  {
   "cell_type": "code",
   "execution_count": 9,
   "id": "44801496",
   "metadata": {},
   "outputs": [
    {
     "data": {
      "text/plain": [
       "\"Lebanon 's top Shi'ite cleric is opposing British Prime Minister Tony Blair 's expected visit to Beirut Monday .\""
      ]
     },
     "execution_count": 9,
     "metadata": {},
     "output_type": "execute_result"
    }
   ],
   "source": [
    "spacy_data[35000][0]"
   ]
  },
  {
   "cell_type": "markdown",
   "id": "64589ef5",
   "metadata": {},
   "source": [
    "## Test train split"
   ]
  },
  {
   "cell_type": "code",
   "execution_count": 10,
   "id": "ff02de7f",
   "metadata": {},
   "outputs": [],
   "source": [
    "# Divide spacy into train and test sets\n",
    "spacy_data_train, spacy_data_test = train_test_split(spacy_data, test_size=0.1, random_state=42)"
   ]
  },
  {
   "cell_type": "code",
   "execution_count": 11,
   "id": "2c274e9a",
   "metadata": {},
   "outputs": [
    {
     "data": {
      "text/plain": [
       "('U.S. health officials said Friday that trials found only a small number of cases where adverse reactions might be attributed to Nevirapine .',\n",
       " {'entities': [(0, 4, 'geo'), (27, 33, 'tim')]})"
      ]
     },
     "execution_count": 11,
     "metadata": {},
     "output_type": "execute_result"
    }
   ],
   "source": [
    "spacy_data_train[1]"
   ]
  },
  {
   "cell_type": "markdown",
   "id": "16012f23",
   "metadata": {},
   "source": [
    "## NER model setup"
   ]
  },
  {
   "cell_type": "code",
   "execution_count": 12,
   "id": "a4659a48",
   "metadata": {},
   "outputs": [],
   "source": [
    "# Setup model - experiment with sm, md, lg\n",
    "nlp = spacy.load('en_core_web_sm')\n",
    "ner = nlp.create_pipe('ner')\n",
    "\n"
   ]
  },
  {
   "cell_type": "code",
   "execution_count": 13,
   "id": "ad43f9f6",
   "metadata": {},
   "outputs": [],
   "source": [
    "def split_examples_to_batches(examples, batch_size):\n",
    "    batches=[]\n",
    "    for i in range(0, math.ceil(len(examples)/batch_size)):\n",
    "        start=i*batch_size\n",
    "        end = start+batch_size\n",
    "        batches.append(examples[start:end])\n",
    "    return batches"
   ]
  },
  {
   "cell_type": "code",
   "execution_count": 14,
   "id": "2d746888",
   "metadata": {},
   "outputs": [],
   "source": [
    "def prepare_examples(data):\n",
    "    examples = []\n",
    "    for i in range(0, len(data)):\n",
    "        raw_text, entity_offsets = data[i]\n",
    "\n",
    "        try:\n",
    "\n",
    "            doc= nlp.make_doc(raw_text.lower())\n",
    "            example_test = Example.from_dict(doc, entity_offsets)\n",
    "            examples.append(example_test)\n",
    "           \n",
    "        except Exception as e:\n",
    "            print(e)\n",
    "            pass\n",
    "    return examples"
   ]
  },
  {
   "cell_type": "code",
   "execution_count": 15,
   "id": "c754122b",
   "metadata": {},
   "outputs": [],
   "source": [
    "# prepare examples\n",
    "examples_train = prepare_examples(spacy_data_train)\n",
    "examples_test = prepare_examples(spacy_data_test)"
   ]
  },
  {
   "cell_type": "code",
   "execution_count": 16,
   "id": "1eb83a6d",
   "metadata": {},
   "outputs": [],
   "source": [
    "other_pipes = [pipe for pipe in nlp.pipe_names if pipe != 'ner']"
   ]
  },
  {
   "cell_type": "markdown",
   "id": "6ab2058e",
   "metadata": {},
   "source": [
    "### Add labels"
   ]
  },
  {
   "cell_type": "code",
   "execution_count": 17,
   "id": "940ccbbf",
   "metadata": {},
   "outputs": [],
   "source": [
    "for _, annotations in spacy_data:\n",
    "    for ent in annotations.get('entities'):\n",
    "        ner.add_label(ent[2])"
   ]
  },
  {
   "cell_type": "code",
   "execution_count": 18,
   "id": "303b401f",
   "metadata": {},
   "outputs": [
    {
     "data": {
      "text/plain": [
       "('geo', 'gpe', 'nat', 'tim')"
      ]
     },
     "execution_count": 18,
     "metadata": {},
     "output_type": "execute_result"
    }
   ],
   "source": [
    "ner.labels"
   ]
  },
  {
   "cell_type": "code",
   "execution_count": 19,
   "id": "740118e8",
   "metadata": {},
   "outputs": [
    {
     "data": {
      "text/plain": [
       "{'entities': [(17, 21, 'geo'), (24, 30, 'geo')]}"
      ]
     },
     "execution_count": 19,
     "metadata": {},
     "output_type": "execute_result"
    }
   ],
   "source": [
    "spacy_data[12050][1]"
   ]
  },
  {
   "cell_type": "markdown",
   "id": "d1118c98",
   "metadata": {},
   "source": [
    "# Train model"
   ]
  },
  {
   "cell_type": "code",
   "execution_count": 20,
   "id": "a4bd1b6a",
   "metadata": {},
   "outputs": [],
   "source": [
    "DROPOUT=0.2\n",
    "epochs = 10\n",
    "\n",
    "batch_size=64"
   ]
  },
  {
   "cell_type": "code",
   "execution_count": 21,
   "id": "fcd740f8",
   "metadata": {},
   "outputs": [],
   "source": [
    "def train_ner(nlp, examples_train, examples_test, epochs, batch_size, dropout):\n",
    "    with nlp.disable_pipes(*other_pipes):\n",
    "        optimizer = nlp.create_optimizer()\n",
    "        scores = []\n",
    "\n",
    "        for i in range(0, epochs):\n",
    "            random.shuffle(examples_train)\n",
    "\n",
    "            batches = split_examples_to_batches(examples_train, batch_size)\n",
    "            for batch in  tqdm(batches):\n",
    "                try:\n",
    "                        nlp.update(batch, sgd=optimizer, drop =DROPOUT)\n",
    "                except Exception as e:\n",
    "                    print(e)\n",
    "                    pass\n",
    "            train_score = nlp.evaluate(examples_train)\n",
    "            val_score = nlp.evaluate(examples_test)\n",
    "            total_f = val_score['ents_f']\n",
    "\n",
    "            scores.append({\"iter\":i, \"val_score\":val_score, \"train_score\":train_score})\n",
    "\n",
    "            print(f\"Iter:{i}, f_score:{round(total_f,2)}\")\n",
    "\n",
    "    return nlp, scores"
   ]
  },
  {
   "cell_type": "code",
   "execution_count": 22,
   "id": "e796681c",
   "metadata": {},
   "outputs": [
    {
     "name": "stderr",
     "output_type": "stream",
     "text": [
      "100%|██████████| 495/495 [03:13<00:00,  2.55it/s]\n"
     ]
    },
    {
     "name": "stdout",
     "output_type": "stream",
     "text": [
      "Iter:0, f_score:0.87\n"
     ]
    },
    {
     "name": "stderr",
     "output_type": "stream",
     "text": [
      "100%|██████████| 495/495 [03:08<00:00,  2.63it/s]\n"
     ]
    },
    {
     "name": "stdout",
     "output_type": "stream",
     "text": [
      "Iter:1, f_score:0.88\n"
     ]
    },
    {
     "name": "stderr",
     "output_type": "stream",
     "text": [
      "100%|██████████| 495/495 [02:58<00:00,  2.77it/s]\n"
     ]
    },
    {
     "name": "stdout",
     "output_type": "stream",
     "text": [
      "Iter:2, f_score:0.88\n"
     ]
    },
    {
     "name": "stderr",
     "output_type": "stream",
     "text": [
      "100%|██████████| 495/495 [02:38<00:00,  3.12it/s]\n"
     ]
    },
    {
     "name": "stdout",
     "output_type": "stream",
     "text": [
      "Iter:3, f_score:0.89\n"
     ]
    },
    {
     "name": "stderr",
     "output_type": "stream",
     "text": [
      "100%|██████████| 495/495 [04:24<00:00,  1.87it/s]\n"
     ]
    },
    {
     "name": "stdout",
     "output_type": "stream",
     "text": [
      "Iter:4, f_score:0.89\n"
     ]
    },
    {
     "name": "stderr",
     "output_type": "stream",
     "text": [
      "100%|██████████| 495/495 [02:30<00:00,  3.28it/s]\n"
     ]
    },
    {
     "name": "stdout",
     "output_type": "stream",
     "text": [
      "Iter:5, f_score:0.89\n"
     ]
    },
    {
     "name": "stderr",
     "output_type": "stream",
     "text": [
      "100%|██████████| 495/495 [02:57<00:00,  2.79it/s]\n"
     ]
    },
    {
     "name": "stdout",
     "output_type": "stream",
     "text": [
      "Iter:6, f_score:0.88\n"
     ]
    },
    {
     "name": "stderr",
     "output_type": "stream",
     "text": [
      "100%|██████████| 495/495 [02:29<00:00,  3.32it/s]\n"
     ]
    },
    {
     "name": "stdout",
     "output_type": "stream",
     "text": [
      "Iter:7, f_score:0.89\n"
     ]
    },
    {
     "name": "stderr",
     "output_type": "stream",
     "text": [
      "100%|██████████| 495/495 [03:03<00:00,  2.70it/s]\n"
     ]
    },
    {
     "name": "stdout",
     "output_type": "stream",
     "text": [
      "Iter:8, f_score:0.89\n"
     ]
    },
    {
     "name": "stderr",
     "output_type": "stream",
     "text": [
      "100%|██████████| 495/495 [02:41<00:00,  3.07it/s]\n"
     ]
    },
    {
     "name": "stdout",
     "output_type": "stream",
     "text": [
      "Iter:9, f_score:0.89\n"
     ]
    }
   ],
   "source": [
    "nlp, scores = train_ner(nlp, examples_train, examples_test, epochs, batch_size, DROPOUT)"
   ]
  },
  {
   "attachments": {},
   "cell_type": "markdown",
   "id": "d4ad8c11",
   "metadata": {},
   "source": [
    "# Model save/load"
   ]
  },
  {
   "cell_type": "code",
   "execution_count": 23,
   "id": "9fb1db94",
   "metadata": {},
   "outputs": [],
   "source": [
    "def save_spacy_model(nlp, model_path):\n",
    "    nlp.to_disk(f'{model_path}')\n",
    "    print(f\"Saved model to {model_path}\")\n",
    "    bytes_data = nlp.to_bytes()\n",
    "\n",
    "    f = open(f'{model_path}/bytes_data.bin', 'wb')\n",
    "    f.write(bytes_data)\n",
    "    f.close()\n",
    "    print(f\"Saved bytes_data to f'{model_path}/bytes_data.bin'\")"
   ]
  },
  {
   "cell_type": "code",
   "execution_count": 24,
   "id": "35b3d419",
   "metadata": {},
   "outputs": [
    {
     "name": "stdout",
     "output_type": "stream",
     "text": [
      "Saved model to ner_sm_do02_ep10_bs64\n",
      "Saved bytes_data to f'ner_sm_do02_ep10_bs64/bytes_data.bin'\n"
     ]
    }
   ],
   "source": [
    "save_spacy_model(nlp, \"ner_sm_do02_ep10_bs64\")"
   ]
  },
  {
   "cell_type": "code",
   "execution_count": 29,
   "id": "54d8fd52",
   "metadata": {},
   "outputs": [],
   "source": [
    "def load_spacy_model(model_path, base_model = \"en_core_web_sm\"):\n",
    "\n",
    "    nlp = spacy.load(base_model)\n",
    "    file = open(f'{model_path}/bytes_data.bin',\"rb\")\n",
    "    bytes_data = file.read()\n",
    "    config = nlp.config\n",
    "    lang_cls = spacy.util.get_lang_class(\"en\")\n",
    "    nlp = lang_cls.from_config(config)\n",
    "    nlp = nlp.from_disk(f'{model_path}')\n",
    "    \n",
    "    return nlp"
   ]
  },
  {
   "cell_type": "code",
   "execution_count": 57,
   "id": "0d536e6f",
   "metadata": {},
   "outputs": [],
   "source": [
    "nlp2 = load_spacy_model(\"ner_sm_do005_ep10_bs128\")"
   ]
  },
  {
   "cell_type": "markdown",
   "id": "ef730cc5",
   "metadata": {},
   "source": [
    "## Evaluate model"
   ]
  },
  {
   "cell_type": "code",
   "execution_count": 25,
   "id": "cb91e8f2",
   "metadata": {},
   "outputs": [
    {
     "data": {
      "text/plain": [
       "[{'iter': 0,\n",
       "  'val_score': {'token_acc': 1.0,\n",
       "   'token_p': 1.0,\n",
       "   'token_r': 1.0,\n",
       "   'token_f': 1.0,\n",
       "   'ents_p': 0.8778372393430522,\n",
       "   'ents_r': 0.8630261248185777,\n",
       "   'ents_f': 0.8703686762418809,\n",
       "   'ents_per_type': {'geo': {'p': 0.8487665355738291,\n",
       "     'r': 0.8499820981023989,\n",
       "     'f': 0.8493738819320213},\n",
       "    'gpe': {'p': 0.9381974248927039,\n",
       "     'r': 0.9231418918918919,\n",
       "     'f': 0.9306087696892295},\n",
       "    'tim': {'p': 0.8853809196980096,\n",
       "     'r': 0.8486842105263158,\n",
       "     'f': 0.86664427275781},\n",
       "    'nat': {'p': 0.0, 'r': 0.0, 'f': 0.0}},\n",
       "   'speed': 19579.90688241909},\n",
       "  'train_score': {'token_acc': 1.0,\n",
       "   'token_p': 1.0,\n",
       "   'token_r': 1.0,\n",
       "   'token_f': 1.0,\n",
       "   'ents_p': 0.8830795926377326,\n",
       "   'ents_r': 0.8739803324269622,\n",
       "   'ents_f': 0.8785064014303036,\n",
       "   'ents_per_type': {'geo': {'p': 0.8534991232265264,\n",
       "     'r': 0.8640361494391996,\n",
       "     'f': 0.8587353141665666},\n",
       "    'tim': {'p': 0.8888888888888888,\n",
       "     'r': 0.8615569221538923,\n",
       "     'f': 0.8750095209079137},\n",
       "    'gpe': {'p': 0.9472722024439527,\n",
       "     'r': 0.9244131455399061,\n",
       "     'f': 0.9357030841610036},\n",
       "    'nat': {'p': 0.0, 'r': 0.0, 'f': 0.0}},\n",
       "   'speed': 17955.177740114053}},\n",
       " {'iter': 1,\n",
       "  'val_score': {'token_acc': 1.0,\n",
       "   'token_p': 1.0,\n",
       "   'token_r': 1.0,\n",
       "   'token_f': 1.0,\n",
       "   'ents_p': 0.8841508052708639,\n",
       "   'ents_r': 0.8764513788098693,\n",
       "   'ents_f': 0.8802842565597666,\n",
       "   'ents_per_type': {'geo': {'p': 0.8552307150405072,\n",
       "     'r': 0.8693161475116362,\n",
       "     'f': 0.8622159090909091},\n",
       "    'gpe': {'p': 0.9509888220120378,\n",
       "     'r': 0.9341216216216216,\n",
       "     'f': 0.9424797613975288},\n",
       "    'tim': {'p': 0.8869088416723784,\n",
       "     'r': 0.8513157894736842,\n",
       "     'f': 0.8687479019805304},\n",
       "    'nat': {'p': 1.0, 'r': 0.2, 'f': 0.33333333333333337}},\n",
       "   'speed': 18683.46087061708},\n",
       "  'train_score': {'token_acc': 1.0,\n",
       "   'token_p': 1.0,\n",
       "   'token_r': 1.0,\n",
       "   'token_f': 1.0,\n",
       "   'ents_p': 0.8937468017603111,\n",
       "   'ents_r': 0.8926870157217918,\n",
       "   'ents_f': 0.8932165943867113,\n",
       "   'ents_per_type': {'tim': {'p': 0.9013802143573136,\n",
       "     'r': 0.8767061646917654,\n",
       "     'f': 0.888871991788009},\n",
       "    'geo': {'p': 0.8622178606476938,\n",
       "     'r': 0.8861857500201726,\n",
       "     'f': 0.8740375241240723},\n",
       "    'gpe': {'p': 0.9619984567901234,\n",
       "     'r': 0.9365258215962441,\n",
       "     'f': 0.9490912551146636},\n",
       "    'nat': {'p': 0.813953488372093,\n",
       "     'r': 0.24475524475524477,\n",
       "     'f': 0.37634408602150543}},\n",
       "   'speed': 18008.29585377971}},\n",
       " {'iter': 2,\n",
       "  'val_score': {'token_acc': 1.0,\n",
       "   'token_p': 1.0,\n",
       "   'token_r': 1.0,\n",
       "   'token_f': 1.0,\n",
       "   'ents_p': 0.8755142192809873,\n",
       "   'ents_r': 0.8880624092888244,\n",
       "   'ents_f': 0.8817436728812033,\n",
       "   'ents_per_type': {'geo': {'p': 0.8416581719334013,\n",
       "     'r': 0.8868600071607591,\n",
       "     'f': 0.8636680613668062},\n",
       "    'gpe': {'p': 0.9513236549957301,\n",
       "     'r': 0.9408783783783784,\n",
       "     'f': 0.9460721868365181},\n",
       "    'tim': {'p': 0.8859289617486339,\n",
       "     'r': 0.8532894736842105,\n",
       "     'f': 0.8693029490616622},\n",
       "    'nat': {'p': 0.5384615384615384, 'r': 0.4666666666666667, 'f': 0.5}},\n",
       "   'speed': 20783.34985815202},\n",
       "  'train_score': {'token_acc': 1.0,\n",
       "   'token_p': 1.0,\n",
       "   'token_r': 1.0,\n",
       "   'token_f': 1.0,\n",
       "   'ents_p': 0.893067214324168,\n",
       "   'ents_r': 0.9157074806288716,\n",
       "   'ents_f': 0.90424565441221,\n",
       "   'ents_per_type': {'tim': {'p': 0.9079440324183806,\n",
       "     'r': 0.8905804709764512,\n",
       "     'f': 0.8991784348616212},\n",
       "    'geo': {'p': 0.8590583804143126,\n",
       "     'r': 0.9201968853384975,\n",
       "     'f': 0.8885772167679601},\n",
       "    'gpe': {'p': 0.963648570880491,\n",
       "     'r': 0.9433802816901409,\n",
       "     'f': 0.953406718542418},\n",
       "    'nat': {'p': 0.6122448979591837,\n",
       "     'r': 0.4195804195804196,\n",
       "     'f': 0.49792531120331956}},\n",
       "   'speed': 19040.983812458806}},\n",
       " {'iter': 3,\n",
       "  'val_score': {'token_acc': 1.0,\n",
       "   'token_p': 1.0,\n",
       "   'token_r': 1.0,\n",
       "   'token_f': 1.0,\n",
       "   'ents_p': 0.8845528455284553,\n",
       "   'ents_r': 0.888243831640058,\n",
       "   'ents_f': 0.886394496243324,\n",
       "   'ents_per_type': {'geo': {'p': 0.8480710139979515,\n",
       "     'r': 0.8893662728249194,\n",
       "     'f': 0.8682278923453338},\n",
       "    'gpe': {'p': 0.9569336778639104,\n",
       "     'r': 0.9383445945945946,\n",
       "     'f': 0.9475479744136461},\n",
       "    'tim': {'p': 0.9073684210526316,\n",
       "     'r': 0.8506578947368421,\n",
       "     'f': 0.8780984719864176},\n",
       "    'nat': {'p': 0.4, 'r': 0.5333333333333333, 'f': 0.4571428571428572}},\n",
       "   'speed': 12717.495148069018},\n",
       "  'train_score': {'token_acc': 1.0,\n",
       "   'token_p': 1.0,\n",
       "   'token_r': 1.0,\n",
       "   'token_f': 1.0,\n",
       "   'ents_p': 0.9031868905197546,\n",
       "   'ents_r': 0.9183652607691207,\n",
       "   'ents_f': 0.9107128375638636,\n",
       "   'ents_per_type': {'geo': {'p': 0.8675892316999395,\n",
       "     'r': 0.9257645445009279,\n",
       "     'f': 0.8957333021040715},\n",
       "    'tim': {'p': 0.929063576573755,\n",
       "     'r': 0.8899055047247637,\n",
       "     'f': 0.9090630506396996},\n",
       "    'gpe': {'p': 0.9706452237938384,\n",
       "     'r': 0.9407511737089201,\n",
       "     'f': 0.9554644287621591},\n",
       "    'nat': {'p': 0.46113989637305697,\n",
       "     'r': 0.6223776223776224,\n",
       "     'f': 0.5297619047619048}},\n",
       "   'speed': 11273.164231241533}},\n",
       " {'iter': 4,\n",
       "  'val_score': {'token_acc': 1.0,\n",
       "   'token_p': 1.0,\n",
       "   'token_r': 1.0,\n",
       "   'token_f': 1.0,\n",
       "   'ents_p': 0.8866558030056129,\n",
       "   'ents_r': 0.8884252539912917,\n",
       "   'ents_f': 0.8875396465790665,\n",
       "   'ents_per_type': {'geo': {'p': 0.8580915763718979,\n",
       "     'r': 0.8789831722162549,\n",
       "     'f': 0.8684117438981253},\n",
       "    'gpe': {'p': 0.9533275713050994,\n",
       "     'r': 0.9315878378378378,\n",
       "     'f': 0.9423323366082871},\n",
       "    'tim': {'p': 0.8938885157824042,\n",
       "     'r': 0.8756578947368421,\n",
       "     'f': 0.8846792954469924},\n",
       "    'nat': {'p': 0.5, 'r': 0.5333333333333333, 'f': 0.5161290322580646}},\n",
       "   'speed': 22021.488340360655},\n",
       "  'train_score': {'token_acc': 1.0,\n",
       "   'token_p': 1.0,\n",
       "   'token_r': 1.0,\n",
       "   'token_f': 1.0,\n",
       "   'ents_p': 0.9131235827664399,\n",
       "   'ents_r': 0.922065708502852,\n",
       "   'ents_f': 0.9175728599766033,\n",
       "   'ents_per_type': {'tim': {'p': 0.9124728118202955,\n",
       "     'r': 0.912404379781011,\n",
       "     'f': 0.9124385945175685},\n",
       "    'geo': {'p': 0.8901299914376898,\n",
       "     'r': 0.9227386427822157,\n",
       "     'f': 0.9061410459587956},\n",
       "    'gpe': {'p': 0.9741564267602887,\n",
       "     'r': 0.9379342723004694,\n",
       "     'f': 0.9557022579410639},\n",
       "    'nat': {'p': 0.6756756756756757,\n",
       "     'r': 0.5244755244755245,\n",
       "     'f': 0.5905511811023623}},\n",
       "   'speed': 20420.826541452618}},\n",
       " {'iter': 5,\n",
       "  'val_score': {'token_acc': 1.0,\n",
       "   'token_p': 1.0,\n",
       "   'token_r': 1.0,\n",
       "   'token_f': 1.0,\n",
       "   'ents_p': 0.8924317390507605,\n",
       "   'ents_r': 0.8835268505079826,\n",
       "   'ents_f': 0.8879569696417176,\n",
       "   'ents_per_type': {'geo': {'p': 0.8645502645502645,\n",
       "     'r': 0.8775510204081632,\n",
       "     'f': 0.871002132196162},\n",
       "    'gpe': {'p': 0.9486740804106074,\n",
       "     'r': 0.9366554054054054,\n",
       "     'f': 0.9426264343391416},\n",
       "    'tim': {'p': 0.9047949965253649,\n",
       "     'r': 0.8565789473684211,\n",
       "     'f': 0.8800270361608651},\n",
       "    'nat': {'p': 0.5714285714285714,\n",
       "     'r': 0.5333333333333333,\n",
       "     'f': 0.5517241379310344}},\n",
       "   'speed': 16536.34812085504},\n",
       "  'train_score': {'token_acc': 1.0,\n",
       "   'token_p': 1.0,\n",
       "   'token_r': 1.0,\n",
       "   'token_f': 1.0,\n",
       "   'ents_p': 0.923731060219834,\n",
       "   'ents_r': 0.9260728231758428,\n",
       "   'ents_f': 0.9249004594180704,\n",
       "   'ents_per_type': {'tim': {'p': 0.9406055900621118,\n",
       "     'r': 0.9085795710214489,\n",
       "     'f': 0.9243152513923858},\n",
       "    'geo': {'p': 0.8984122030195452,\n",
       "     'r': 0.9291132090696361,\n",
       "     'f': 0.9135048295285508},\n",
       "    'gpe': {'p': 0.966967543691185,\n",
       "     'r': 0.9455399061032864,\n",
       "     'f': 0.9561336878085834},\n",
       "    'nat': {'p': 0.7545454545454545,\n",
       "     'r': 0.5804195804195804,\n",
       "     'f': 0.6561264822134388}},\n",
       "   'speed': 19067.478683385572}},\n",
       " {'iter': 6,\n",
       "  'val_score': {'token_acc': 1.0,\n",
       "   'token_p': 1.0,\n",
       "   'token_r': 1.0,\n",
       "   'token_f': 1.0,\n",
       "   'ents_p': 0.8806265754411235,\n",
       "   'ents_r': 0.8873367198838897,\n",
       "   'ents_f': 0.8839689137899873,\n",
       "   'ents_per_type': {'geo': {'p': 0.8414261460101867,\n",
       "     'r': 0.8872180451127819,\n",
       "     'f': 0.8637155803415824},\n",
       "    'gpe': {'p': 0.9488054607508533,\n",
       "     'r': 0.9391891891891891,\n",
       "     'f': 0.9439728353140917},\n",
       "    'tim': {'p': 0.9099225897255454,\n",
       "     'r': 0.8506578947368421,\n",
       "     'f': 0.8792927575654539},\n",
       "    'nat': {'p': 0.5, 'r': 0.5333333333333333, 'f': 0.5161290322580646}},\n",
       "   'speed': 16526.769406208397},\n",
       "  'train_score': {'token_acc': 1.0,\n",
       "   'token_p': 1.0,\n",
       "   'token_r': 1.0,\n",
       "   'token_f': 1.0,\n",
       "   'ents_p': 0.9197677222311526,\n",
       "   'ents_r': 0.9358452763069123,\n",
       "   'ents_f': 0.927736849038822,\n",
       "   'ents_per_type': {'geo': {'p': 0.8889099813964084,\n",
       "     'r': 0.9446058258694424,\n",
       "     'f': 0.9159119804400978},\n",
       "    'tim': {'p': 0.9463092463092463,\n",
       "     'r': 0.9133793310334484,\n",
       "     'f': 0.9295527400396886},\n",
       "    'gpe': {'p': 0.9689900153609831,\n",
       "     'r': 0.947699530516432,\n",
       "     'f': 0.958226526155891},\n",
       "    'nat': {'p': 0.6293706293706294,\n",
       "     'r': 0.6293706293706294,\n",
       "     'f': 0.6293706293706294}},\n",
       "   'speed': 21374.869174941414}},\n",
       " {'iter': 7,\n",
       "  'val_score': {'token_acc': 1.0,\n",
       "   'token_p': 1.0,\n",
       "   'token_r': 1.0,\n",
       "   'token_f': 1.0,\n",
       "   'ents_p': 0.8933161953727506,\n",
       "   'ents_r': 0.8826197387518142,\n",
       "   'ents_f': 0.8879357546997628,\n",
       "   'ents_per_type': {'geo': {'p': 0.8588892769821865,\n",
       "     'r': 0.8804153240243466,\n",
       "     'f': 0.8695190947666195},\n",
       "    'gpe': {'p': 0.9561855670103093,\n",
       "     'r': 0.9400337837837838,\n",
       "     'f': 0.9480408858603065},\n",
       "    'tim': {'p': 0.9107648725212465,\n",
       "     'r': 0.8460526315789474,\n",
       "     'f': 0.8772169167803547},\n",
       "    'nat': {'p': 1.0, 'r': 0.4666666666666667, 'f': 0.6363636363636364}},\n",
       "   'speed': 18425.14170689208},\n",
       "  'train_score': {'token_acc': 1.0,\n",
       "   'token_p': 1.0,\n",
       "   'token_r': 1.0,\n",
       "   'token_f': 1.0,\n",
       "   'ents_p': 0.9299260556924894,\n",
       "   'ents_r': 0.933310162942367,\n",
       "   'ents_f': 0.9316150361209745,\n",
       "   'ents_per_type': {'tim': {'p': 0.9528007489467936,\n",
       "     'r': 0.915929203539823,\n",
       "     'f': 0.9340012236157846},\n",
       "    'geo': {'p': 0.9002706883217324,\n",
       "     'r': 0.939280238844509,\n",
       "     'f': 0.919361844963077},\n",
       "    'gpe': {'p': 0.9761006289308176,\n",
       "     'r': 0.9472300469483568,\n",
       "     'f': 0.9614486538003336},\n",
       "    'nat': {'p': 0.8846153846153846,\n",
       "     'r': 0.4825174825174825,\n",
       "     'f': 0.6244343891402715}},\n",
       "   'speed': 16630.704817412487}},\n",
       " {'iter': 8,\n",
       "  'val_score': {'token_acc': 1.0,\n",
       "   'token_p': 1.0,\n",
       "   'token_r': 1.0,\n",
       "   'token_f': 1.0,\n",
       "   'ents_p': 0.8870528418376612,\n",
       "   'ents_r': 0.8862481857764877,\n",
       "   'ents_f': 0.8866503312460297,\n",
       "   'ents_per_type': {'geo': {'p': 0.854108635097493,\n",
       "     'r': 0.8782670963122091,\n",
       "     'f': 0.8660194174757282},\n",
       "    'gpe': {'p': 0.962510897994769,\n",
       "     'r': 0.9324324324324325,\n",
       "     'f': 0.9472329472329473},\n",
       "    'tim': {'p': 0.8991825613079019,\n",
       "     'r': 0.868421052631579,\n",
       "     'f': 0.8835341365461847},\n",
       "    'nat': {'p': 0.4, 'r': 0.5333333333333333, 'f': 0.4571428571428572}},\n",
       "   'speed': 14569.454100925115},\n",
       "  'train_score': {'token_acc': 1.0,\n",
       "   'token_p': 1.0,\n",
       "   'token_r': 1.0,\n",
       "   'token_f': 1.0,\n",
       "   'ents_p': 0.9294298236755468,\n",
       "   'ents_r': 0.9407928362602989,\n",
       "   'ents_f': 0.9350768105340161,\n",
       "   'ents_per_type': {'geo': {'p': 0.9044182905653096,\n",
       "     'r': 0.9456144597756798,\n",
       "     'f': 0.9245577010315378},\n",
       "    'tim': {'p': 0.9435563300250019,\n",
       "     'r': 0.9340032998350083,\n",
       "     'f': 0.9387555120039197},\n",
       "    'gpe': {'p': 0.9796815473283188,\n",
       "     'r': 0.9416901408450704,\n",
       "     'f': 0.9603102408196486},\n",
       "    'nat': {'p': 0.6, 'r': 0.6713286713286714, 'f': 0.6336633663366337}},\n",
       "   'speed': 14598.981920925939}},\n",
       " {'iter': 9,\n",
       "  'val_score': {'token_acc': 1.0,\n",
       "   'token_p': 1.0,\n",
       "   'token_r': 1.0,\n",
       "   'token_f': 1.0,\n",
       "   'ents_p': 0.8928111785254642,\n",
       "   'ents_r': 0.8809869375907112,\n",
       "   'ents_f': 0.8868596475207743,\n",
       "   'ents_per_type': {'geo': {'p': 0.8595128838686904,\n",
       "     'r': 0.8718224131757967,\n",
       "     'f': 0.8656238890863847},\n",
       "    'gpe': {'p': 0.9560723514211886, 'r': 0.9375, 'f': 0.9466950959488273},\n",
       "    'tim': {'p': 0.9124649859943977,\n",
       "     'r': 0.8572368421052632,\n",
       "     'f': 0.8839891451831752},\n",
       "    'nat': {'p': 0.47058823529411764, 'r': 0.5333333333333333, 'f': 0.5}},\n",
       "   'speed': 10179.199882065417},\n",
       "  'train_score': {'token_acc': 1.0,\n",
       "   'token_p': 1.0,\n",
       "   'token_r': 1.0,\n",
       "   'token_f': 1.0,\n",
       "   'ents_p': 0.9368588501621357,\n",
       "   'ents_r': 0.9391572792509149,\n",
       "   'ents_f': 0.9380066567292182,\n",
       "   'ents_per_type': {'geo': {'p': 0.9124912335385335,\n",
       "     'r': 0.9448882433631889,\n",
       "     'f': 0.9284071989217473},\n",
       "    'gpe': {'p': 0.978309286336787,\n",
       "     'r': 0.9486384976525821,\n",
       "     'f': 0.9632454593125804},\n",
       "    'tim': {'p': 0.9563935443823712,\n",
       "     'r': 0.9244037798110094,\n",
       "     'f': 0.9401266112424681},\n",
       "    'nat': {'p': 0.5789473684210527,\n",
       "     'r': 0.6153846153846154,\n",
       "     'f': 0.5966101694915255}},\n",
       "   'speed': 20606.081393481447}}]"
      ]
     },
     "execution_count": 25,
     "metadata": {},
     "output_type": "execute_result"
    }
   ],
   "source": [
    "scores"
   ]
  },
  {
   "cell_type": "code",
   "execution_count": 26,
   "id": "3fd262a1",
   "metadata": {},
   "outputs": [],
   "source": [
    "def get_metric_per_epoch(scores, score_metric):\n",
    "    scores_list = []\n",
    "    for item in scores:\n",
    "        epoch_score ={\"epoch\":item[\"iter\"],\n",
    "                     \"train_score\":item[\"train_score\"][f\"ents_{score_metric}\"],\n",
    "                     \"val_score\":item[\"val_score\"][f\"ents_{score_metric}\"]}\n",
    "\n",
    "        scores_list.append(epoch_score)\n",
    "    df_scores = pd.DataFrame(scores_list)\n",
    "    return df_scores\n",
    "    "
   ]
  },
  {
   "cell_type": "code",
   "execution_count": 27,
   "id": "3388bfd7",
   "metadata": {},
   "outputs": [],
   "source": [
    "def get_metric_per_entity(scores, score_metric):\n",
    "    # Create a function to transform scores into dataframe\n",
    "    \n",
    "    scores_list = []\n",
    "    for item in scores:\n",
    "        epoch =item[\"iter\"]\n",
    "        \n",
    "        for ent in item[\"val_score\"]['ents_per_type'].keys():\n",
    "            epoch_score ={\n",
    "                \"epoch\":epoch,\n",
    "                \"ent\":ent,\n",
    "                \"train_score\":item[\"train_score\"]['ents_per_type'][ent][score_metric],\n",
    "                \"val_score\":item[\"val_score\"]['ents_per_type'][ent][score_metric]}\n",
    "            scores_list.append(epoch_score)\n",
    "    df_scores = pd.DataFrame(scores_list)\n",
    "    return df_scores       \n",
    "                "
   ]
  },
  {
   "cell_type": "code",
   "execution_count": 28,
   "id": "c62f39e7",
   "metadata": {},
   "outputs": [],
   "source": [
    "df_scores = get_metric_per_entity(scores, \"f\")"
   ]
  },
  {
   "cell_type": "code",
   "execution_count": 29,
   "id": "43d0c650",
   "metadata": {},
   "outputs": [
    {
     "data": {
      "text/html": [
       "<div>\n",
       "<style scoped>\n",
       "    .dataframe tbody tr th:only-of-type {\n",
       "        vertical-align: middle;\n",
       "    }\n",
       "\n",
       "    .dataframe tbody tr th {\n",
       "        vertical-align: top;\n",
       "    }\n",
       "\n",
       "    .dataframe thead th {\n",
       "        text-align: right;\n",
       "    }\n",
       "</style>\n",
       "<table border=\"1\" class=\"dataframe\">\n",
       "  <thead>\n",
       "    <tr style=\"text-align: right;\">\n",
       "      <th></th>\n",
       "      <th>epoch</th>\n",
       "      <th>ent</th>\n",
       "      <th>train_score</th>\n",
       "      <th>val_score</th>\n",
       "    </tr>\n",
       "  </thead>\n",
       "  <tbody>\n",
       "    <tr>\n",
       "      <th>0</th>\n",
       "      <td>0</td>\n",
       "      <td>geo</td>\n",
       "      <td>0.858735</td>\n",
       "      <td>0.849374</td>\n",
       "    </tr>\n",
       "    <tr>\n",
       "      <th>1</th>\n",
       "      <td>0</td>\n",
       "      <td>gpe</td>\n",
       "      <td>0.935703</td>\n",
       "      <td>0.930609</td>\n",
       "    </tr>\n",
       "    <tr>\n",
       "      <th>2</th>\n",
       "      <td>0</td>\n",
       "      <td>tim</td>\n",
       "      <td>0.875010</td>\n",
       "      <td>0.866644</td>\n",
       "    </tr>\n",
       "    <tr>\n",
       "      <th>3</th>\n",
       "      <td>0</td>\n",
       "      <td>nat</td>\n",
       "      <td>0.000000</td>\n",
       "      <td>0.000000</td>\n",
       "    </tr>\n",
       "    <tr>\n",
       "      <th>4</th>\n",
       "      <td>1</td>\n",
       "      <td>geo</td>\n",
       "      <td>0.874038</td>\n",
       "      <td>0.862216</td>\n",
       "    </tr>\n",
       "    <tr>\n",
       "      <th>5</th>\n",
       "      <td>1</td>\n",
       "      <td>gpe</td>\n",
       "      <td>0.949091</td>\n",
       "      <td>0.942480</td>\n",
       "    </tr>\n",
       "    <tr>\n",
       "      <th>6</th>\n",
       "      <td>1</td>\n",
       "      <td>tim</td>\n",
       "      <td>0.888872</td>\n",
       "      <td>0.868748</td>\n",
       "    </tr>\n",
       "    <tr>\n",
       "      <th>7</th>\n",
       "      <td>1</td>\n",
       "      <td>nat</td>\n",
       "      <td>0.376344</td>\n",
       "      <td>0.333333</td>\n",
       "    </tr>\n",
       "    <tr>\n",
       "      <th>8</th>\n",
       "      <td>2</td>\n",
       "      <td>geo</td>\n",
       "      <td>0.888577</td>\n",
       "      <td>0.863668</td>\n",
       "    </tr>\n",
       "    <tr>\n",
       "      <th>9</th>\n",
       "      <td>2</td>\n",
       "      <td>gpe</td>\n",
       "      <td>0.953407</td>\n",
       "      <td>0.946072</td>\n",
       "    </tr>\n",
       "    <tr>\n",
       "      <th>10</th>\n",
       "      <td>2</td>\n",
       "      <td>tim</td>\n",
       "      <td>0.899178</td>\n",
       "      <td>0.869303</td>\n",
       "    </tr>\n",
       "    <tr>\n",
       "      <th>11</th>\n",
       "      <td>2</td>\n",
       "      <td>nat</td>\n",
       "      <td>0.497925</td>\n",
       "      <td>0.500000</td>\n",
       "    </tr>\n",
       "    <tr>\n",
       "      <th>12</th>\n",
       "      <td>3</td>\n",
       "      <td>geo</td>\n",
       "      <td>0.895733</td>\n",
       "      <td>0.868228</td>\n",
       "    </tr>\n",
       "    <tr>\n",
       "      <th>13</th>\n",
       "      <td>3</td>\n",
       "      <td>gpe</td>\n",
       "      <td>0.955464</td>\n",
       "      <td>0.947548</td>\n",
       "    </tr>\n",
       "    <tr>\n",
       "      <th>14</th>\n",
       "      <td>3</td>\n",
       "      <td>tim</td>\n",
       "      <td>0.909063</td>\n",
       "      <td>0.878098</td>\n",
       "    </tr>\n",
       "    <tr>\n",
       "      <th>15</th>\n",
       "      <td>3</td>\n",
       "      <td>nat</td>\n",
       "      <td>0.529762</td>\n",
       "      <td>0.457143</td>\n",
       "    </tr>\n",
       "    <tr>\n",
       "      <th>16</th>\n",
       "      <td>4</td>\n",
       "      <td>geo</td>\n",
       "      <td>0.906141</td>\n",
       "      <td>0.868412</td>\n",
       "    </tr>\n",
       "    <tr>\n",
       "      <th>17</th>\n",
       "      <td>4</td>\n",
       "      <td>gpe</td>\n",
       "      <td>0.955702</td>\n",
       "      <td>0.942332</td>\n",
       "    </tr>\n",
       "    <tr>\n",
       "      <th>18</th>\n",
       "      <td>4</td>\n",
       "      <td>tim</td>\n",
       "      <td>0.912439</td>\n",
       "      <td>0.884679</td>\n",
       "    </tr>\n",
       "    <tr>\n",
       "      <th>19</th>\n",
       "      <td>4</td>\n",
       "      <td>nat</td>\n",
       "      <td>0.590551</td>\n",
       "      <td>0.516129</td>\n",
       "    </tr>\n",
       "    <tr>\n",
       "      <th>20</th>\n",
       "      <td>5</td>\n",
       "      <td>geo</td>\n",
       "      <td>0.913505</td>\n",
       "      <td>0.871002</td>\n",
       "    </tr>\n",
       "    <tr>\n",
       "      <th>21</th>\n",
       "      <td>5</td>\n",
       "      <td>gpe</td>\n",
       "      <td>0.956134</td>\n",
       "      <td>0.942626</td>\n",
       "    </tr>\n",
       "    <tr>\n",
       "      <th>22</th>\n",
       "      <td>5</td>\n",
       "      <td>tim</td>\n",
       "      <td>0.924315</td>\n",
       "      <td>0.880027</td>\n",
       "    </tr>\n",
       "    <tr>\n",
       "      <th>23</th>\n",
       "      <td>5</td>\n",
       "      <td>nat</td>\n",
       "      <td>0.656126</td>\n",
       "      <td>0.551724</td>\n",
       "    </tr>\n",
       "    <tr>\n",
       "      <th>24</th>\n",
       "      <td>6</td>\n",
       "      <td>geo</td>\n",
       "      <td>0.915912</td>\n",
       "      <td>0.863716</td>\n",
       "    </tr>\n",
       "    <tr>\n",
       "      <th>25</th>\n",
       "      <td>6</td>\n",
       "      <td>gpe</td>\n",
       "      <td>0.958227</td>\n",
       "      <td>0.943973</td>\n",
       "    </tr>\n",
       "    <tr>\n",
       "      <th>26</th>\n",
       "      <td>6</td>\n",
       "      <td>tim</td>\n",
       "      <td>0.929553</td>\n",
       "      <td>0.879293</td>\n",
       "    </tr>\n",
       "    <tr>\n",
       "      <th>27</th>\n",
       "      <td>6</td>\n",
       "      <td>nat</td>\n",
       "      <td>0.629371</td>\n",
       "      <td>0.516129</td>\n",
       "    </tr>\n",
       "    <tr>\n",
       "      <th>28</th>\n",
       "      <td>7</td>\n",
       "      <td>geo</td>\n",
       "      <td>0.919362</td>\n",
       "      <td>0.869519</td>\n",
       "    </tr>\n",
       "    <tr>\n",
       "      <th>29</th>\n",
       "      <td>7</td>\n",
       "      <td>gpe</td>\n",
       "      <td>0.961449</td>\n",
       "      <td>0.948041</td>\n",
       "    </tr>\n",
       "    <tr>\n",
       "      <th>30</th>\n",
       "      <td>7</td>\n",
       "      <td>tim</td>\n",
       "      <td>0.934001</td>\n",
       "      <td>0.877217</td>\n",
       "    </tr>\n",
       "    <tr>\n",
       "      <th>31</th>\n",
       "      <td>7</td>\n",
       "      <td>nat</td>\n",
       "      <td>0.624434</td>\n",
       "      <td>0.636364</td>\n",
       "    </tr>\n",
       "    <tr>\n",
       "      <th>32</th>\n",
       "      <td>8</td>\n",
       "      <td>geo</td>\n",
       "      <td>0.924558</td>\n",
       "      <td>0.866019</td>\n",
       "    </tr>\n",
       "    <tr>\n",
       "      <th>33</th>\n",
       "      <td>8</td>\n",
       "      <td>gpe</td>\n",
       "      <td>0.960310</td>\n",
       "      <td>0.947233</td>\n",
       "    </tr>\n",
       "    <tr>\n",
       "      <th>34</th>\n",
       "      <td>8</td>\n",
       "      <td>tim</td>\n",
       "      <td>0.938756</td>\n",
       "      <td>0.883534</td>\n",
       "    </tr>\n",
       "    <tr>\n",
       "      <th>35</th>\n",
       "      <td>8</td>\n",
       "      <td>nat</td>\n",
       "      <td>0.633663</td>\n",
       "      <td>0.457143</td>\n",
       "    </tr>\n",
       "    <tr>\n",
       "      <th>36</th>\n",
       "      <td>9</td>\n",
       "      <td>geo</td>\n",
       "      <td>0.928407</td>\n",
       "      <td>0.865624</td>\n",
       "    </tr>\n",
       "    <tr>\n",
       "      <th>37</th>\n",
       "      <td>9</td>\n",
       "      <td>gpe</td>\n",
       "      <td>0.963245</td>\n",
       "      <td>0.946695</td>\n",
       "    </tr>\n",
       "    <tr>\n",
       "      <th>38</th>\n",
       "      <td>9</td>\n",
       "      <td>tim</td>\n",
       "      <td>0.940127</td>\n",
       "      <td>0.883989</td>\n",
       "    </tr>\n",
       "    <tr>\n",
       "      <th>39</th>\n",
       "      <td>9</td>\n",
       "      <td>nat</td>\n",
       "      <td>0.596610</td>\n",
       "      <td>0.500000</td>\n",
       "    </tr>\n",
       "  </tbody>\n",
       "</table>\n",
       "</div>"
      ],
      "text/plain": [
       "    epoch  ent  train_score  val_score\n",
       "0       0  geo     0.858735   0.849374\n",
       "1       0  gpe     0.935703   0.930609\n",
       "2       0  tim     0.875010   0.866644\n",
       "3       0  nat     0.000000   0.000000\n",
       "4       1  geo     0.874038   0.862216\n",
       "5       1  gpe     0.949091   0.942480\n",
       "6       1  tim     0.888872   0.868748\n",
       "7       1  nat     0.376344   0.333333\n",
       "8       2  geo     0.888577   0.863668\n",
       "9       2  gpe     0.953407   0.946072\n",
       "10      2  tim     0.899178   0.869303\n",
       "11      2  nat     0.497925   0.500000\n",
       "12      3  geo     0.895733   0.868228\n",
       "13      3  gpe     0.955464   0.947548\n",
       "14      3  tim     0.909063   0.878098\n",
       "15      3  nat     0.529762   0.457143\n",
       "16      4  geo     0.906141   0.868412\n",
       "17      4  gpe     0.955702   0.942332\n",
       "18      4  tim     0.912439   0.884679\n",
       "19      4  nat     0.590551   0.516129\n",
       "20      5  geo     0.913505   0.871002\n",
       "21      5  gpe     0.956134   0.942626\n",
       "22      5  tim     0.924315   0.880027\n",
       "23      5  nat     0.656126   0.551724\n",
       "24      6  geo     0.915912   0.863716\n",
       "25      6  gpe     0.958227   0.943973\n",
       "26      6  tim     0.929553   0.879293\n",
       "27      6  nat     0.629371   0.516129\n",
       "28      7  geo     0.919362   0.869519\n",
       "29      7  gpe     0.961449   0.948041\n",
       "30      7  tim     0.934001   0.877217\n",
       "31      7  nat     0.624434   0.636364\n",
       "32      8  geo     0.924558   0.866019\n",
       "33      8  gpe     0.960310   0.947233\n",
       "34      8  tim     0.938756   0.883534\n",
       "35      8  nat     0.633663   0.457143\n",
       "36      9  geo     0.928407   0.865624\n",
       "37      9  gpe     0.963245   0.946695\n",
       "38      9  tim     0.940127   0.883989\n",
       "39      9  nat     0.596610   0.500000"
      ]
     },
     "execution_count": 29,
     "metadata": {},
     "output_type": "execute_result"
    }
   ],
   "source": [
    "df_scores"
   ]
  },
  {
   "cell_type": "code",
   "execution_count": 30,
   "id": "d97417cb",
   "metadata": {},
   "outputs": [
    {
     "data": {
      "application/vnd.plotly.v1+json": {
       "config": {
        "linkText": "Export to plot.ly",
        "plotlyServerURL": "https://plot.ly",
        "showLink": false
       },
       "data": [
        {
         "marker": {
          "size": 5
         },
         "mode": "lines",
         "name": "train_score",
         "type": "scatter",
         "x": [
          0,
          0,
          0,
          0,
          1,
          1,
          1,
          1,
          2,
          2,
          2,
          2,
          3,
          3,
          3,
          3,
          4,
          4,
          4,
          4,
          5,
          5,
          5,
          5,
          6,
          6,
          6,
          6,
          7,
          7,
          7,
          7,
          8,
          8,
          8,
          8,
          9,
          9,
          9,
          9
         ],
         "y": [
          0.8587353141665666,
          0.9357030841610036,
          0.8750095209079137,
          0,
          0.8740375241240723,
          0.9490912551146636,
          0.888871991788009,
          0.37634408602150543,
          0.8885772167679601,
          0.953406718542418,
          0.8991784348616212,
          0.49792531120331956,
          0.8957333021040715,
          0.9554644287621591,
          0.9090630506396996,
          0.5297619047619048,
          0.9061410459587956,
          0.9557022579410639,
          0.9124385945175685,
          0.5905511811023623,
          0.9135048295285508,
          0.9561336878085834,
          0.9243152513923858,
          0.6561264822134388,
          0.9159119804400978,
          0.958226526155891,
          0.9295527400396886,
          0.6293706293706294,
          0.919361844963077,
          0.9614486538003336,
          0.9340012236157846,
          0.6244343891402715,
          0.9245577010315378,
          0.9603102408196486,
          0.9387555120039197,
          0.6336633663366337,
          0.9284071989217473,
          0.9632454593125804,
          0.9401266112424681,
          0.5966101694915255
         ]
        },
        {
         "marker": {
          "size": 5
         },
         "mode": "lines",
         "name": "val_score",
         "type": "scatter",
         "x": [
          0,
          0,
          0,
          0,
          1,
          1,
          1,
          1,
          2,
          2,
          2,
          2,
          3,
          3,
          3,
          3,
          4,
          4,
          4,
          4,
          5,
          5,
          5,
          5,
          6,
          6,
          6,
          6,
          7,
          7,
          7,
          7,
          8,
          8,
          8,
          8,
          9,
          9,
          9,
          9
         ],
         "y": [
          0.8493738819320213,
          0.9306087696892295,
          0.86664427275781,
          0,
          0.8622159090909091,
          0.9424797613975288,
          0.8687479019805304,
          0.33333333333333337,
          0.8636680613668062,
          0.9460721868365181,
          0.8693029490616622,
          0.5,
          0.8682278923453338,
          0.9475479744136461,
          0.8780984719864176,
          0.4571428571428572,
          0.8684117438981253,
          0.9423323366082871,
          0.8846792954469924,
          0.5161290322580646,
          0.871002132196162,
          0.9426264343391416,
          0.8800270361608651,
          0.5517241379310344,
          0.8637155803415824,
          0.9439728353140917,
          0.8792927575654539,
          0.5161290322580646,
          0.8695190947666195,
          0.9480408858603065,
          0.8772169167803547,
          0.6363636363636364,
          0.8660194174757282,
          0.9472329472329473,
          0.8835341365461847,
          0.4571428571428572,
          0.8656238890863847,
          0.9466950959488273,
          0.8839891451831752,
          0.5
         ]
        }
       ],
       "layout": {
        "template": {
         "data": {
          "bar": [
           {
            "error_x": {
             "color": "#2a3f5f"
            },
            "error_y": {
             "color": "#2a3f5f"
            },
            "marker": {
             "line": {
              "color": "#E5ECF6",
              "width": 0.5
             },
             "pattern": {
              "fillmode": "overlay",
              "size": 10,
              "solidity": 0.2
             }
            },
            "type": "bar"
           }
          ],
          "barpolar": [
           {
            "marker": {
             "line": {
              "color": "#E5ECF6",
              "width": 0.5
             },
             "pattern": {
              "fillmode": "overlay",
              "size": 10,
              "solidity": 0.2
             }
            },
            "type": "barpolar"
           }
          ],
          "carpet": [
           {
            "aaxis": {
             "endlinecolor": "#2a3f5f",
             "gridcolor": "white",
             "linecolor": "white",
             "minorgridcolor": "white",
             "startlinecolor": "#2a3f5f"
            },
            "baxis": {
             "endlinecolor": "#2a3f5f",
             "gridcolor": "white",
             "linecolor": "white",
             "minorgridcolor": "white",
             "startlinecolor": "#2a3f5f"
            },
            "type": "carpet"
           }
          ],
          "choropleth": [
           {
            "colorbar": {
             "outlinewidth": 0,
             "ticks": ""
            },
            "type": "choropleth"
           }
          ],
          "contour": [
           {
            "colorbar": {
             "outlinewidth": 0,
             "ticks": ""
            },
            "colorscale": [
             [
              0,
              "#0d0887"
             ],
             [
              0.1111111111111111,
              "#46039f"
             ],
             [
              0.2222222222222222,
              "#7201a8"
             ],
             [
              0.3333333333333333,
              "#9c179e"
             ],
             [
              0.4444444444444444,
              "#bd3786"
             ],
             [
              0.5555555555555556,
              "#d8576b"
             ],
             [
              0.6666666666666666,
              "#ed7953"
             ],
             [
              0.7777777777777778,
              "#fb9f3a"
             ],
             [
              0.8888888888888888,
              "#fdca26"
             ],
             [
              1,
              "#f0f921"
             ]
            ],
            "type": "contour"
           }
          ],
          "contourcarpet": [
           {
            "colorbar": {
             "outlinewidth": 0,
             "ticks": ""
            },
            "type": "contourcarpet"
           }
          ],
          "heatmap": [
           {
            "colorbar": {
             "outlinewidth": 0,
             "ticks": ""
            },
            "colorscale": [
             [
              0,
              "#0d0887"
             ],
             [
              0.1111111111111111,
              "#46039f"
             ],
             [
              0.2222222222222222,
              "#7201a8"
             ],
             [
              0.3333333333333333,
              "#9c179e"
             ],
             [
              0.4444444444444444,
              "#bd3786"
             ],
             [
              0.5555555555555556,
              "#d8576b"
             ],
             [
              0.6666666666666666,
              "#ed7953"
             ],
             [
              0.7777777777777778,
              "#fb9f3a"
             ],
             [
              0.8888888888888888,
              "#fdca26"
             ],
             [
              1,
              "#f0f921"
             ]
            ],
            "type": "heatmap"
           }
          ],
          "heatmapgl": [
           {
            "colorbar": {
             "outlinewidth": 0,
             "ticks": ""
            },
            "colorscale": [
             [
              0,
              "#0d0887"
             ],
             [
              0.1111111111111111,
              "#46039f"
             ],
             [
              0.2222222222222222,
              "#7201a8"
             ],
             [
              0.3333333333333333,
              "#9c179e"
             ],
             [
              0.4444444444444444,
              "#bd3786"
             ],
             [
              0.5555555555555556,
              "#d8576b"
             ],
             [
              0.6666666666666666,
              "#ed7953"
             ],
             [
              0.7777777777777778,
              "#fb9f3a"
             ],
             [
              0.8888888888888888,
              "#fdca26"
             ],
             [
              1,
              "#f0f921"
             ]
            ],
            "type": "heatmapgl"
           }
          ],
          "histogram": [
           {
            "marker": {
             "pattern": {
              "fillmode": "overlay",
              "size": 10,
              "solidity": 0.2
             }
            },
            "type": "histogram"
           }
          ],
          "histogram2d": [
           {
            "colorbar": {
             "outlinewidth": 0,
             "ticks": ""
            },
            "colorscale": [
             [
              0,
              "#0d0887"
             ],
             [
              0.1111111111111111,
              "#46039f"
             ],
             [
              0.2222222222222222,
              "#7201a8"
             ],
             [
              0.3333333333333333,
              "#9c179e"
             ],
             [
              0.4444444444444444,
              "#bd3786"
             ],
             [
              0.5555555555555556,
              "#d8576b"
             ],
             [
              0.6666666666666666,
              "#ed7953"
             ],
             [
              0.7777777777777778,
              "#fb9f3a"
             ],
             [
              0.8888888888888888,
              "#fdca26"
             ],
             [
              1,
              "#f0f921"
             ]
            ],
            "type": "histogram2d"
           }
          ],
          "histogram2dcontour": [
           {
            "colorbar": {
             "outlinewidth": 0,
             "ticks": ""
            },
            "colorscale": [
             [
              0,
              "#0d0887"
             ],
             [
              0.1111111111111111,
              "#46039f"
             ],
             [
              0.2222222222222222,
              "#7201a8"
             ],
             [
              0.3333333333333333,
              "#9c179e"
             ],
             [
              0.4444444444444444,
              "#bd3786"
             ],
             [
              0.5555555555555556,
              "#d8576b"
             ],
             [
              0.6666666666666666,
              "#ed7953"
             ],
             [
              0.7777777777777778,
              "#fb9f3a"
             ],
             [
              0.8888888888888888,
              "#fdca26"
             ],
             [
              1,
              "#f0f921"
             ]
            ],
            "type": "histogram2dcontour"
           }
          ],
          "mesh3d": [
           {
            "colorbar": {
             "outlinewidth": 0,
             "ticks": ""
            },
            "type": "mesh3d"
           }
          ],
          "parcoords": [
           {
            "line": {
             "colorbar": {
              "outlinewidth": 0,
              "ticks": ""
             }
            },
            "type": "parcoords"
           }
          ],
          "pie": [
           {
            "automargin": true,
            "type": "pie"
           }
          ],
          "scatter": [
           {
            "fillpattern": {
             "fillmode": "overlay",
             "size": 10,
             "solidity": 0.2
            },
            "type": "scatter"
           }
          ],
          "scatter3d": [
           {
            "line": {
             "colorbar": {
              "outlinewidth": 0,
              "ticks": ""
             }
            },
            "marker": {
             "colorbar": {
              "outlinewidth": 0,
              "ticks": ""
             }
            },
            "type": "scatter3d"
           }
          ],
          "scattercarpet": [
           {
            "marker": {
             "colorbar": {
              "outlinewidth": 0,
              "ticks": ""
             }
            },
            "type": "scattercarpet"
           }
          ],
          "scattergeo": [
           {
            "marker": {
             "colorbar": {
              "outlinewidth": 0,
              "ticks": ""
             }
            },
            "type": "scattergeo"
           }
          ],
          "scattergl": [
           {
            "marker": {
             "colorbar": {
              "outlinewidth": 0,
              "ticks": ""
             }
            },
            "type": "scattergl"
           }
          ],
          "scattermapbox": [
           {
            "marker": {
             "colorbar": {
              "outlinewidth": 0,
              "ticks": ""
             }
            },
            "type": "scattermapbox"
           }
          ],
          "scatterpolar": [
           {
            "marker": {
             "colorbar": {
              "outlinewidth": 0,
              "ticks": ""
             }
            },
            "type": "scatterpolar"
           }
          ],
          "scatterpolargl": [
           {
            "marker": {
             "colorbar": {
              "outlinewidth": 0,
              "ticks": ""
             }
            },
            "type": "scatterpolargl"
           }
          ],
          "scatterternary": [
           {
            "marker": {
             "colorbar": {
              "outlinewidth": 0,
              "ticks": ""
             }
            },
            "type": "scatterternary"
           }
          ],
          "surface": [
           {
            "colorbar": {
             "outlinewidth": 0,
             "ticks": ""
            },
            "colorscale": [
             [
              0,
              "#0d0887"
             ],
             [
              0.1111111111111111,
              "#46039f"
             ],
             [
              0.2222222222222222,
              "#7201a8"
             ],
             [
              0.3333333333333333,
              "#9c179e"
             ],
             [
              0.4444444444444444,
              "#bd3786"
             ],
             [
              0.5555555555555556,
              "#d8576b"
             ],
             [
              0.6666666666666666,
              "#ed7953"
             ],
             [
              0.7777777777777778,
              "#fb9f3a"
             ],
             [
              0.8888888888888888,
              "#fdca26"
             ],
             [
              1,
              "#f0f921"
             ]
            ],
            "type": "surface"
           }
          ],
          "table": [
           {
            "cells": {
             "fill": {
              "color": "#EBF0F8"
             },
             "line": {
              "color": "white"
             }
            },
            "header": {
             "fill": {
              "color": "#C8D4E3"
             },
             "line": {
              "color": "white"
             }
            },
            "type": "table"
           }
          ]
         },
         "layout": {
          "annotationdefaults": {
           "arrowcolor": "#2a3f5f",
           "arrowhead": 0,
           "arrowwidth": 1
          },
          "autotypenumbers": "strict",
          "coloraxis": {
           "colorbar": {
            "outlinewidth": 0,
            "ticks": ""
           }
          },
          "colorscale": {
           "diverging": [
            [
             0,
             "#8e0152"
            ],
            [
             0.1,
             "#c51b7d"
            ],
            [
             0.2,
             "#de77ae"
            ],
            [
             0.3,
             "#f1b6da"
            ],
            [
             0.4,
             "#fde0ef"
            ],
            [
             0.5,
             "#f7f7f7"
            ],
            [
             0.6,
             "#e6f5d0"
            ],
            [
             0.7,
             "#b8e186"
            ],
            [
             0.8,
             "#7fbc41"
            ],
            [
             0.9,
             "#4d9221"
            ],
            [
             1,
             "#276419"
            ]
           ],
           "sequential": [
            [
             0,
             "#0d0887"
            ],
            [
             0.1111111111111111,
             "#46039f"
            ],
            [
             0.2222222222222222,
             "#7201a8"
            ],
            [
             0.3333333333333333,
             "#9c179e"
            ],
            [
             0.4444444444444444,
             "#bd3786"
            ],
            [
             0.5555555555555556,
             "#d8576b"
            ],
            [
             0.6666666666666666,
             "#ed7953"
            ],
            [
             0.7777777777777778,
             "#fb9f3a"
            ],
            [
             0.8888888888888888,
             "#fdca26"
            ],
            [
             1,
             "#f0f921"
            ]
           ],
           "sequentialminus": [
            [
             0,
             "#0d0887"
            ],
            [
             0.1111111111111111,
             "#46039f"
            ],
            [
             0.2222222222222222,
             "#7201a8"
            ],
            [
             0.3333333333333333,
             "#9c179e"
            ],
            [
             0.4444444444444444,
             "#bd3786"
            ],
            [
             0.5555555555555556,
             "#d8576b"
            ],
            [
             0.6666666666666666,
             "#ed7953"
            ],
            [
             0.7777777777777778,
             "#fb9f3a"
            ],
            [
             0.8888888888888888,
             "#fdca26"
            ],
            [
             1,
             "#f0f921"
            ]
           ]
          },
          "colorway": [
           "#636efa",
           "#EF553B",
           "#00cc96",
           "#ab63fa",
           "#FFA15A",
           "#19d3f3",
           "#FF6692",
           "#B6E880",
           "#FF97FF",
           "#FECB52"
          ],
          "font": {
           "color": "#2a3f5f"
          },
          "geo": {
           "bgcolor": "white",
           "lakecolor": "white",
           "landcolor": "#E5ECF6",
           "showlakes": true,
           "showland": true,
           "subunitcolor": "white"
          },
          "hoverlabel": {
           "align": "left"
          },
          "hovermode": "closest",
          "mapbox": {
           "style": "light"
          },
          "paper_bgcolor": "white",
          "plot_bgcolor": "#E5ECF6",
          "polar": {
           "angularaxis": {
            "gridcolor": "white",
            "linecolor": "white",
            "ticks": ""
           },
           "bgcolor": "#E5ECF6",
           "radialaxis": {
            "gridcolor": "white",
            "linecolor": "white",
            "ticks": ""
           }
          },
          "scene": {
           "xaxis": {
            "backgroundcolor": "#E5ECF6",
            "gridcolor": "white",
            "gridwidth": 2,
            "linecolor": "white",
            "showbackground": true,
            "ticks": "",
            "zerolinecolor": "white"
           },
           "yaxis": {
            "backgroundcolor": "#E5ECF6",
            "gridcolor": "white",
            "gridwidth": 2,
            "linecolor": "white",
            "showbackground": true,
            "ticks": "",
            "zerolinecolor": "white"
           },
           "zaxis": {
            "backgroundcolor": "#E5ECF6",
            "gridcolor": "white",
            "gridwidth": 2,
            "linecolor": "white",
            "showbackground": true,
            "ticks": "",
            "zerolinecolor": "white"
           }
          },
          "shapedefaults": {
           "line": {
            "color": "#2a3f5f"
           }
          },
          "ternary": {
           "aaxis": {
            "gridcolor": "white",
            "linecolor": "white",
            "ticks": ""
           },
           "baxis": {
            "gridcolor": "white",
            "linecolor": "white",
            "ticks": ""
           },
           "bgcolor": "#E5ECF6",
           "caxis": {
            "gridcolor": "white",
            "linecolor": "white",
            "ticks": ""
           }
          },
          "title": {
           "x": 0.05
          },
          "xaxis": {
           "automargin": true,
           "gridcolor": "white",
           "linecolor": "white",
           "ticks": "",
           "title": {
            "standoff": 15
           },
           "zerolinecolor": "white",
           "zerolinewidth": 2
          },
          "yaxis": {
           "automargin": true,
           "gridcolor": "white",
           "linecolor": "white",
           "ticks": "",
           "title": {
            "standoff": 15
           },
           "zerolinecolor": "white",
           "zerolinewidth": 2
          }
         }
        },
        "title": {
         "text": "<b>Performance by epoch"
        }
       }
      }
     },
     "metadata": {},
     "output_type": "display_data"
    }
   ],
   "source": [
    "data=[]\n",
    "for score in [\"train_score\", \"val_score\"]:\n",
    "    \n",
    "    trace=go.Scatter(\n",
    "                x=df_scores.epoch,\n",
    "                y=df_scores[score],\n",
    "                mode='lines',\n",
    "                marker=dict(\n",
    "                size=5\n",
    "                ),\n",
    "            name=score,\n",
    "\n",
    "            )\n",
    "    data.append(trace)\n",
    "    \n",
    "figure=go.Figure(\n",
    "    data=data,\n",
    "    layout=go.Layout(\n",
    "        title=f\"<b>Performance by epoch\",\n",
    "    \n",
    "    ))\n",
    "iplot(figure)"
   ]
  },
  {
   "cell_type": "code",
   "execution_count": 31,
   "id": "daa1211c",
   "metadata": {},
   "outputs": [
    {
     "data": {
      "application/vnd.plotly.v1+json": {
       "config": {
        "linkText": "Export to plot.ly",
        "plotlyServerURL": "https://plot.ly",
        "showLink": false
       },
       "data": [
        {
         "marker": {
          "size": 5
         },
         "mode": "lines",
         "name": "geo",
         "type": "scatter",
         "x": [
          0,
          1,
          2,
          3,
          4,
          5,
          6,
          7,
          8,
          9
         ],
         "y": [
          0.8493738819320213,
          0.8622159090909091,
          0.8636680613668062,
          0.8682278923453338,
          0.8684117438981253,
          0.871002132196162,
          0.8637155803415824,
          0.8695190947666195,
          0.8660194174757282,
          0.8656238890863847
         ]
        },
        {
         "marker": {
          "size": 5
         },
         "mode": "lines",
         "name": "gpe",
         "type": "scatter",
         "x": [
          0,
          1,
          2,
          3,
          4,
          5,
          6,
          7,
          8,
          9
         ],
         "y": [
          0.9306087696892295,
          0.9424797613975288,
          0.9460721868365181,
          0.9475479744136461,
          0.9423323366082871,
          0.9426264343391416,
          0.9439728353140917,
          0.9480408858603065,
          0.9472329472329473,
          0.9466950959488273
         ]
        },
        {
         "marker": {
          "size": 5
         },
         "mode": "lines",
         "name": "tim",
         "type": "scatter",
         "x": [
          0,
          1,
          2,
          3,
          4,
          5,
          6,
          7,
          8,
          9
         ],
         "y": [
          0.86664427275781,
          0.8687479019805304,
          0.8693029490616622,
          0.8780984719864176,
          0.8846792954469924,
          0.8800270361608651,
          0.8792927575654539,
          0.8772169167803547,
          0.8835341365461847,
          0.8839891451831752
         ]
        },
        {
         "marker": {
          "size": 5
         },
         "mode": "lines",
         "name": "nat",
         "type": "scatter",
         "x": [
          0,
          1,
          2,
          3,
          4,
          5,
          6,
          7,
          8,
          9
         ],
         "y": [
          0,
          0.33333333333333337,
          0.5,
          0.4571428571428572,
          0.5161290322580646,
          0.5517241379310344,
          0.5161290322580646,
          0.6363636363636364,
          0.4571428571428572,
          0.5
         ]
        }
       ],
       "layout": {
        "template": {
         "data": {
          "bar": [
           {
            "error_x": {
             "color": "#2a3f5f"
            },
            "error_y": {
             "color": "#2a3f5f"
            },
            "marker": {
             "line": {
              "color": "#E5ECF6",
              "width": 0.5
             },
             "pattern": {
              "fillmode": "overlay",
              "size": 10,
              "solidity": 0.2
             }
            },
            "type": "bar"
           }
          ],
          "barpolar": [
           {
            "marker": {
             "line": {
              "color": "#E5ECF6",
              "width": 0.5
             },
             "pattern": {
              "fillmode": "overlay",
              "size": 10,
              "solidity": 0.2
             }
            },
            "type": "barpolar"
           }
          ],
          "carpet": [
           {
            "aaxis": {
             "endlinecolor": "#2a3f5f",
             "gridcolor": "white",
             "linecolor": "white",
             "minorgridcolor": "white",
             "startlinecolor": "#2a3f5f"
            },
            "baxis": {
             "endlinecolor": "#2a3f5f",
             "gridcolor": "white",
             "linecolor": "white",
             "minorgridcolor": "white",
             "startlinecolor": "#2a3f5f"
            },
            "type": "carpet"
           }
          ],
          "choropleth": [
           {
            "colorbar": {
             "outlinewidth": 0,
             "ticks": ""
            },
            "type": "choropleth"
           }
          ],
          "contour": [
           {
            "colorbar": {
             "outlinewidth": 0,
             "ticks": ""
            },
            "colorscale": [
             [
              0,
              "#0d0887"
             ],
             [
              0.1111111111111111,
              "#46039f"
             ],
             [
              0.2222222222222222,
              "#7201a8"
             ],
             [
              0.3333333333333333,
              "#9c179e"
             ],
             [
              0.4444444444444444,
              "#bd3786"
             ],
             [
              0.5555555555555556,
              "#d8576b"
             ],
             [
              0.6666666666666666,
              "#ed7953"
             ],
             [
              0.7777777777777778,
              "#fb9f3a"
             ],
             [
              0.8888888888888888,
              "#fdca26"
             ],
             [
              1,
              "#f0f921"
             ]
            ],
            "type": "contour"
           }
          ],
          "contourcarpet": [
           {
            "colorbar": {
             "outlinewidth": 0,
             "ticks": ""
            },
            "type": "contourcarpet"
           }
          ],
          "heatmap": [
           {
            "colorbar": {
             "outlinewidth": 0,
             "ticks": ""
            },
            "colorscale": [
             [
              0,
              "#0d0887"
             ],
             [
              0.1111111111111111,
              "#46039f"
             ],
             [
              0.2222222222222222,
              "#7201a8"
             ],
             [
              0.3333333333333333,
              "#9c179e"
             ],
             [
              0.4444444444444444,
              "#bd3786"
             ],
             [
              0.5555555555555556,
              "#d8576b"
             ],
             [
              0.6666666666666666,
              "#ed7953"
             ],
             [
              0.7777777777777778,
              "#fb9f3a"
             ],
             [
              0.8888888888888888,
              "#fdca26"
             ],
             [
              1,
              "#f0f921"
             ]
            ],
            "type": "heatmap"
           }
          ],
          "heatmapgl": [
           {
            "colorbar": {
             "outlinewidth": 0,
             "ticks": ""
            },
            "colorscale": [
             [
              0,
              "#0d0887"
             ],
             [
              0.1111111111111111,
              "#46039f"
             ],
             [
              0.2222222222222222,
              "#7201a8"
             ],
             [
              0.3333333333333333,
              "#9c179e"
             ],
             [
              0.4444444444444444,
              "#bd3786"
             ],
             [
              0.5555555555555556,
              "#d8576b"
             ],
             [
              0.6666666666666666,
              "#ed7953"
             ],
             [
              0.7777777777777778,
              "#fb9f3a"
             ],
             [
              0.8888888888888888,
              "#fdca26"
             ],
             [
              1,
              "#f0f921"
             ]
            ],
            "type": "heatmapgl"
           }
          ],
          "histogram": [
           {
            "marker": {
             "pattern": {
              "fillmode": "overlay",
              "size": 10,
              "solidity": 0.2
             }
            },
            "type": "histogram"
           }
          ],
          "histogram2d": [
           {
            "colorbar": {
             "outlinewidth": 0,
             "ticks": ""
            },
            "colorscale": [
             [
              0,
              "#0d0887"
             ],
             [
              0.1111111111111111,
              "#46039f"
             ],
             [
              0.2222222222222222,
              "#7201a8"
             ],
             [
              0.3333333333333333,
              "#9c179e"
             ],
             [
              0.4444444444444444,
              "#bd3786"
             ],
             [
              0.5555555555555556,
              "#d8576b"
             ],
             [
              0.6666666666666666,
              "#ed7953"
             ],
             [
              0.7777777777777778,
              "#fb9f3a"
             ],
             [
              0.8888888888888888,
              "#fdca26"
             ],
             [
              1,
              "#f0f921"
             ]
            ],
            "type": "histogram2d"
           }
          ],
          "histogram2dcontour": [
           {
            "colorbar": {
             "outlinewidth": 0,
             "ticks": ""
            },
            "colorscale": [
             [
              0,
              "#0d0887"
             ],
             [
              0.1111111111111111,
              "#46039f"
             ],
             [
              0.2222222222222222,
              "#7201a8"
             ],
             [
              0.3333333333333333,
              "#9c179e"
             ],
             [
              0.4444444444444444,
              "#bd3786"
             ],
             [
              0.5555555555555556,
              "#d8576b"
             ],
             [
              0.6666666666666666,
              "#ed7953"
             ],
             [
              0.7777777777777778,
              "#fb9f3a"
             ],
             [
              0.8888888888888888,
              "#fdca26"
             ],
             [
              1,
              "#f0f921"
             ]
            ],
            "type": "histogram2dcontour"
           }
          ],
          "mesh3d": [
           {
            "colorbar": {
             "outlinewidth": 0,
             "ticks": ""
            },
            "type": "mesh3d"
           }
          ],
          "parcoords": [
           {
            "line": {
             "colorbar": {
              "outlinewidth": 0,
              "ticks": ""
             }
            },
            "type": "parcoords"
           }
          ],
          "pie": [
           {
            "automargin": true,
            "type": "pie"
           }
          ],
          "scatter": [
           {
            "fillpattern": {
             "fillmode": "overlay",
             "size": 10,
             "solidity": 0.2
            },
            "type": "scatter"
           }
          ],
          "scatter3d": [
           {
            "line": {
             "colorbar": {
              "outlinewidth": 0,
              "ticks": ""
             }
            },
            "marker": {
             "colorbar": {
              "outlinewidth": 0,
              "ticks": ""
             }
            },
            "type": "scatter3d"
           }
          ],
          "scattercarpet": [
           {
            "marker": {
             "colorbar": {
              "outlinewidth": 0,
              "ticks": ""
             }
            },
            "type": "scattercarpet"
           }
          ],
          "scattergeo": [
           {
            "marker": {
             "colorbar": {
              "outlinewidth": 0,
              "ticks": ""
             }
            },
            "type": "scattergeo"
           }
          ],
          "scattergl": [
           {
            "marker": {
             "colorbar": {
              "outlinewidth": 0,
              "ticks": ""
             }
            },
            "type": "scattergl"
           }
          ],
          "scattermapbox": [
           {
            "marker": {
             "colorbar": {
              "outlinewidth": 0,
              "ticks": ""
             }
            },
            "type": "scattermapbox"
           }
          ],
          "scatterpolar": [
           {
            "marker": {
             "colorbar": {
              "outlinewidth": 0,
              "ticks": ""
             }
            },
            "type": "scatterpolar"
           }
          ],
          "scatterpolargl": [
           {
            "marker": {
             "colorbar": {
              "outlinewidth": 0,
              "ticks": ""
             }
            },
            "type": "scatterpolargl"
           }
          ],
          "scatterternary": [
           {
            "marker": {
             "colorbar": {
              "outlinewidth": 0,
              "ticks": ""
             }
            },
            "type": "scatterternary"
           }
          ],
          "surface": [
           {
            "colorbar": {
             "outlinewidth": 0,
             "ticks": ""
            },
            "colorscale": [
             [
              0,
              "#0d0887"
             ],
             [
              0.1111111111111111,
              "#46039f"
             ],
             [
              0.2222222222222222,
              "#7201a8"
             ],
             [
              0.3333333333333333,
              "#9c179e"
             ],
             [
              0.4444444444444444,
              "#bd3786"
             ],
             [
              0.5555555555555556,
              "#d8576b"
             ],
             [
              0.6666666666666666,
              "#ed7953"
             ],
             [
              0.7777777777777778,
              "#fb9f3a"
             ],
             [
              0.8888888888888888,
              "#fdca26"
             ],
             [
              1,
              "#f0f921"
             ]
            ],
            "type": "surface"
           }
          ],
          "table": [
           {
            "cells": {
             "fill": {
              "color": "#EBF0F8"
             },
             "line": {
              "color": "white"
             }
            },
            "header": {
             "fill": {
              "color": "#C8D4E3"
             },
             "line": {
              "color": "white"
             }
            },
            "type": "table"
           }
          ]
         },
         "layout": {
          "annotationdefaults": {
           "arrowcolor": "#2a3f5f",
           "arrowhead": 0,
           "arrowwidth": 1
          },
          "autotypenumbers": "strict",
          "coloraxis": {
           "colorbar": {
            "outlinewidth": 0,
            "ticks": ""
           }
          },
          "colorscale": {
           "diverging": [
            [
             0,
             "#8e0152"
            ],
            [
             0.1,
             "#c51b7d"
            ],
            [
             0.2,
             "#de77ae"
            ],
            [
             0.3,
             "#f1b6da"
            ],
            [
             0.4,
             "#fde0ef"
            ],
            [
             0.5,
             "#f7f7f7"
            ],
            [
             0.6,
             "#e6f5d0"
            ],
            [
             0.7,
             "#b8e186"
            ],
            [
             0.8,
             "#7fbc41"
            ],
            [
             0.9,
             "#4d9221"
            ],
            [
             1,
             "#276419"
            ]
           ],
           "sequential": [
            [
             0,
             "#0d0887"
            ],
            [
             0.1111111111111111,
             "#46039f"
            ],
            [
             0.2222222222222222,
             "#7201a8"
            ],
            [
             0.3333333333333333,
             "#9c179e"
            ],
            [
             0.4444444444444444,
             "#bd3786"
            ],
            [
             0.5555555555555556,
             "#d8576b"
            ],
            [
             0.6666666666666666,
             "#ed7953"
            ],
            [
             0.7777777777777778,
             "#fb9f3a"
            ],
            [
             0.8888888888888888,
             "#fdca26"
            ],
            [
             1,
             "#f0f921"
            ]
           ],
           "sequentialminus": [
            [
             0,
             "#0d0887"
            ],
            [
             0.1111111111111111,
             "#46039f"
            ],
            [
             0.2222222222222222,
             "#7201a8"
            ],
            [
             0.3333333333333333,
             "#9c179e"
            ],
            [
             0.4444444444444444,
             "#bd3786"
            ],
            [
             0.5555555555555556,
             "#d8576b"
            ],
            [
             0.6666666666666666,
             "#ed7953"
            ],
            [
             0.7777777777777778,
             "#fb9f3a"
            ],
            [
             0.8888888888888888,
             "#fdca26"
            ],
            [
             1,
             "#f0f921"
            ]
           ]
          },
          "colorway": [
           "#636efa",
           "#EF553B",
           "#00cc96",
           "#ab63fa",
           "#FFA15A",
           "#19d3f3",
           "#FF6692",
           "#B6E880",
           "#FF97FF",
           "#FECB52"
          ],
          "font": {
           "color": "#2a3f5f"
          },
          "geo": {
           "bgcolor": "white",
           "lakecolor": "white",
           "landcolor": "#E5ECF6",
           "showlakes": true,
           "showland": true,
           "subunitcolor": "white"
          },
          "hoverlabel": {
           "align": "left"
          },
          "hovermode": "closest",
          "mapbox": {
           "style": "light"
          },
          "paper_bgcolor": "white",
          "plot_bgcolor": "#E5ECF6",
          "polar": {
           "angularaxis": {
            "gridcolor": "white",
            "linecolor": "white",
            "ticks": ""
           },
           "bgcolor": "#E5ECF6",
           "radialaxis": {
            "gridcolor": "white",
            "linecolor": "white",
            "ticks": ""
           }
          },
          "scene": {
           "xaxis": {
            "backgroundcolor": "#E5ECF6",
            "gridcolor": "white",
            "gridwidth": 2,
            "linecolor": "white",
            "showbackground": true,
            "ticks": "",
            "zerolinecolor": "white"
           },
           "yaxis": {
            "backgroundcolor": "#E5ECF6",
            "gridcolor": "white",
            "gridwidth": 2,
            "linecolor": "white",
            "showbackground": true,
            "ticks": "",
            "zerolinecolor": "white"
           },
           "zaxis": {
            "backgroundcolor": "#E5ECF6",
            "gridcolor": "white",
            "gridwidth": 2,
            "linecolor": "white",
            "showbackground": true,
            "ticks": "",
            "zerolinecolor": "white"
           }
          },
          "shapedefaults": {
           "line": {
            "color": "#2a3f5f"
           }
          },
          "ternary": {
           "aaxis": {
            "gridcolor": "white",
            "linecolor": "white",
            "ticks": ""
           },
           "baxis": {
            "gridcolor": "white",
            "linecolor": "white",
            "ticks": ""
           },
           "bgcolor": "#E5ECF6",
           "caxis": {
            "gridcolor": "white",
            "linecolor": "white",
            "ticks": ""
           }
          },
          "title": {
           "x": 0.05
          },
          "xaxis": {
           "automargin": true,
           "gridcolor": "white",
           "linecolor": "white",
           "ticks": "",
           "title": {
            "standoff": 15
           },
           "zerolinecolor": "white",
           "zerolinewidth": 2
          },
          "yaxis": {
           "automargin": true,
           "gridcolor": "white",
           "linecolor": "white",
           "ticks": "",
           "title": {
            "standoff": 15
           },
           "zerolinecolor": "white",
           "zerolinewidth": 2
          }
         }
        },
        "title": {
         "text": "<b>Performance by epoch and entity type"
        }
       }
      }
     },
     "metadata": {},
     "output_type": "display_data"
    }
   ],
   "source": [
    "data=[]\n",
    "for ent in df_scores.ent.unique():\n",
    "    df_plot = df_scores.loc[df_scores.ent == ent]\n",
    "    \n",
    "    trace=go.Scatter(\n",
    "                x=df_plot.epoch,\n",
    "                y=df_plot.val_score,\n",
    "                mode='lines',\n",
    "                marker=dict(\n",
    "                size=5\n",
    "                ),\n",
    "            name=ent,\n",
    "\n",
    "            )\n",
    "    data.append(trace)\n",
    "    \n",
    "figure=go.Figure(\n",
    "    data=data,\n",
    "    layout=go.Layout(\n",
    "        title=f\"<b>Performance by epoch and entity type\",\n",
    "    \n",
    "    ))\n",
    "iplot(figure)"
   ]
  },
  {
   "cell_type": "markdown",
   "id": "0047ec13",
   "metadata": {},
   "source": [
    "# Make predictions"
   ]
  },
  {
   "cell_type": "code",
   "execution_count": 1,
   "id": "9eaa944f",
   "metadata": {},
   "outputs": [],
   "source": [
    "text = '''Donald Trump mistook E Jean Carroll, the writer who accuses him of rape, for his ex-wife Marla Maples during a deposition in the case last year, excerpts released in US district court on Wednesday showed.\n",
    "\n",
    "“That’s Marla, yeah,” Trump said, when shown a photograph. “That’s my wife.”\n",
    "\n",
    "The mistake was corrected by a lawyer for the 76-year-old former president. But observers said it could undermine Trump’s claim he could not have attacked Carroll because she is not his “type”.\n",
    "\n",
    "It was not the first release of excerpts from Trump’s deposition, which happened in October. Last week, Trump was shown to have claimed Carroll “said it was very sexy to be raped”.\n",
    "\n",
    "Carroll says Trump raped her in a department store changing room in the mid-1990s. Trump denies it.\n",
    "\n",
    "Carroll sued Trump for defamation and under the Adult Survivors Act, a New York law which allows alleged victims of historical sexual assault to bring cases within a defined timeframe.\n",
    "\n",
    "Trump was married to Maples, the mother of his daughter Tiffany, from 1993 to 1999, between marriages to Ivana Trump, his first wife, and Melania Trump, his third and current spouse.\n",
    "\n",
    "The photograph he thought showed Maples shows Trump in Carroll’s company in the 1990s. In his deposition, Trump said it showed a “receiving line” at an event.'''"
   ]
  },
  {
   "cell_type": "code",
   "execution_count": 33,
   "id": "b88ee72a",
   "metadata": {},
   "outputs": [
    {
     "name": "stdout",
     "output_type": "stream",
     "text": [
      "geo : US\n",
      "tim : Wednesday\n",
      "tim : October\n",
      "geo : New York\n",
      "tim : from 1993 to 1999\n",
      "tim : 1990s\n"
     ]
    }
   ],
   "source": [
    "doc = nlp(text)    \n",
    "for ent in doc.ents:\n",
    "    print(f\"{ent.label_} : {ent.text}\")"
   ]
  },
  {
   "cell_type": "code",
   "execution_count": 34,
   "id": "f9e3a461",
   "metadata": {},
   "outputs": [],
   "source": [
    "colmap = {'geo': '\\033[93m\\033[1m',\n",
    " 'tim': '\\033[95m\\033[1m',\n",
    " 'gpe': '\\033[92m\\033[1m',\n",
    " 'nat': '\\033[96m\\033[1m',\n",
    " 'normal': '\\033[0m'}\n",
    "\n",
    "def highlight_entities(text, ents):\n",
    "    blue_bold_char = '\\033[94m\\033[1m'\n",
    "    back_to_normal = '\\033[0m'\n",
    "\n",
    "    previous_end=0\n",
    "    text_h =\"\"\n",
    "    for ent in ents[\"entities\"]:\n",
    "\n",
    "        start=ent[0]\n",
    "        end=ent[1]\n",
    "        ent_val = text[start:end]\n",
    "        try:\n",
    "            text_h = text_h + text[previous_end:start]+colmap[ent[2]] +ent_val+back_to_normal\n",
    "        except:\n",
    "            text_h = text_h + text[previous_end:start]+blue_bold_char +ent_val+back_to_normal\n",
    "        previous_end = end\n",
    "    text_h = text_h+text[previous_end:]\n",
    "    print(text_h)\n",
    "\n"
   ]
  },
  {
   "cell_type": "code",
   "execution_count": 35,
   "id": "c39037d8",
   "metadata": {},
   "outputs": [],
   "source": [
    "def text_to_entities(text, nlp):\n",
    "    print(colmap['geo'] + 'GEOGRAPHICAL ENTITIY' + colmap['normal'], '||',\n",
    "        colmap['tim'] + 'TIME INDICATOR' + colmap['normal'],'||',\n",
    "        colmap['gpe'] + 'GEOPOLITICAL ENTITIY' + colmap['normal'],'||',\n",
    "        colmap['nat'] + 'NATURAL PHENOMENON' + colmap['normal'])\n",
    "    print('')\n",
    "    doc = nlp(text)   \n",
    "    ents = doc.ents\n",
    "    entites = []\n",
    "    for ent in ents:\n",
    "        entites.append((ent.start_char, ent.end_char, ent.label_))\n",
    "        \n",
    "    output = (text, {\"entities\":entites})\n",
    "    highlight_entities(output[0], output[1])\n",
    "    return output"
   ]
  },
  {
   "cell_type": "code",
   "execution_count": 37,
   "id": "c58dd9d4",
   "metadata": {},
   "outputs": [
    {
     "name": "stdout",
     "output_type": "stream",
     "text": [
      "\u001b[93m\u001b[1mGEOGRAPHICAL ENTITIY\u001b[0m || \u001b[95m\u001b[1mTIME INDICATOR\u001b[0m || \u001b[92m\u001b[1mGEOPOLITICAL ENTITIY\u001b[0m || \u001b[96m\u001b[1mNATURAL PHENOMENON\u001b[0m\n",
      "\n",
      "Donald Trump mistook E Jean Carroll, the writer who accuses him of rape, for his ex-wife Marla Maples during a deposition in the case last year, excerpts released in \u001b[93m\u001b[1mUS\u001b[0m district court on \u001b[95m\u001b[1mWednesday\u001b[0m showed.\n",
      "\n",
      "“That’s Marla, yeah,” Trump said, when shown a photograph. “That’s my wife.”\n",
      "\n",
      "The mistake was corrected by a lawyer for the 76-year-old former president. But observers said it could undermine Trump’s claim he could not have attacked Carroll because she is not his “type”.\n",
      "\n",
      "It was not the first release of excerpts from Trump’s deposition, which happened in \u001b[95m\u001b[1mOctober\u001b[0m. Last week, Trump was shown to have claimed Carroll “said it was very sexy to be raped”.\n",
      "\n",
      "Carroll says Trump raped her in a department store changing room in the mid-1990s. Trump denies it.\n",
      "\n",
      "Carroll sued Trump for defamation and under the Adult Survivors Act, a \u001b[93m\u001b[1mNew York\u001b[0m law which allows alleged victims of historical sexual assault to bring cases within a defined timeframe.\n",
      "\n",
      "Trump was married to Maples, the mother of his daughter Tiffany, \u001b[95m\u001b[1mfrom 1993 to 1999\u001b[0m, between marriages to Ivana Trump, his first wife, and Melania Trump, his third and current spouse.\n",
      "\n",
      "The photograph he thought showed Maples shows Trump in Carroll’s company in the \u001b[95m\u001b[1m1990s\u001b[0m. In his deposition, Trump said it showed a “receiving line” at an event.\n"
     ]
    },
    {
     "data": {
      "text/plain": [
       "'D'"
      ]
     },
     "execution_count": 37,
     "metadata": {},
     "output_type": "execute_result"
    }
   ],
   "source": [
    "text_to_entities(text, nlp)[0][0]"
   ]
  },
  {
   "cell_type": "code",
   "execution_count": 38,
   "id": "667b3406",
   "metadata": {},
   "outputs": [],
   "source": [
    "text_2 = '''Germany is facing a backlash from allies over its reluctance to supply Leopard 2 tanks to bolster Ukraine’s fighting capacity in \n",
    "the nearly year-long war with Russia.On Friday, 50 countries agreed to provide Kyiv with billions of dollars’ worth of military hardware, \n",
    "including armoured vehicles and munitions needed to push back Russian forces.But the German defence minister, Boris Pistorius, told reporters \n",
    "t the US Ramstein airbase in Germany that despite heightened expectations, “we still cannot say when a decision will be taken, and what the \n",
    "decision will be, when it comes to the Leopard tank”.Ukraine on Saturday denounced the “global indecision” of its allies in providing \n",
    "heavy-duty modern tanks, saying “today’s indecision is killing more of our people”.“Every day of delay is the death of Ukrainians. \n",
    "Think faster,” tweeted presidential adviser Mykhailo Podolyak.Several allies echoed the Ukrainian president, Volodymyr Zelenskiy, in saying\n",
    " the tanks were essential to Ukraine’s fight with its much larger neighbour.In a joint statement – and a rare public criticism of Europe’s \n",
    " top power – the foreign ministers of the three Baltic states of Latvia, Estonia and Lithuania said they “call on Germany to provide Leopard\n",
    "   tanks to Ukraine now”.“This is needed to stop Russian aggression, help Ukraine and restore peace in Europe quickly. Germany as the leading \n",
    "   European power has special responsibility in this regard,” said the statement, tweeted by the Latvian foreign minister, Edgars Rinkēvičs.\n",
    "   Berlin has been hesitant to send the Leopards or allow other countries to transfer them to Kyiv, with reports earlier in the week saying \n",
    "   it would agree to do so only if the US provided its tanks as well. Washington has said providing its Abrams tanks to Ukraine is not \n",
    "   feasible, citing difficulties in training and maintenance.But expectations had grown ahead of Friday’s Ukraine contact group meeting of \n",
    "   about 50 US-led countries at Ramstein airbase that Germany would at least agree to let other countries operating Leopards transfer them \n",
    "   to Kyiv’s army.The US senator Lindsey Graham, a Republican from South Carolina who is visiting Kyiv, called on both sides to supply the \n",
    "   machines.“To the Germans: send tanks to Ukraine because they need them. It is in your own national interest that Putin loses in Ukraine.\n",
    "   “To the Biden administration: send American tanks so that others will follow our lead,” he tweeted.The pleas came as the Russian army said\n",
    "     its troops had launched an offensive in Ukraine’s Zaporizhzhia region, where fighting intensified this week after several months of an \n",
    "     almost frozen front.In its daily report on Saturday, Moscow’s forces said they had carried out “offensive operations” in the region and\n",
    "       claimed to have “taken more advantageous lines and positions”.'''"
   ]
  },
  {
   "cell_type": "code",
   "execution_count": 39,
   "id": "9c68f8bc",
   "metadata": {},
   "outputs": [
    {
     "name": "stdout",
     "output_type": "stream",
     "text": [
      "\u001b[93m\u001b[1mGEOGRAPHICAL ENTITIY\u001b[0m || \u001b[95m\u001b[1mTIME INDICATOR\u001b[0m || \u001b[92m\u001b[1mGEOPOLITICAL ENTITIY\u001b[0m || \u001b[96m\u001b[1mNATURAL PHENOMENON\u001b[0m\n",
      "\n",
      "\u001b[93m\u001b[1mGermany\u001b[0m is facing a backlash from allies over its reluctance to supply Leopard 2 tanks to bolster Ukraine’s fighting capacity in \n",
      "the nearly \u001b[95m\u001b[1myear-long\u001b[0m war with \u001b[93m\u001b[1mRussia\u001b[0m.On \u001b[95m\u001b[1mFriday\u001b[0m, 50 countries agreed to provide Kyiv with billions of dollars’ worth of military hardware, \n",
      "including armoured vehicles and munitions needed to push back \u001b[92m\u001b[1mRussian\u001b[0m forces.But the \u001b[92m\u001b[1mGerman\u001b[0m defence minister, Boris Pistorius, told reporters \n",
      "t the \u001b[93m\u001b[1mUS\u001b[0m Ramstein airbase in \u001b[93m\u001b[1mGermany\u001b[0m that despite heightened expectations, “we still cannot say when a decision will be taken, and what the \n",
      "decision will be, when it comes to the Leopard tank”.\u001b[93m\u001b[1mUkraine\u001b[0m on \u001b[95m\u001b[1mSaturday\u001b[0m denounced the “global indecision” of its allies in providing \n",
      "heavy-duty modern tanks, saying “today’s indecision is killing more of our people”.“Every day of delay is the death of Ukrainians. \n",
      "Think faster,” tweeted presidential adviser Mykhailo Podolyak.Several allies echoed the \u001b[92m\u001b[1mUkrainian\u001b[0m president, Volodymyr Zelenskiy, in saying\n",
      " the tanks were essential to Ukraine’s fight with its much larger neighbour.In a joint statement – and a rare public criticism of Europe’s \n",
      " top power – the foreign ministers of the three Baltic states of \u001b[93m\u001b[1mLatvia\u001b[0m, \u001b[93m\u001b[1mEstonia\u001b[0m and Lithuania said they “call on \u001b[93m\u001b[1mGermany\u001b[0m to provide Leopard\n",
      "   tanks to \u001b[93m\u001b[1mUkraine\u001b[0m now”.“This is needed to stop \u001b[92m\u001b[1mRussian\u001b[0m aggression, help \u001b[93m\u001b[1mUkraine\u001b[0m and restore peace in \u001b[93m\u001b[1mEurope\u001b[0m quickly. Germany as the leading \n",
      "   European power has special responsibility in this regard,” said the statement, tweeted by the \u001b[92m\u001b[1mLatvian\u001b[0m foreign minister, Edgars Rinkēvičs.\n",
      "   \u001b[93m\u001b[1mBerlin\u001b[0m has been hesitant to send the Leopards or allow other countries to transfer them to Kyiv, with reports earlier in the week saying \n",
      "   it would agree to do so only if the \u001b[93m\u001b[1mUS\u001b[0m provided its tanks as well. \u001b[93m\u001b[1mWashington\u001b[0m has said providing its Abrams tanks to \u001b[93m\u001b[1mUkraine\u001b[0m is not \n",
      "   feasible, citing difficulties in training and maintenance.But expectations had grown ahead of \u001b[95m\u001b[1mFriday\u001b[0m’s Ukraine contact group meeting of \n",
      "   about 50 US-led countries at \u001b[93m\u001b[1mRamstein\u001b[0m airbase that \u001b[93m\u001b[1mGermany\u001b[0m would at least agree to let other countries operating Leopards transfer them \n",
      "   to Kyiv’s army.The \u001b[92m\u001b[1mUS\u001b[0m senator Lindsey Graham, a Republican from \u001b[93m\u001b[1mSouth Carolina\u001b[0m who is visiting Kyiv, called on both sides to supply the \n",
      "   machines.“To the Germans: send tanks to \u001b[93m\u001b[1mUkraine\u001b[0m because they need them. It is in your own national interest that Putin loses in \u001b[93m\u001b[1mUkraine\u001b[0m.\n",
      "   “To the Biden administration: send \u001b[92m\u001b[1mAmerican\u001b[0m tanks so that others will follow our lead,” he tweeted.The pleas came as the \u001b[92m\u001b[1mRussian\u001b[0m army said\n",
      "     its troops had launched an offensive in \u001b[93m\u001b[1mUkraine’s Zaporizhzhia\u001b[0m region, where fighting intensified this week after several months of an \n",
      "     almost frozen front.In its daily report on \u001b[95m\u001b[1mSaturday\u001b[0m, Moscow’s forces said they had carried out “offensive operations” in the region and\n",
      "       claimed to have “taken more advantageous lines and positions”.\n"
     ]
    },
    {
     "data": {
      "text/plain": [
       "'G'"
      ]
     },
     "execution_count": 39,
     "metadata": {},
     "output_type": "execute_result"
    }
   ],
   "source": [
    "text_to_entities(text_2, nlp)[0][0]"
   ]
  },
  {
   "cell_type": "code",
   "execution_count": null,
   "id": "4988da30",
   "metadata": {},
   "outputs": [],
   "source": [
    "def save_spacy_model(nlp, model_path):\n",
    "    nlp.to_disk(f'{model_path}')\n",
    "    print(f\"Saved model to {model_path}\")\n",
    "    bytes_data = nlp.to_bytes()\n",
    "\n",
    "    f = open(f'{model_path}/bytes_data.bin', 'wb')\n",
    "    f.write(bytes_data)\n",
    "    f.close()\n",
    "    print(f\"Saved bytes_data to f'{model_path}/bytes_data.bin'\")"
   ]
  },
  {
   "cell_type": "code",
   "execution_count": null,
   "id": "cd81cc27",
   "metadata": {},
   "outputs": [],
   "source": [
    "#save_spacy_model(nlp, \"ner_per_and_org_3_do_05_e_10_bs_32_md\")"
   ]
  },
  {
   "attachments": {},
   "cell_type": "markdown",
   "id": "f4f59361",
   "metadata": {},
   "source": [
    "</br>\n",
    "</br>\n",
    "</br>\n",
    "</br>\n",
    "</br>\n",
    "</br>\n",
    "</br>\n",
    "</br>\n",
    "</br>\n",
    "</br>\n",
    "</br>\n",
    "</br>\n",
    "</br>\n",
    "</br>\n",
    "</br>\n",
    "</br>\n",
    "</br>\n",
    "</br>\n",
    "</br>\n",
    "</br>\n",
    "</br>\n",
    "\n",
    "\n",
    "---\n",
    "# Appendix"
   ]
  },
  {
   "cell_type": "code",
   "execution_count": null,
   "id": "bf7a5bc9",
   "metadata": {},
   "outputs": [],
   "source": [
    "obj = text_to_entities(text, nlp)"
   ]
  },
  {
   "cell_type": "code",
   "execution_count": null,
   "id": "1dab56c2",
   "metadata": {},
   "outputs": [],
   "source": [
    "rang = len(obj[1]['entities'])\n",
    "listent = []\n",
    "for i in range(rang):\n",
    "    listent.append(obj[1]['entities'][i][2])\n",
    "\n",
    "listent = pd.unique(listent)\n",
    "\n",
    "len(listent)\n",
    "\n",
    "# colmap = {'PERSON': '\\x1b[95m\\x1b[1m',\n",
    "#  'DATE': '\\x1b[96m\\x1b[1m',\n",
    "#  'GPE': '\\x1b[36m\\x1b[1m',\n",
    "#  'ORG': '\\x1b[94m\\x1b[1m',\n",
    "#  'ORDINAL': '\\x1b[92m\\x1b[1m',\n",
    "#  'LAW': '\\x1b[93m\\x1b[1m',\n",
    "#  'NORP': '\\x1b[91m\\x1b[1m',\n",
    "#  'PRODUCT': '\\x1b[90m\\x1b[1m'}\n",
    "\n",
    "# coldi = {'PURPLE' : '\\033[95m\\033[1m',\n",
    "#    'CYAN' : '\\033[96m\\033[1m',\n",
    "#    'DARKCYAN' : '\\033[36m\\033[1m',\n",
    "#    'BLUE' : '\\033[94m\\033[1m',\n",
    "#    'GREEN' : '\\033[92m\\033[1m',\n",
    "#    'YELLOW' : '\\033[93m\\033[1m',\n",
    "#    'RED' : '\\033[91m\\033[1m',\n",
    "#    'GRAY' : '\\033[90m\\033[1m',\n",
    "# }\n",
    "# colors = list(coldi.values())\n",
    "\n",
    "\n",
    "# colmap = dict(zip(listent, colors))\n",
    "# colmap"
   ]
  },
  {
   "cell_type": "code",
   "execution_count": 66,
   "id": "6eae6b6d",
   "metadata": {},
   "outputs": [],
   "source": [
    "colmap = {'geo': '\\x1b[95m\\x1b[1m',\n",
    " 'tim': '\\x1b[96m\\x1b[1m',\n",
    " 'gpe': '\\x1b[36m\\x1b[1m',\n",
    " 'nat': '\\x1b[94m\\x1b[1m'\n",
    " }\n",
    "\n",
    "def highlight_entities(text, ents):\n",
    "    blue_bold_char = '\\033[94m\\033[1m'\n",
    "    back_to_normal = '\\033[0m'\n",
    "\n",
    "    previous_end=0\n",
    "    text_h =\"\"\n",
    "    for ent in ents[\"entities\"]:\n",
    "\n",
    "        start=ent[0]\n",
    "        end=ent[1]\n",
    "        ent_val = text[start:end]\n",
    "        try:\n",
    "            text_h = text_h + text[previous_end:start]+colmap[ent[2]] +ent_val+back_to_normal\n",
    "        except:\n",
    "            text_h = text_h + text[previous_end:start]+blue_bold_char +ent_val+back_to_normal\n",
    "        previous_end = end\n",
    "    text_h = text_h+text[previous_end:]\n",
    "    print(text_h)"
   ]
  },
  {
   "cell_type": "code",
   "execution_count": 67,
   "id": "66a34b26",
   "metadata": {},
   "outputs": [],
   "source": [
    "def text_to_entities(text, nlp):\n",
    "    print()\n",
    "    doc = nlp(text)   \n",
    "    ents = doc.ents\n",
    "    entites = []\n",
    "    for ent in ents:\n",
    "        entites.append((ent.start_char, ent.end_char, ent.label_))\n",
    "        \n",
    "    output = (text, {\"entities\":entites})\n",
    "    highlight_entities(output[0], output[1])\n",
    "    return output"
   ]
  }
 ],
 "metadata": {
  "kernelspec": {
   "display_name": "venv",
   "language": "python",
   "name": "python3"
  },
  "language_info": {
   "codemirror_mode": {
    "name": "ipython",
    "version": 3
   },
   "file_extension": ".py",
   "mimetype": "text/x-python",
   "name": "python",
   "nbconvert_exporter": "python",
   "pygments_lexer": "ipython3",
   "version": "3.10.5 (tags/v3.10.5:f377153, Jun  6 2022, 16:14:13) [MSC v.1929 64 bit (AMD64)]"
  },
  "toc": {
   "base_numbering": 1,
   "nav_menu": {},
   "number_sections": true,
   "sideBar": true,
   "skip_h1_title": false,
   "title_cell": "Table of Contents",
   "title_sidebar": "Contents",
   "toc_cell": false,
   "toc_position": {},
   "toc_section_display": true,
   "toc_window_display": false
  },
  "vscode": {
   "interpreter": {
    "hash": "5c7757c61c3038b6a2966176a66f79e9ef47a8224ad718662941cbc29bb3b6ef"
   }
  }
 },
 "nbformat": 4,
 "nbformat_minor": 5
}
