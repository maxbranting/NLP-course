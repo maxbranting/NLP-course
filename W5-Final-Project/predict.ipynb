{
 "cells": [
  {
   "cell_type": "code",
   "execution_count": null,
   "metadata": {},
   "outputs": [],
   "source": [
    "import spacy"
   ]
  },
  {
   "cell_type": "code",
   "execution_count": null,
   "metadata": {},
   "outputs": [],
   "source": [
    "model_sm = ''\n",
    "model_md = ''\n",
    "model_lg = 'models/ner_per_and_org_4_dp_01_e_10_bs_256_lg'"
   ]
  },
  {
   "cell_type": "code",
   "execution_count": null,
   "metadata": {},
   "outputs": [],
   "source": [
    "def load_spacy_model(model_path, base_model = \"en_core_web_sm\"):\n",
    "\n",
    "    nlp = spacy.load(base_model)\n",
    "    file = open(f'{model_path}/bytes_data.bin',\"rb\")\n",
    "    bytes_data = file.read()\n",
    "    config = nlp.config\n",
    "    lang_cls = spacy.util.get_lang_class(\"en\")\n",
    "    nlp = lang_cls.from_config(config)\n",
    "    nlp = nlp.from_disk(f'{model_path}')\n",
    "    \n",
    "    return nlp"
   ]
  },
  {
   "attachments": {},
   "cell_type": "markdown",
   "metadata": {},
   "source": [
    "---\n",
    "# Predictions"
   ]
  },
  {
   "cell_type": "code",
   "execution_count": null,
   "metadata": {},
   "outputs": [],
   "source": [
    "colmap = {'geo': '\\033[93m\\033[1m',\n",
    " 'tim': '\\033[95m\\033[1m',\n",
    " 'gpe': '\\033[92m\\033[1m',\n",
    " 'nat': '\\033[96m\\033[1m',\n",
    " 'normal': '\\033[0m'}\n",
    "\n",
    "def highlight_entities(text, ents):\n",
    "    blue_bold_char = '\\033[94m\\033[1m'\n",
    "    back_to_normal = '\\033[0m'\n",
    "\n",
    "    previous_end=0\n",
    "    text_h =\"\"\n",
    "    for ent in ents[\"entities\"]:\n",
    "\n",
    "        start=ent[0]\n",
    "        end=ent[1]\n",
    "        ent_val = text[start:end]\n",
    "        try:\n",
    "            text_h = text_h + text[previous_end:start]+colmap[ent[2]] +ent_val+back_to_normal\n",
    "        except:\n",
    "            text_h = text_h + text[previous_end:start]+blue_bold_char +ent_val+back_to_normal\n",
    "        previous_end = end\n",
    "    text_h = text_h+text[previous_end:]\n",
    "    print(text_h)\n",
    "\n",
    "def text_to_entities(text, nlp):\n",
    "    print(colmap['geo'] + 'GEOGRAPHICAL ENTITIY' + colmap['normal'], '||',\n",
    "        colmap['tim'] + 'TIME INDICATOR' + colmap['normal'],'||',\n",
    "        colmap['gpe'] + 'GEOPOLITICAL ENTITIY' + colmap['normal'],'||',\n",
    "        colmap['nat'] + 'NATURAL PHENOMENON' + colmap['normal'])\n",
    "    print('')\n",
    "    doc = nlp(text)   \n",
    "    ents = doc.ents\n",
    "    entites = []\n",
    "    for ent in ents:\n",
    "        entites.append((ent.start_char, ent.end_char, ent.label_))\n",
    "        \n",
    "    output = (text, {\"entities\":entites})\n",
    "    highlight_entities(output[0], output[1])\n",
    "    return output"
   ]
  },
  {
   "cell_type": "code",
   "execution_count": null,
   "metadata": {},
   "outputs": [],
   "source": [
    "large = load_spacy_model(model_lg, base_model='en_core_web_lg')\n",
    "medium = load_spacy_model(model_md, base_model='en_core_web_md')\n",
    "small = load_spacy_model(model_sm, base_model='en_core_web_sm')"
   ]
  },
  {
   "attachments": {},
   "cell_type": "markdown",
   "metadata": {},
   "source": [
    "---\n",
    "## 1. All models"
   ]
  },
  {
   "cell_type": "code",
   "execution_count": null,
   "metadata": {},
   "outputs": [],
   "source": [
    "text1 = '''\n",
    "\n",
    "'''\n",
    "\n",
    "text2 = '''\n",
    "\n",
    "'''"
   ]
  },
  {
   "cell_type": "code",
   "execution_count": null,
   "metadata": {},
   "outputs": [],
   "source": [
    "text_to_entities(text1, large)[0][0]\n",
    "text_to_entities(text1, medium)[0][0]\n",
    "text_to_entities(text1, small)[0][0]"
   ]
  },
  {
   "cell_type": "code",
   "execution_count": null,
   "metadata": {},
   "outputs": [],
   "source": [
    "text_to_entities(text2, large)[0][0]\n",
    "text_to_entities(text2, medium)[0][0]\n",
    "text_to_entities(text2, small)[0][0]"
   ]
  },
  {
   "attachments": {},
   "cell_type": "markdown",
   "metadata": {},
   "source": [
    "\n",
    "## 2. Best model"
   ]
  },
  {
   "cell_type": "code",
   "execution_count": null,
   "metadata": {},
   "outputs": [],
   "source": [
    "text_irl = '''\n",
    "\n",
    "'''"
   ]
  },
  {
   "cell_type": "code",
   "execution_count": null,
   "metadata": {},
   "outputs": [],
   "source": [
    "text_to_entities(text_irl, INSERT_MODEL_HERE)[0][0]"
   ]
  }
 ],
 "metadata": {
  "kernelspec": {
   "display_name": "nlp",
   "language": "python",
   "name": "python3"
  },
  "language_info": {
   "name": "python",
   "version": "3.10.9 | packaged by conda-forge | (main, Jan 11 2023, 15:15:40) [MSC v.1916 64 bit (AMD64)]"
  },
  "orig_nbformat": 4,
  "vscode": {
   "interpreter": {
    "hash": "5f489c0c09ff820f8ee5076ec4759de7add446fa379c2c24790f576095cb7fd3"
   }
  }
 },
 "nbformat": 4,
 "nbformat_minor": 2
}
